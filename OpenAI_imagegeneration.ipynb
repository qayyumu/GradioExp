{
 "cells": [
  {
   "cell_type": "markdown",
   "metadata": {},
   "source": [
    "<a href=\"https://colab.research.google.com/github/qayyumu/GradioExp/blob/main/OpenAI_imagegeneration.ipynb\" target=\"_parent\"><img src=\"https://colab.research.google.com/assets/colab-badge.svg\" alt=\"Open In Colab\"/></a>"
   ]
  },
  {
   "cell_type": "code",
   "execution_count": 1,
   "metadata": {},
   "outputs": [
    {
     "name": "stdout",
     "output_type": "stream",
     "text": [
      "Requirement already satisfied: openai in /Users/anaconda3/envs/torchEnv/lib/python3.10/site-packages (1.35.3)\n",
      "Requirement already satisfied: anyio<5,>=3.5.0 in /Users/anaconda3/envs/torchEnv/lib/python3.10/site-packages (from openai) (3.7.1)\n",
      "Requirement already satisfied: sniffio in /Users/anaconda3/envs/torchEnv/lib/python3.10/site-packages (from openai) (1.2.0)\n",
      "Requirement already satisfied: pydantic<3,>=1.9.0 in /Users/anaconda3/envs/torchEnv/lib/python3.10/site-packages (from openai) (2.4.2)\n",
      "Requirement already satisfied: httpx<1,>=0.23.0 in /Users/anaconda3/envs/torchEnv/lib/python3.10/site-packages (from openai) (0.26.0)\n",
      "Requirement already satisfied: distro<2,>=1.7.0 in /Users/anaconda3/envs/torchEnv/lib/python3.10/site-packages (from openai) (1.9.0)\n",
      "Requirement already satisfied: tqdm>4 in /Users/anaconda3/envs/torchEnv/lib/python3.10/site-packages (from openai) (4.66.4)\n",
      "Requirement already satisfied: typing-extensions<5,>=4.7 in /Users/anaconda3/envs/torchEnv/lib/python3.10/site-packages (from openai) (4.12.2)\n",
      "Requirement already satisfied: idna>=2.8 in /Users/anaconda3/envs/torchEnv/lib/python3.10/site-packages (from anyio<5,>=3.5.0->openai) (3.4)\n",
      "Requirement already satisfied: exceptiongroup in /Users/anaconda3/envs/torchEnv/lib/python3.10/site-packages (from anyio<5,>=3.5.0->openai) (1.0.4)\n",
      "Requirement already satisfied: certifi in /Users/anaconda3/envs/torchEnv/lib/python3.10/site-packages (from httpx<1,>=0.23.0->openai) (2024.2.2)\n",
      "Requirement already satisfied: httpcore==1.* in /Users/anaconda3/envs/torchEnv/lib/python3.10/site-packages (from httpx<1,>=0.23.0->openai) (1.0.2)\n",
      "Requirement already satisfied: h11<0.15,>=0.13 in /Users/anaconda3/envs/torchEnv/lib/python3.10/site-packages (from httpcore==1.*->httpx<1,>=0.23.0->openai) (0.14.0)\n",
      "Requirement already satisfied: pydantic-core==2.10.1 in /Users/anaconda3/envs/torchEnv/lib/python3.10/site-packages (from pydantic<3,>=1.9.0->openai) (2.10.1)\n",
      "Requirement already satisfied: annotated-types>=0.4.0 in /Users/anaconda3/envs/torchEnv/lib/python3.10/site-packages (from pydantic<3,>=1.9.0->openai) (0.6.0)\n",
      "Requirement already satisfied: python-dotenv in /Users/anaconda3/envs/torchEnv/lib/python3.10/site-packages (1.0.1)\n"
     ]
    }
   ],
   "source": [
    "!pip install openai\n",
    "!pip install python-dotenv"
   ]
  },
  {
   "cell_type": "code",
   "execution_count": 2,
   "metadata": {},
   "outputs": [],
   "source": [
    "from openai import OpenAI\n",
    "import os\n",
    "import openai"
   ]
  },
  {
   "cell_type": "code",
   "execution_count": 3,
   "metadata": {},
   "outputs": [],
   "source": [
    "from dotenv import load_dotenv\n",
    "load_dotenv()\n",
    "openai.api_key = %env OPENAI_API_KEY\n",
    "client = OpenAI()\n",
    "\n",
    "\n",
    "# openai.api_key = os.environ[\"OPENAI_API_KEY\"]\n",
    "#client = OpenAI()\n",
    "\n",
    "###for colab, add the secret key\n",
    "# from google.colab import userdata\n",
    "# client = OpenAI(api_key = userdata.get('OPENAI_API_KEY'))"
   ]
  },
  {
   "cell_type": "code",
   "execution_count": 4,
   "metadata": {},
   "outputs": [],
   "source": [
    "response = client.images.generate(\n",
    "  model=\"dall-e-3\",\n",
    "  prompt=\"A Pakistani flag with faisal mosque in the background\",\n",
    "  size=\"1024x1024\",\n",
    "  quality=\"standard\",\n",
    "  n=1,\n",
    ")\n"
   ]
  },
  {
   "cell_type": "code",
   "execution_count": 6,
   "metadata": {},
   "outputs": [
    {
     "name": "stdout",
     "output_type": "stream",
     "text": [
      "https://oaidalleapiprodscus.blob.core.windows.net/private/org-JyAkz4QnqV4XW4LnHFGCRijc/user-lpgRk7nrOE7gcsclMFlYFuGW/img-igrGuXzw1caOeaYHx0FzJJA5.png?st=2024-07-20T10%3A29%3A17Z&se=2024-07-20T12%3A29%3A17Z&sp=r&sv=2023-11-03&sr=b&rscd=inline&rsct=image/png&skoid=6aaadede-4fb3-4698-a8f6-684d7786b067&sktid=a48cca56-e6da-484e-a814-9c849652bcb3&skt=2024-07-19T23%3A22%3A34Z&ske=2024-07-20T23%3A22%3A34Z&sks=b&skv=2023-11-03&sig=QmSt/TMjfyh0/4cT1G9hrHS%2BhiAcB/Cj3%2BsngfbyzHM%3D\n"
     ]
    }
   ],
   "source": [
    "image_url = response.data[0].url\n",
    "print(image_url)"
   ]
  },
  {
   "cell_type": "code",
   "execution_count": 9,
   "metadata": {},
   "outputs": [
    {
     "data": {
      "text/html": [
       "<img src=\"https://oaidalleapiprodscus.blob.core.windows.net/private/org-JyAkz4QnqV4XW4LnHFGCRijc/user-lpgRk7nrOE7gcsclMFlYFuGW/img-igrGuXzw1caOeaYHx0FzJJA5.png?st=2024-07-20T10%3A29%3A17Z&se=2024-07-20T12%3A29%3A17Z&sp=r&sv=2023-11-03&sr=b&rscd=inline&rsct=image/png&skoid=6aaadede-4fb3-4698-a8f6-684d7786b067&sktid=a48cca56-e6da-484e-a814-9c849652bcb3&skt=2024-07-19T23%3A22%3A34Z&ske=2024-07-20T23%3A22%3A34Z&sks=b&skv=2023-11-03&sig=QmSt/TMjfyh0/4cT1G9hrHS%2BhiAcB/Cj3%2BsngfbyzHM%3D\"/>"
      ],
      "text/plain": [
       "<IPython.core.display.Image object>"
      ]
     },
     "execution_count": 9,
     "metadata": {},
     "output_type": "execute_result"
    }
   ],
   "source": [
    "from IPython.display import Image\n",
    "Image(url= image_url)"
   ]
  },
  {
   "cell_type": "code",
   "execution_count": null,
   "metadata": {},
   "outputs": [],
   "source": []
  }
 ],
 "metadata": {
  "kernelspec": {
   "display_name": "torchEnv",
   "language": "python",
   "name": "torchenv"
  },
  "language_info": {
   "codemirror_mode": {
    "name": "ipython",
    "version": 3
   },
   "file_extension": ".py",
   "mimetype": "text/x-python",
   "name": "python",
   "nbconvert_exporter": "python",
   "pygments_lexer": "ipython3",
   "version": "3.10.8"
  }
 },
 "nbformat": 4,
 "nbformat_minor": 2
}
