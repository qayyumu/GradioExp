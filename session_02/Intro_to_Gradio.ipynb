{
  "cells": [
    {
      "cell_type": "markdown",
      "metadata": {
        "colab_type": "text",
        "id": "view-in-github"
      },
      "source": [
        "<a href=\"https://colab.research.google.com/github/qayyumu/GradioExp/blob/main/session_02/Intro_to_Gradio.ipynb\" target=\"_parent\"><img src=\"https://colab.research.google.com/assets/colab-badge.svg\" alt=\"Open In Colab\"/></a>"
      ]
    },
    {
      "cell_type": "code",
      "execution_count": 1,
      "metadata": {},
      "outputs": [
        {
          "name": "stdout",
          "output_type": "stream",
          "text": [
            "Requirement already satisfied: gradio in /home/reso/anaconda3/lib/python3.11/site-packages (4.42.0)\n",
            "Requirement already satisfied: aiofiles<24.0,>=22.0 in /home/reso/anaconda3/lib/python3.11/site-packages (from gradio) (23.2.1)\n",
            "Requirement already satisfied: anyio<5.0,>=3.0 in /home/reso/anaconda3/lib/python3.11/site-packages (from gradio) (4.2.0)\n",
            "Requirement already satisfied: fastapi in /home/reso/anaconda3/lib/python3.11/site-packages (from gradio) (0.112.2)\n",
            "Requirement already satisfied: ffmpy in /home/reso/anaconda3/lib/python3.11/site-packages (from gradio) (0.4.0)\n",
            "Requirement already satisfied: gradio-client==1.3.0 in /home/reso/anaconda3/lib/python3.11/site-packages (from gradio) (1.3.0)\n",
            "Requirement already satisfied: httpx>=0.24.1 in /home/reso/anaconda3/lib/python3.11/site-packages (from gradio) (0.27.2)\n",
            "Requirement already satisfied: huggingface-hub>=0.19.3 in /home/reso/anaconda3/lib/python3.11/site-packages (from gradio) (0.24.6)\n",
            "Requirement already satisfied: importlib-resources<7.0,>=1.3 in /home/reso/anaconda3/lib/python3.11/site-packages (from gradio) (6.4.4)\n",
            "Requirement already satisfied: jinja2<4.0 in /home/reso/anaconda3/lib/python3.11/site-packages (from gradio) (3.1.3)\n",
            "Requirement already satisfied: markupsafe~=2.0 in /home/reso/anaconda3/lib/python3.11/site-packages (from gradio) (2.1.3)\n",
            "Requirement already satisfied: matplotlib~=3.0 in /home/reso/anaconda3/lib/python3.11/site-packages (from gradio) (3.8.0)\n",
            "Requirement already satisfied: numpy<3.0,>=1.0 in /home/reso/anaconda3/lib/python3.11/site-packages (from gradio) (1.26.4)\n",
            "Requirement already satisfied: orjson~=3.0 in /home/reso/anaconda3/lib/python3.11/site-packages (from gradio) (3.10.7)\n",
            "Requirement already satisfied: packaging in /home/reso/anaconda3/lib/python3.11/site-packages (from gradio) (24.1)\n",
            "Requirement already satisfied: pandas<3.0,>=1.0 in /home/reso/anaconda3/lib/python3.11/site-packages (from gradio) (2.1.4)\n",
            "Requirement already satisfied: pillow<11.0,>=8.0 in /home/reso/anaconda3/lib/python3.11/site-packages (from gradio) (10.3.0)\n",
            "Requirement already satisfied: pydantic>=2.0 in /home/reso/anaconda3/lib/python3.11/site-packages (from gradio) (2.8.2)\n",
            "Requirement already satisfied: pydub in /home/reso/anaconda3/lib/python3.11/site-packages (from gradio) (0.25.1)\n",
            "Requirement already satisfied: python-multipart>=0.0.9 in /home/reso/anaconda3/lib/python3.11/site-packages (from gradio) (0.0.9)\n",
            "Requirement already satisfied: pyyaml<7.0,>=5.0 in /home/reso/anaconda3/lib/python3.11/site-packages (from gradio) (6.0.1)\n",
            "Requirement already satisfied: ruff>=0.2.2 in /home/reso/anaconda3/lib/python3.11/site-packages (from gradio) (0.6.3)\n",
            "Requirement already satisfied: semantic-version~=2.0 in /home/reso/anaconda3/lib/python3.11/site-packages (from gradio) (2.10.0)\n",
            "Requirement already satisfied: tomlkit==0.12.0 in /home/reso/anaconda3/lib/python3.11/site-packages (from gradio) (0.12.0)\n",
            "Requirement already satisfied: typer<1.0,>=0.12 in /home/reso/anaconda3/lib/python3.11/site-packages (from gradio) (0.12.5)\n",
            "Requirement already satisfied: typing-extensions~=4.0 in /home/reso/anaconda3/lib/python3.11/site-packages (from gradio) (4.12.2)\n",
            "Requirement already satisfied: urllib3~=2.0 in /home/reso/anaconda3/lib/python3.11/site-packages (from gradio) (2.2.2)\n",
            "Requirement already satisfied: uvicorn>=0.14.0 in /home/reso/anaconda3/lib/python3.11/site-packages (from gradio) (0.30.6)\n",
            "Requirement already satisfied: fsspec in /home/reso/anaconda3/lib/python3.11/site-packages (from gradio-client==1.3.0->gradio) (2023.10.0)\n",
            "Requirement already satisfied: websockets<13.0,>=10.0 in /home/reso/anaconda3/lib/python3.11/site-packages (from gradio-client==1.3.0->gradio) (12.0)\n",
            "Requirement already satisfied: idna>=2.8 in /home/reso/anaconda3/lib/python3.11/site-packages (from anyio<5.0,>=3.0->gradio) (3.4)\n",
            "Requirement already satisfied: sniffio>=1.1 in /home/reso/anaconda3/lib/python3.11/site-packages (from anyio<5.0,>=3.0->gradio) (1.3.0)\n",
            "Requirement already satisfied: certifi in /home/reso/anaconda3/lib/python3.11/site-packages (from httpx>=0.24.1->gradio) (2024.2.2)\n",
            "Requirement already satisfied: httpcore==1.* in /home/reso/anaconda3/lib/python3.11/site-packages (from httpx>=0.24.1->gradio) (1.0.5)\n",
            "Requirement already satisfied: h11<0.15,>=0.13 in /home/reso/anaconda3/lib/python3.11/site-packages (from httpcore==1.*->httpx>=0.24.1->gradio) (0.14.0)\n",
            "Requirement already satisfied: filelock in /home/reso/anaconda3/lib/python3.11/site-packages (from huggingface-hub>=0.19.3->gradio) (3.14.0)\n",
            "Requirement already satisfied: requests in /home/reso/anaconda3/lib/python3.11/site-packages (from huggingface-hub>=0.19.3->gradio) (2.32.3)\n",
            "Requirement already satisfied: tqdm>=4.42.1 in /home/reso/anaconda3/lib/python3.11/site-packages (from huggingface-hub>=0.19.3->gradio) (4.66.5)\n",
            "Requirement already satisfied: contourpy>=1.0.1 in /home/reso/anaconda3/lib/python3.11/site-packages (from matplotlib~=3.0->gradio) (1.2.0)\n",
            "Requirement already satisfied: cycler>=0.10 in /home/reso/anaconda3/lib/python3.11/site-packages (from matplotlib~=3.0->gradio) (0.11.0)\n",
            "Requirement already satisfied: fonttools>=4.22.0 in /home/reso/anaconda3/lib/python3.11/site-packages (from matplotlib~=3.0->gradio) (4.25.0)\n",
            "Requirement already satisfied: kiwisolver>=1.0.1 in /home/reso/anaconda3/lib/python3.11/site-packages (from matplotlib~=3.0->gradio) (1.4.4)\n",
            "Requirement already satisfied: pyparsing>=2.3.1 in /home/reso/anaconda3/lib/python3.11/site-packages (from matplotlib~=3.0->gradio) (3.0.9)\n",
            "Requirement already satisfied: python-dateutil>=2.7 in /home/reso/anaconda3/lib/python3.11/site-packages (from matplotlib~=3.0->gradio) (2.8.2)\n",
            "Requirement already satisfied: pytz>=2020.1 in /home/reso/anaconda3/lib/python3.11/site-packages (from pandas<3.0,>=1.0->gradio) (2024.1)\n",
            "Requirement already satisfied: tzdata>=2022.1 in /home/reso/anaconda3/lib/python3.11/site-packages (from pandas<3.0,>=1.0->gradio) (2023.3)\n",
            "Requirement already satisfied: annotated-types>=0.4.0 in /home/reso/anaconda3/lib/python3.11/site-packages (from pydantic>=2.0->gradio) (0.7.0)\n",
            "Requirement already satisfied: pydantic-core==2.20.1 in /home/reso/anaconda3/lib/python3.11/site-packages (from pydantic>=2.0->gradio) (2.20.1)\n",
            "Requirement already satisfied: click>=8.0.0 in /home/reso/anaconda3/lib/python3.11/site-packages (from typer<1.0,>=0.12->gradio) (8.1.7)\n",
            "Requirement already satisfied: shellingham>=1.3.0 in /home/reso/anaconda3/lib/python3.11/site-packages (from typer<1.0,>=0.12->gradio) (1.5.4)\n",
            "Requirement already satisfied: rich>=10.11.0 in /home/reso/anaconda3/lib/python3.11/site-packages (from typer<1.0,>=0.12->gradio) (13.8.0)\n",
            "Requirement already satisfied: starlette<0.39.0,>=0.37.2 in /home/reso/anaconda3/lib/python3.11/site-packages (from fastapi->gradio) (0.38.2)\n",
            "Requirement already satisfied: six>=1.5 in /home/reso/anaconda3/lib/python3.11/site-packages (from python-dateutil>=2.7->matplotlib~=3.0->gradio) (1.16.0)\n",
            "Requirement already satisfied: markdown-it-py>=2.2.0 in /home/reso/anaconda3/lib/python3.11/site-packages (from rich>=10.11.0->typer<1.0,>=0.12->gradio) (2.2.0)\n",
            "Requirement already satisfied: pygments<3.0.0,>=2.13.0 in /home/reso/anaconda3/lib/python3.11/site-packages (from rich>=10.11.0->typer<1.0,>=0.12->gradio) (2.15.1)\n",
            "Requirement already satisfied: charset-normalizer<4,>=2 in /home/reso/anaconda3/lib/python3.11/site-packages (from requests->huggingface-hub>=0.19.3->gradio) (2.0.4)\n",
            "Requirement already satisfied: mdurl~=0.1 in /home/reso/anaconda3/lib/python3.11/site-packages (from markdown-it-py>=2.2.0->rich>=10.11.0->typer<1.0,>=0.12->gradio) (0.1.0)\n"
          ]
        }
      ],
      "source": [
        "!pip install gradio 2>/dev/null\n"
      ]
    },
    {
      "cell_type": "code",
      "execution_count": 2,
      "metadata": {
        "colab": {
          "base_uri": "https://localhost:8080/",
          "height": 1000
        },
        "id": "OYG-gYTLoFfN",
        "outputId": "e9bb8daf-40a2-4795-cd21-44d4b2360719"
      },
      "outputs": [
        {
          "name": "stdout",
          "output_type": "stream",
          "text": [
            "Running on local URL:  http://127.0.0.1:7860\n",
            "\n",
            "To create a public link, set `share=True` in `launch()`.\n"
          ]
        },
        {
          "data": {
            "text/html": [
              "<div><iframe src=\"http://127.0.0.1:7860/\" width=\"100%\" height=\"500\" allow=\"autoplay; camera; microphone; clipboard-read; clipboard-write;\" frameborder=\"0\" allowfullscreen></iframe></div>"
            ],
            "text/plain": [
              "<IPython.core.display.HTML object>"
            ]
          },
          "metadata": {},
          "output_type": "display_data"
        },
        {
          "data": {
            "text/plain": []
          },
          "execution_count": 2,
          "metadata": {},
          "output_type": "execute_result"
        }
      ],
      "source": [
        "import gradio as gr\n",
        "\n",
        "def firstFn(name):\n",
        "  return \"Hello \" + name + \"!\"\n",
        "\n",
        "demo = gr.Interface(fn=firstFn, inputs=\"text\", outputs=\"text\")\n",
        "\n",
        "demo.launch()\n"
      ]
    },
    {
      "cell_type": "code",
      "execution_count": 3,
      "metadata": {},
      "outputs": [
        {
          "name": "stdout",
          "output_type": "stream",
          "text": [
            "Running on local URL:  http://127.0.0.1:7861\n",
            "\n",
            "To create a public link, set `share=True` in `launch()`.\n"
          ]
        },
        {
          "data": {
            "text/html": [
              "<div><iframe src=\"http://127.0.0.1:7861/\" width=\"100%\" height=\"500\" allow=\"autoplay; camera; microphone; clipboard-read; clipboard-write;\" frameborder=\"0\" allowfullscreen></iframe></div>"
            ],
            "text/plain": [
              "<IPython.core.display.HTML object>"
            ]
          },
          "metadata": {},
          "output_type": "display_data"
        },
        {
          "data": {
            "text/plain": []
          },
          "execution_count": 3,
          "metadata": {},
          "output_type": "execute_result"
        },
        {
          "name": "stderr",
          "output_type": "stream",
          "text": [
            "Traceback (most recent call last):\n",
            "  File \"/home/reso/anaconda3/lib/python3.11/site-packages/gradio/queueing.py\", line 536, in process_events\n",
            "    response = await route_utils.call_process_api(\n",
            "               ^^^^^^^^^^^^^^^^^^^^^^^^^^^^^^^^^^^\n",
            "  File \"/home/reso/anaconda3/lib/python3.11/site-packages/gradio/route_utils.py\", line 321, in call_process_api\n",
            "    output = await app.get_blocks().process_api(\n",
            "             ^^^^^^^^^^^^^^^^^^^^^^^^^^^^^^^^^^^\n",
            "  File \"/home/reso/anaconda3/lib/python3.11/site-packages/gradio/blocks.py\", line 1935, in process_api\n",
            "    result = await self.call_function(\n",
            "             ^^^^^^^^^^^^^^^^^^^^^^^^^\n",
            "  File \"/home/reso/anaconda3/lib/python3.11/site-packages/gradio/blocks.py\", line 1520, in call_function\n",
            "    prediction = await anyio.to_thread.run_sync(  # type: ignore\n",
            "                 ^^^^^^^^^^^^^^^^^^^^^^^^^^^^^^^^^^^^^^^^^^^^^^^\n",
            "  File \"/home/reso/anaconda3/lib/python3.11/site-packages/anyio/to_thread.py\", line 56, in run_sync\n",
            "    return await get_async_backend().run_sync_in_worker_thread(\n",
            "           ^^^^^^^^^^^^^^^^^^^^^^^^^^^^^^^^^^^^^^^^^^^^^^^^^^^^\n",
            "  File \"/home/reso/anaconda3/lib/python3.11/site-packages/anyio/_backends/_asyncio.py\", line 2134, in run_sync_in_worker_thread\n",
            "    return await future\n",
            "           ^^^^^^^^^^^^\n",
            "  File \"/home/reso/anaconda3/lib/python3.11/site-packages/anyio/_backends/_asyncio.py\", line 851, in run\n",
            "    result = context.run(func, *args)\n",
            "             ^^^^^^^^^^^^^^^^^^^^^^^^\n",
            "  File \"/home/reso/anaconda3/lib/python3.11/site-packages/gradio/utils.py\", line 826, in wrapper\n",
            "    response = f(*args, **kwargs)\n",
            "               ^^^^^^^^^^^^^^^^^^\n",
            "  File \"/tmp/ipykernel_62035/2146952587.py\", line 19, in display_results\n",
            "    return f\"Displaying results from: {file.name}\"\n",
            "                                       ^^^^^^^^^\n",
            "AttributeError: 'NoneType' object has no attribute 'name'\n",
            "Traceback (most recent call last):\n",
            "  File \"/home/reso/anaconda3/lib/python3.11/site-packages/gradio/queueing.py\", line 536, in process_events\n",
            "    response = await route_utils.call_process_api(\n",
            "               ^^^^^^^^^^^^^^^^^^^^^^^^^^^^^^^^^^^\n",
            "  File \"/home/reso/anaconda3/lib/python3.11/site-packages/gradio/route_utils.py\", line 321, in call_process_api\n",
            "    output = await app.get_blocks().process_api(\n",
            "             ^^^^^^^^^^^^^^^^^^^^^^^^^^^^^^^^^^^\n",
            "  File \"/home/reso/anaconda3/lib/python3.11/site-packages/gradio/blocks.py\", line 1935, in process_api\n",
            "    result = await self.call_function(\n",
            "             ^^^^^^^^^^^^^^^^^^^^^^^^^\n",
            "  File \"/home/reso/anaconda3/lib/python3.11/site-packages/gradio/blocks.py\", line 1520, in call_function\n",
            "    prediction = await anyio.to_thread.run_sync(  # type: ignore\n",
            "                 ^^^^^^^^^^^^^^^^^^^^^^^^^^^^^^^^^^^^^^^^^^^^^^^\n",
            "  File \"/home/reso/anaconda3/lib/python3.11/site-packages/anyio/to_thread.py\", line 56, in run_sync\n",
            "    return await get_async_backend().run_sync_in_worker_thread(\n",
            "           ^^^^^^^^^^^^^^^^^^^^^^^^^^^^^^^^^^^^^^^^^^^^^^^^^^^^\n",
            "  File \"/home/reso/anaconda3/lib/python3.11/site-packages/anyio/_backends/_asyncio.py\", line 2134, in run_sync_in_worker_thread\n",
            "    return await future\n",
            "           ^^^^^^^^^^^^\n",
            "  File \"/home/reso/anaconda3/lib/python3.11/site-packages/anyio/_backends/_asyncio.py\", line 851, in run\n",
            "    result = context.run(func, *args)\n",
            "             ^^^^^^^^^^^^^^^^^^^^^^^^\n",
            "  File \"/home/reso/anaconda3/lib/python3.11/site-packages/gradio/utils.py\", line 826, in wrapper\n",
            "    response = f(*args, **kwargs)\n",
            "               ^^^^^^^^^^^^^^^^^^\n",
            "  File \"/tmp/ipykernel_62035/2146952587.py\", line 7, in upload_model\n",
            "    return f\"Model uploaded: {file.name}\"\n",
            "                              ^^^^^^^^^\n",
            "AttributeError: 'NoneType' object has no attribute 'name'\n",
            "Traceback (most recent call last):\n",
            "  File \"/home/reso/anaconda3/lib/python3.11/site-packages/gradio/queueing.py\", line 536, in process_events\n",
            "    response = await route_utils.call_process_api(\n",
            "               ^^^^^^^^^^^^^^^^^^^^^^^^^^^^^^^^^^^\n",
            "  File \"/home/reso/anaconda3/lib/python3.11/site-packages/gradio/route_utils.py\", line 321, in call_process_api\n",
            "    output = await app.get_blocks().process_api(\n",
            "             ^^^^^^^^^^^^^^^^^^^^^^^^^^^^^^^^^^^\n",
            "  File \"/home/reso/anaconda3/lib/python3.11/site-packages/gradio/blocks.py\", line 1935, in process_api\n",
            "    result = await self.call_function(\n",
            "             ^^^^^^^^^^^^^^^^^^^^^^^^^\n",
            "  File \"/home/reso/anaconda3/lib/python3.11/site-packages/gradio/blocks.py\", line 1520, in call_function\n",
            "    prediction = await anyio.to_thread.run_sync(  # type: ignore\n",
            "                 ^^^^^^^^^^^^^^^^^^^^^^^^^^^^^^^^^^^^^^^^^^^^^^^\n",
            "  File \"/home/reso/anaconda3/lib/python3.11/site-packages/anyio/to_thread.py\", line 56, in run_sync\n",
            "    return await get_async_backend().run_sync_in_worker_thread(\n",
            "           ^^^^^^^^^^^^^^^^^^^^^^^^^^^^^^^^^^^^^^^^^^^^^^^^^^^^\n",
            "  File \"/home/reso/anaconda3/lib/python3.11/site-packages/anyio/_backends/_asyncio.py\", line 2134, in run_sync_in_worker_thread\n",
            "    return await future\n",
            "           ^^^^^^^^^^^^\n",
            "  File \"/home/reso/anaconda3/lib/python3.11/site-packages/anyio/_backends/_asyncio.py\", line 851, in run\n",
            "    result = context.run(func, *args)\n",
            "             ^^^^^^^^^^^^^^^^^^^^^^^^\n",
            "  File \"/home/reso/anaconda3/lib/python3.11/site-packages/gradio/utils.py\", line 826, in wrapper\n",
            "    response = f(*args, **kwargs)\n",
            "               ^^^^^^^^^^^^^^^^^^\n",
            "  File \"/tmp/ipykernel_62035/2146952587.py\", line 7, in upload_model\n",
            "    return f\"Model uploaded: {file.name}\"\n",
            "                              ^^^^^^^^^\n",
            "AttributeError: 'NoneType' object has no attribute 'name'\n"
          ]
        }
      ],
      "source": [
        "import gradio as gr\n",
        "\n",
        "def search_query(query):\n",
        "    return f\"Searching Query for: {query}\"\n",
        "\n",
        "def upload_model(file):\n",
        "    return f\"Model uploaded: {file.name}\"\n",
        "\n",
        "def choose_algorithm(algorithm):\n",
        "    return f\"Selected algorithm: {algorithm}\"\n",
        "\n",
        "def set_parameters(params):\n",
        "    return f\"Set parameters: {params}\"\n",
        "\n",
        "def analyze_data(data_type):\n",
        "    return f\"Analyzing data type: {data_type}\"\n",
        "\n",
        "def display_results(file):\n",
        "    return f\"Displaying results from: {file.name}\"\n",
        "\n",
        "with gr.Blocks() as demo:\n",
        "    gr.HTML(\"\"\"\n",
        "         <style>\n",
        "            .gradio-container {\n",
        "                font-family: Arial, sans-serif;\n",
        "                margin: 20px;\n",
        "            }\n",
        "            h1 {\n",
        "                color: #4CAF50;\n",
        "                text-align: center;\n",
        "                font-size: 36px;\n",
        "            }\n",
        "            .gradio-button {\n",
        "                background-color: #4CAF50;\n",
        "                color: white;\n",
        "                border: none;\n",
        "                padding: 10px 20px;\n",
        "                text-align: center;\n",
        "                text-decoration: none;\n",
        "                display: inline-block;\n",
        "                font-size: 16px;\n",
        "                margin: 4px 2px;\n",
        "                cursor: pointer;\n",
        "                transition-duration: 0.4s;\n",
        "                border-radius: 5px; /* Added border-radius */\n",
        "                box-shadow: 0 2px 5px rgba(0,0,0,0.2); /* Added box-shadow */\n",
        "            }\n",
        "            .gradio-button:hover {\n",
        "                background-color: white;\n",
        "                color: #4CAF50;\n",
        "                border: 2px solid #4CAF50;\n",
        "            }\n",
        "            footer {visibility: hidden}\n",
        "        </style>\n",
        "    \"\"\")\n",
        "\n",
        "    gr.Markdown(\n",
        "        \"\"\"\n",
        "        # Introduction to Gradio for AI \n",
        "        This demo showcases various useful widgets available in Gradio, tailored for AI applications. Explore the widgets below:\n",
        "        \"\"\"\n",
        "    )\n",
        "\n",
        "    with gr.Row():\n",
        "        query_input = gr.Textbox(label=\"Enter Query\", placeholder=\"Type your query...\", interactive=True)\n",
        "        search_button = gr.Button(\"Search \", elem_classes=\"gradio-button\")\n",
        "        search_output = gr.Textbox(label=\"Search Output\", interactive=False)\n",
        "        search_button.click(search_query, inputs=query_input, outputs=search_output)\n",
        "\n",
        "    gr.Markdown(\"---\")\n",
        "\n",
        "    with gr.Row():\n",
        "        model_input = gr.File(label=\"Upload AI Model\", interactive=True)\n",
        "        upload_button = gr.Button(\"Upload Model\", elem_classes=\"gradio-button\")\n",
        "        upload_output = gr.Textbox(label=\"Model Upload Output\", interactive=False)\n",
        "        upload_button.click(upload_model, inputs=model_input, outputs=upload_output)\n",
        "\n",
        "    gr.Markdown(\"---\")\n",
        "\n",
        "    with gr.Row():\n",
        "        algorithm_input = gr.Dropdown([\"Algorithm 1\", \"Algorithm 2\", \"Algorithm 3\"], label=\"Choose AI Algorithm\", interactive=True)\n",
        "        algorithm_button = gr.Button(\"Select Algorithm\", elem_classes=\"gradio-button\")\n",
        "        algorithm_output = gr.Textbox(label=\"Algorithm Output\", interactive=False)\n",
        "        algorithm_button.click(choose_algorithm, inputs=algorithm_input, outputs=algorithm_output)\n",
        "\n",
        "    gr.Markdown(\"---\")\n",
        "\n",
        "    with gr.Row():\n",
        "        params_input = gr.Textbox(label=\"Set Parameters\", placeholder=\"Enter parameters...\", interactive=True)\n",
        "        params_button = gr.Button(\"Set Parameters\", elem_classes=\"gradio-button\")\n",
        "        params_output = gr.Textbox(label=\"Parameters Output\", interactive=False)\n",
        "        params_button.click(set_parameters, inputs=params_input, outputs=params_output)\n",
        "\n",
        "    gr.Markdown(\"---\")\n",
        "\n",
        "    with gr.Row():\n",
        "        data_type_input = gr.Radio([\"Text Data\", \"Image Data\", \"Audio Data\"], label=\"Select Data Type\", interactive=True)\n",
        "        analyze_button = gr.Button(\"Analyze Data\", elem_classes=\"gradio-button\")\n",
        "        analyze_output = gr.Textbox(label=\"Analysis Output\", interactive=False)\n",
        "        analyze_button.click(analyze_data, inputs=data_type_input, outputs=analyze_output)\n",
        "\n",
        "    gr.Markdown(\"---\")\n",
        "\n",
        "    with gr.Row():\n",
        "        result_file_input = gr.File(label=\"Upload Result File\", interactive=True)\n",
        "        display_button = gr.Button(\"Display Results\", elem_classes=\"gradio-button\")\n",
        "        display_output = gr.Textbox(label=\"Results Output\", interactive=False)\n",
        "        display_button.click(display_results, inputs=result_file_input, outputs=display_output)\n",
        "\n",
        "demo.launch()\n"
      ]
    }
  ],
  "metadata": {
    "colab": {
      "authorship_tag": "ABX9TyM6WotKKo9LMngYJIwVublI",
      "include_colab_link": true,
      "provenance": []
    },
    "kernelspec": {
      "display_name": "base",
      "language": "python",
      "name": "python3"
    },
    "language_info": {
      "codemirror_mode": {
        "name": "ipython",
        "version": 3
      },
      "file_extension": ".py",
      "mimetype": "text/x-python",
      "name": "python",
      "nbconvert_exporter": "python",
      "pygments_lexer": "ipython3",
      "version": "3.11.7"
    }
  },
  "nbformat": 4,
  "nbformat_minor": 0
}
