{
 "cells": [
  {
   "cell_type": "markdown",
   "metadata": {},
   "source": [
    "# OpenAI <table class=\"tfo-notebook-buttons\" align=\"right\" style=\"margin-top:0px\">\n",
    "  <td>\n",
    "      <a align='left' target=\"_blank\" href=\"https://www.python.org/doc/\"><img src=\"https://freepnglogo.com/images/all_img/1702059309openai-logo-png.png\"  width=\"150\" /></a>\n",
    "  </td>\n",
    " </table>"
   ]
  },
  {
   "cell_type": "code",
   "execution_count": null,
   "metadata": {},
   "outputs": [],
   "source": [
    "!pip install openai 2>/dev/null\n",
    "!pip install python-dotenv 2>/dev/null"
   ]
  },
  {
   "cell_type": "markdown",
   "metadata": {},
   "source": [
    "#### Import required libraries "
   ]
  },
  {
   "cell_type": "code",
   "execution_count": null,
   "metadata": {},
   "outputs": [],
   "source": [
    "from openai import OpenAI\n",
    "import os\n",
    "import openai\n",
    "import IPython\n"
   ]
  },
  {
   "cell_type": "markdown",
   "metadata": {},
   "source": [
    "#### Setup Environment "
   ]
  },
  {
   "cell_type": "code",
   "execution_count": null,
   "metadata": {},
   "outputs": [],
   "source": [
    "from dotenv import load_dotenv\n",
    "load_dotenv()\n",
    "openai.api_key = %env OPENAI_API_KEY\n",
    "client = OpenAI()\n",
    "\n",
    "\n",
    "# openai.api_key = os.environ[\"OPENAI_API_KEY\"]\n",
    "#client = OpenAI()\n",
    "\n",
    "###for colab, add the secret key\n",
    "# from google.colab import userdata\n",
    "# client = OpenAI(api_key = userdata.get('OPENAI_API_KEY'))"
   ]
  },
  {
   "cell_type": "markdown",
   "metadata": {},
   "source": [
    "## Text Completion and Generation "
   ]
  },
  {
   "cell_type": "code",
   "execution_count": null,
   "metadata": {},
   "outputs": [],
   "source": [
    "completion = client.chat.completions.create(\n",
    "  model=\"gpt-3.5-turbo\",\n",
    "  messages=[\n",
    "    {\"role\": \"system\", \"content\": \"You are a AI expert and have multiple successful startups. Running successful companies you help people to grow business in AI technology and solve real world problems\"},\n",
    "    {\"role\": \"user\", \"content\": \"Provide an idea of data archiving and AI for banking\"}\n",
    "  ]\n",
    ")\n"
   ]
  },
  {
   "cell_type": "code",
   "execution_count": null,
   "metadata": {},
   "outputs": [],
   "source": [
    "print(completion.choices[0].message.content)"
   ]
  },
  {
   "cell_type": "markdown",
   "metadata": {},
   "source": [
    "### tweet generation in urdu "
   ]
  },
  {
   "cell_type": "code",
   "execution_count": null,
   "metadata": {},
   "outputs": [],
   "source": [
    "# Text Generation for OSINT on Twitter (Urdu)\n",
    "tweet_prompt_ur = \"تازہ ترین OSINT ڈیٹا کی بنیاد پر سائبر سیکیورٹی خطرات میں حالیہ رجحانات کا تجزیہ کرنے والا ٹویٹ بنائیں۔\"\n",
    "completion_ur = client.chat.completions.create(\n",
    "    model=\"gpt-3.5-turbo\",\n",
    "    messages=[\n",
    "        {\"role\": \"system\", \"content\": \"آپ سائبر سیکیورٹی رجحانات پر توجہ مرکوز کرنے والے OSINT ماہر ہیں۔\"},\n",
    "        {\"role\": \"user\", \"content\": tweet_prompt_ur}\n",
    "    ]\n",
    ")"
   ]
  },
  {
   "cell_type": "code",
   "execution_count": null,
   "metadata": {},
   "outputs": [],
   "source": [
    "print(\"Generated Tweet (Urdu):\")\n",
    "print(completion_ur.choices[0].message.content)"
   ]
  },
  {
   "cell_type": "markdown",
   "metadata": {},
   "source": [
    "### MultiLingual Twitter text classification  "
   ]
  },
  {
   "cell_type": "code",
   "execution_count": null,
   "metadata": {},
   "outputs": [],
   "source": [
    "# Text Classification for OSINT on Twitter (English)\n",
    "tweets_en = [\n",
    "    \"Breaking: New malware attack reported affecting thousands of devices globally.\",\n",
    "    \"Just attended an amazing cybersecurity conference. Learned a lot!\",\n",
    "    \"Cybersecurity is a crucial aspect of modern technology.\"\n",
    "]\n",
    "response_en = client.text_classifications.create(\n",
    "    model=\"text-davinci-003\",\n",
    "    examples=[\n",
    "        [\"Breaking: New malware attack reported affecting thousands of devices globally.\", \"Cybersecurity Threat\"],\n",
    "        [\"Just attended an amazing cybersecurity conference. Learned a lot!\", \"Event\"],\n",
    "        [\"Cybersecurity is a crucial aspect of modern technology.\", \"General Statement\"]\n",
    "    ],\n",
    "    query=tweets_en[0],\n",
    "    labels=[\"Cybersecurity Threat\", \"Event\", \"General Statement\"]\n",
    ")\n",
    "print(\"Classified Tweet (English):\")\n",
    "print(response_en.label)\n"
   ]
  },
  {
   "cell_type": "code",
   "execution_count": null,
   "metadata": {},
   "outputs": [],
   "source": [
    "# Text Classification for OSINT on Twitter (Urdu)\n",
    "tweets_ur = [\n",
    "    \"نئی مالویئر حملے کی خبر: ہزاروں آلات پر اثر انداز ہو رہی ہے۔\",\n",
    "    \"بس ایک حیرت انگیز سائبر سیکیورٹی کانفرنس میں شرکت کی۔ بہت کچھ سیکھا!\",\n",
    "    \"سائبر سیکیورٹی جدید ٹیکنالوجی کا ایک اہم پہلو ہے۔\"\n",
    "]\n",
    "response_ur = client.text_classifications.create(\n",
    "    model=\"text-davinci-003\",\n",
    "    examples=[\n",
    "        [\"نئی مالویئر حملے کی خبر: ہزاروں آلات پر اثر انداز ہو رہی ہے۔\", \"سائبرسیکیورٹی خطرہ\"],\n",
    "        [\"بس ایک حیرت انگیز سائبر سیکیورٹی کانفرنس میں شرکت کی۔ بہت کچھ سیکھا!\", \"واقعہ\"],\n",
    "        [\"سائبر سیکیورٹی جدید ٹیکنالوجی کا ایک اہم پہلو ہے۔\", \"عام بیان\"]\n",
    "    ],\n",
    "    query=tweets_ur[0],\n",
    "    labels=[\"سائبرسیکیورٹی خطرہ\", \"واقعہ\", \"عام بیان\"]\n",
    ")\n"
   ]
  },
  {
   "cell_type": "code",
   "execution_count": null,
   "metadata": {},
   "outputs": [],
   "source": [
    "print(\"Classified Tweet (Urdu):\")\n",
    "print(response_ur.label)"
   ]
  },
  {
   "cell_type": "code",
   "execution_count": null,
   "metadata": {},
   "outputs": [],
   "source": [
    "# Text Classification for OSINT on Twitter (Pashto)\n",
    "tweets_pashto = [\n",
    "    \"نوی مالویر برید راپور شو چې په نړیواله کچه په زرګونو وسایلو اغیزه کوي.\",\n",
    "    \"یوازې د سایبر امنیتي کنفرانس کې برخه اخیستې وه. ډیر څه زده کړل!\",\n",
    "    \"سایبر امنیت د عصري ټیکنالوژۍ یوه مهمه برخه ده.\"\n",
    "]\n",
    "response_pashto = client.text_classifications.create(\n",
    "    model=\"text-davinci-003\",\n",
    "    examples=[\n",
    "        [\"نوی مالویر برید راپور شو چې په نړیواله کچه په زرګونو وسایلو اغیزه کوي.\", \"سایبر امنیتي ګواښ\"],\n",
    "        [\"یوازې د سایبر امنیتي کنفرانس کې برخه اخیستې وه. ډیر څه زده کړل!\", \"پیښه\"],\n",
    "        [\"سایبر امنیت د عصري ټیکنالوژۍ یوه مهمه برخه ده.\", \"عمومي بیان\"]\n",
    "    ],\n",
    "    query=tweets_pashto[0],\n",
    "    labels=[\"سایبر امنیتي ګواښ\", \"پیښه\", \"عمومي بیان\"]\n",
    ")\n",
    "print(\"Classified Tweet (Pashto):\")\n",
    "print(response_pashto.label)\n"
   ]
  },
  {
   "cell_type": "code",
   "execution_count": null,
   "metadata": {},
   "outputs": [],
   "source": [
    "# Text Generation for OSINT on Twitter (Hindi)\n",
    "tweet_prompt_Hindi = \"ਤਾਜ਼ਾ OSINT ਡਾਟਾ ਦੇ ਆਧਾਰ ਤੇ ਸਾਈਬਰ ਸੁਰੱਖਿਆ ਖਤਰੇ ਵਿੱਚ ਤਾਜ਼ਾ ਰੁਝਾਨਾਂ ਦਾ ਵਿਸ਼ਲੇਸ਼ਣ ਕਰਨ ਵਾਲੀ ਟਵੀਟ ਬਣਾਓ।\"\n",
    "completion_Hindi = client.chat.completions.create(\n",
    "    model=\"gpt-3.5-turbo\",\n",
    "    messages=[\n",
    "        {\"role\": \"system\", \"content\": \"ਤੁਸੀਂ ਸਾਈਬਰ ਸੁਰੱਖਿਆ ਰੁਝਾਨਾਂ ਤੇ ਧਿਆਨ ਕੇਂਦਰਿਤ ਕਰਨ ਵਾਲੇ OSINT ਵਿਸ਼ੇਸ਼ਜਨ ਹੋ।\"},\n",
    "        {\"role\": \"user\", \"content\": tweet_prompt_Hindi}\n",
    "    ]\n",
    ")"
   ]
  },
  {
   "cell_type": "code",
   "execution_count": null,
   "metadata": {},
   "outputs": [],
   "source": [
    "print(\"Generated Tweet (Hindi):\")\n",
    "print(completion_Hindi.choices[0].message.content)"
   ]
  },
  {
   "cell_type": "markdown",
   "metadata": {},
   "source": [
    "## Audio Generation  from Text"
   ]
  },
  {
   "cell_type": "code",
   "execution_count": null,
   "metadata": {},
   "outputs": [],
   "source": [
    "\n",
    "response = client.audio.speech.create(\n",
    "    model=\"tts-1\",\n",
    "    voice=\"alloy\",\n",
    "    input=\"We want to learn more about AI and ML\",\n",
    ")\n",
    "\n",
    "response.stream_to_file(\"res/output.mp3\")"
   ]
  },
  {
   "cell_type": "code",
   "execution_count": null,
   "metadata": {},
   "outputs": [],
   "source": [
    "IPython.display.Audio(\"output.mp3\")"
   ]
  },
  {
   "cell_type": "markdown",
   "metadata": {},
   "source": [
    "## Image Generation"
   ]
  },
  {
   "cell_type": "code",
   "execution_count": null,
   "metadata": {},
   "outputs": [],
   "source": [
    "response = client.images.generate(\n",
    "  model=\"dall-e-3\",\n",
    "  prompt=\"A Pakistani flag with faisal mosque in the background\",\n",
    "  size=\"1024x1024\",\n",
    "  quality=\"standard\",\n",
    "  n=1,\n",
    ")\n"
   ]
  },
  {
   "cell_type": "code",
   "execution_count": null,
   "metadata": {},
   "outputs": [],
   "source": [
    "image_url = response.data[0].url\n",
    "print(image_url)"
   ]
  },
  {
   "cell_type": "code",
   "execution_count": null,
   "metadata": {},
   "outputs": [],
   "source": [
    "from IPython.display import Image\n",
    "Image(url= image_url)"
   ]
  }
 ],
 "metadata": {
  "language_info": {
   "name": "python"
  }
 },
 "nbformat": 4,
 "nbformat_minor": 2
}
