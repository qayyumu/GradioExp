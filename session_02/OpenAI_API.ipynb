{
  "cells": [
    {
      "cell_type": "markdown",
      "metadata": {
        "id": "0rBBN-FUpRcS"
      },
      "source": [
        "<a href=\"https://colab.research.google.com/github/qayyumu/GradioExp/blob/main/session_02/OpenAI_API.ipynb\" target=\"_parent\"><img src=\"https://colab.research.google.com/assets/colab-badge.svg\" alt=\"Open In Colab\"/></a>"
      ]
    },
    {
      "cell_type": "markdown",
      "metadata": {
        "id": "q2X9gMqGpRcU"
      },
      "source": [
        "# OpenAI <table class=\"tfo-notebook-buttons\" align=\"right\" style=\"margin-top:0px\">\n",
        "  <td>\n",
        "      <a align='left' target=\"_blank\" href=\"https://www.python.org/doc/\"><img src=\"https://freepnglogo.com/images/all_img/1702059309openai-logo-png.png\"  width=\"150\" /></a>\n",
        "  </td>\n",
        " </table>"
      ]
    },
    {
      "cell_type": "code",
      "execution_count": 1,
      "metadata": {
        "id": "vaCA23uSpRcV"
      },
      "outputs": [],
      "source": [
        "%%capture\n",
        "!pip install openai 2>/dev/null\n",
        "!pip install python-dotenv 2>/dev/null"
      ]
    },
    {
      "cell_type": "markdown",
      "metadata": {
        "id": "NSJVk-kRpRcW"
      },
      "source": [
        "#### Import required libraries"
      ]
    },
    {
      "cell_type": "code",
      "execution_count": 2,
      "metadata": {
        "id": "6E7ti1zspRcW"
      },
      "outputs": [],
      "source": [
        "from openai import OpenAI\n",
        "import os\n",
        "import openai\n",
        "import IPython\n"
      ]
    },
    {
      "cell_type": "markdown",
      "metadata": {
        "id": "u-9nwdVbpRcX"
      },
      "source": [
        "#### Setup Environment"
      ]
    },
    {
      "cell_type": "code",
      "execution_count": 3,
      "metadata": {
        "id": "pB4G2WHApRcX"
      },
      "outputs": [],
      "source": [
        "from dotenv import load_dotenv\n",
        "load_dotenv()\n",
        "openai.api_key = %env OPENAI_API_KEY\n",
        "client = OpenAI()\n",
        "\n",
        "\n",
        "# openai.api_key = os.environ[\"OPENAI_API_KEY\"]\n",
        "# client = OpenAI()\n",
        "\n",
        "# ###for colab, add the secret key\n",
        "# from google.colab import userdata\n",
        "# client = OpenAI(api_key = userdata.get('OPENAI_API_KEY'))"
      ]
    },
    {
      "cell_type": "markdown",
      "metadata": {
        "id": "-AMusp37pRcX"
      },
      "source": [
        "## Text Completion and Generation"
      ]
    },
    {
      "cell_type": "code",
      "execution_count": 4,
      "metadata": {
        "id": "mW0r45HWpRcY"
      },
      "outputs": [],
      "source": [
        "completion = client.chat.completions.create(\n",
        "  model=\"gpt-4o-mini\",\n",
        "  messages=[\n",
        "    {\"role\": \"system\", \"content\": \"You are a AI expert and have multiple successful startups. Running successful companies you help people to grow business in AI technology and solve real world problems\"},\n",
        "    {\"role\": \"user\", \"content\": \"Provide an idea on AI for robotics\"}\n",
        "  ]\n",
        ")\n"
      ]
    },
    {
      "cell_type": "code",
      "execution_count": 5,
      "metadata": {
        "colab": {
          "base_uri": "https://localhost:8080/"
        },
        "id": "oeHWWtzzpRcY",
        "outputId": "ec1c5a5b-a3d2-4f0c-9567-47e5ab4ac0f5"
      },
      "outputs": [
        {
          "name": "stdout",
          "output_type": "stream",
          "text": [
            "Certainly! One compelling idea for integrating AI with robotics is the development of an **Autonomous Agricultural Robot** (AAR) designed for precision farming. \n",
            "\n",
            "### Concept:\n",
            "The Autonomous Agricultural Robot would use AI, computer vision, and machine learning to optimize farming practices, increase crop yield, and reduce resource waste. The robot can perform multiple tasks such as planting, watering, monitoring plant health, and harvesting.\n",
            "\n",
            "### Key Features:\n",
            "\n",
            "1. **AI-Powered Crop Monitoring:**\n",
            "   - Utilize drones or ground robots equipped with cameras and sensors to monitor crop health in real time.\n",
            "   - Implement computer vision algorithms to detect signs of pest infestation, nutrient deficiencies, or disease, and provide actionable insights to farmers.\n",
            "\n",
            "2. **Precision Planting and Irrigation:**\n",
            "   - Use machine learning algorithms to determine the optimal planting density and irrigation levels based on soil conditions, weather forecasts, and crop growth stages.\n",
            "   - Employ robotics for precise planting of seeds at the right depth and spacing, leading to better growth and yield.\n",
            "\n",
            "3. **Automated Harvesting:**\n",
            "   - Design robotic arms with AI-driven recognition systems to identify the right time to harvest fruits and vegetables, ensuring that crops are picked at their peak ripeness with minimal waste.\n",
            "\n",
            "4. **Data Analysis and Predictive Analytics:**\n",
            "   - Collect and analyze data on crop health, soil conditions, and weather patterns to provide predictive analytics for farmers, enabling them to make informed decisions on when to plant, fertilize, or apply pest control.\n",
            "\n",
            "5. **Sustainability and Resource Efficiency:**\n",
            "   - Optimize the use of water, fertilizers, and pesticides through AI algorithms that monitor usage and adjust applications based on real-time data.\n",
            "   - Enable farmers to adopt sustainable practices that reduce environmental impact and enhance productivity.\n",
            "\n",
            "### Implementation Steps:\n",
            "1. **Prototype Development:** Start with creating a prototype robot equipped with cameras and sensors to test basic functionalities.\n",
            "2. **AI Model Training:** Gather data from existing farms to train AI models for monitoring and analysis.\n",
            "3. **Pilot Projects:** Collaborate with local farmers to conduct pilot projects and gather feedback for improvements.\n",
            "4. **Commercialization:** Refine the product based on pilot results and prepare for mass production and marketing.\n",
            "\n",
            "### Potential Impact:\n",
            "This autonomous agricultural robot could revolutionize farming by making it more efficient, sustainable, and less labor-intensive. It would empower farmers, enhance food security, and mitigate the effects of climate change on agriculture.\n",
            "\n",
            "This idea not only leverages AI to streamline agricultural processes but also addresses substantial real-world issues like food production, sustainability, and labor shortages in the farming sector.\n"
          ]
        }
      ],
      "source": [
        "print(completion.choices[0].message.content)"
      ]
    },
    {
      "cell_type": "markdown",
      "metadata": {
        "id": "xyywdTO5pRcY"
      },
      "source": [
        "### tweet generation in urdu"
      ]
    },
    {
      "cell_type": "code",
      "execution_count": 6,
      "metadata": {
        "id": "W5PEcjimpRcY"
      },
      "outputs": [],
      "source": [
        "# Text Generation for Twitter (Urdu)\n",
        "# tweet_prompt_ur = \"تازہ ترین  ڈیٹا کی بنیاد پر سائبر سیکیورٹی خطرات میں حالیہ رجحانات کا تجزیہ کرنے والا ٹویٹ بنائیں۔\"\n",
        "tweet_prompt_ur = \"I have written a diffusion model for path planning\"\n",
        "\n",
        "completion_ur = client.chat.completions.create(\n",
        "    model=\"gpt-4o-mini\",\n",
        "    messages=[\n",
        "        # {\"role\": \"system\", \"content\": \"آپ سائبر سیکیورٹی رجحانات پر توجہ مرکوز کرنے والے ماہر ہیں۔\"},\n",
        "         {\"role\": \"system\", \"content\": \"You are expert in the machine learning and robotics field\"},\n",
        "        {\"role\": \"user\", \"content\": tweet_prompt_ur}\n",
        "    ]\n",
        ")"
      ]
    },
    {
      "cell_type": "code",
      "execution_count": 7,
      "metadata": {
        "colab": {
          "base_uri": "https://localhost:8080/"
        },
        "id": "3VvFPqnqpRcZ",
        "outputId": "d547aca9-4075-46b1-ce0e-b8da77639667"
      },
      "outputs": [
        {
          "name": "stdout",
          "output_type": "stream",
          "text": [
            "Generated Tweet (Urdu):\n",
            "That sounds interesting! Diffusion models have shown great promise in various domains, including robotics and path planning. They can be used to model how information, particles, or agents spread through a space, which can be useful for navigating complex environments.\n",
            "\n",
            "Could you share more details about your model? For instance:\n",
            "\n",
            "1. **Objective:** What is the specific goal of your path planning model? Are you trying to find the shortest path, avoid obstacles, or optimize for other criteria?\n",
            "\n",
            "2. **Methodology:** How did you frame the path planning problem using a diffusion model? What kind of data or parameters does your model take into account?\n",
            "\n",
            "3. **Implementation:** What techniques or frameworks have you used to implement this model? Are you using any specific libraries for machine learning or robotics?\n",
            "\n",
            "4. **Results:** Have you tested the model? If so, what kind of results have you observed? Are there any metrics or benchmarks you're using to evaluate its performance?\n",
            "\n",
            "5. **Challenges:** What challenges have you encountered during development, and how did you address them?\n",
            "\n",
            "Feel free to elaborate on any aspect, and I’d be happy to provide feedback, suggestions, or help with any specific questions you have!\n"
          ]
        }
      ],
      "source": [
        "print(\"Generated Tweet (Urdu):\")\n",
        "print(completion_ur.choices[0].message.content)"
      ]
    },
    {
      "cell_type": "markdown",
      "metadata": {
        "id": "Hxcr80B2pRcZ"
      },
      "source": [
        "### MultiLingual Twitter text classification  "
      ]
    },
    {
      "cell_type": "code",
      "execution_count": 25,
      "metadata": {
        "colab": {
          "base_uri": "https://localhost:8080/"
        },
        "id": "mxdqMsCFrf_6",
        "outputId": "9c01a8e1-7c9d-4175-f226-40a50c0a94e4"
      },
      "outputs": [
        {
          "name": "stdout",
          "output_type": "stream",
          "text": [
            "Classified Tweet: Breaking: New malware attack reported affecting thousands of devices globally.\n",
            "Category: Cybersecurity Threat\n",
            "\n",
            "Classified Tweet: Just attended an amazing cybersecurity conference. Learned a lot!\n",
            "Category: Category: Event\n",
            "\n",
            "Classified Tweet: Cybersecurity is a crucial aspect of modern technology.\n",
            "Category: Category: General Statement\n",
            "\n"
          ]
        }
      ],
      "source": [
        "# Text Classification  on Twitter (English)\n",
        "tweets_en = [\n",
        "    \"Breaking: New malware attack reported affecting thousands of devices globally.\",\n",
        "    \"Just attended an amazing cybersecurity conference. Learned a lot!\",\n",
        "    \"Cybersecurity is a crucial aspect of modern technology.\"\n",
        "]\n",
        "\n",
        "examples = [\n",
        "    [\"Breaking: New malware attack reported affecting thousands of devices globally.\", \"Cybersecurity Threat\"],\n",
        "    [\"Just attended an amazing cybersecurity conference. Learned a lot!\", \"Event\"],\n",
        "    [\"Cybersecurity is a crucial aspect of modern technology.\", \"General Statement\"]\n",
        "]\n",
        "\n",
        "def classify_tweet(tweet):\n",
        "    messages = [\n",
        "        {\"role\": \"system\", \"content\": \"You are a helpful assistant who classifies tweets into categories.\"},\n",
        "        {\"role\": \"user\", \"content\": f\"Classify the following tweet into one of the following categories: Cybersecurity Threat, Event, General Statement.\\nTweet: {tweet}\"}\n",
        "    ]\n",
        "\n",
        "    response = client.chat.completions.create(\n",
        "        model=\"gpt-4o-mini\",  # or \"gpt-3.5-turbo\"\n",
        "        messages=messages,\n",
        "        max_tokens=10\n",
        "    )\n",
        "    return response.choices[0].message.content\n",
        "\n",
        "# Classify each tweet\n",
        "for tweet in tweets_en:\n",
        "    category = classify_tweet(tweet)\n",
        "    print(f\"Classified Tweet: {tweet}\\nCategory: {category}\\n\")\n"
      ]
    },
    {
      "cell_type": "code",
      "execution_count": 26,
      "metadata": {
        "colab": {
          "base_uri": "https://localhost:8080/"
        },
        "id": "WtKEgRrypRcZ",
        "outputId": "dd18fc3e-769a-4984-8e64-329dec70828a"
      },
      "outputs": [
        {
          "name": "stdout",
          "output_type": "stream",
          "text": [
            "Classified Tweet: نئی مالویئر حملے کی خبر: ہزاروں آلات پر اثر انداز ہو رہی ہے۔\n",
            "Category: Category: Cybersecurity Threat\n",
            "\n",
            "Classified Tweet: بس ایک حیرت انگیز سائبر سیکیورٹی کانفرنس میں شرکت کی۔ بہت کچھ سیکھا!\n",
            "Category: Category: Event\n",
            "\n",
            "Classified Tweet: سائبر سیکیورٹی جدید ٹیکنالوجی کا ایک اہم پہلو ہے۔\n",
            "Category: Category: General Statement\n",
            "\n"
          ]
        }
      ],
      "source": [
        "# Text Classification on Twitter (Urdu)\n",
        "tweets_ur = [\n",
        "    \"نئی مالویئر حملے کی خبر: ہزاروں آلات پر اثر انداز ہو رہی ہے۔\",\n",
        "    \"بس ایک حیرت انگیز سائبر سیکیورٹی کانفرنس میں شرکت کی۔ بہت کچھ سیکھا!\",\n",
        "    \"سائبر سیکیورٹی جدید ٹیکنالوجی کا ایک اہم پہلو ہے۔\"\n",
        "]\n",
        "\n",
        "def classify_tweet(tweet):\n",
        "    messages = [\n",
        "        {\"role\": \"system\", \"content\": f\"You are a helpful assistant who classifies tweets into categories.\"},\n",
        "        {\"role\": \"user\", \"content\": f\"Classify the following tweet into one of the following categories: Cybersecurity Threat, Event, General Statement.\\nTweet: {tweet}\"}\n",
        "    ]\n",
        "\n",
        "    response = client.chat.completions.create(\n",
        "        model=\"gpt-4o-mini\",  # or \"gpt-3.5-turbo\"\n",
        "        messages=messages,\n",
        "        max_tokens=10\n",
        "    )\n",
        "    return response.choices[0].message.content\n",
        "\n",
        "# Classify each tweet\n",
        "for tweet in tweets_ur:\n",
        "    category = classify_tweet(tweet)\n",
        "    print(f\"Classified Tweet: {tweet}\\nCategory: {category}\\n\")\n"
      ]
    },
    {
      "cell_type": "code",
      "execution_count": 27,
      "metadata": {
        "colab": {
          "base_uri": "https://localhost:8080/"
        },
        "id": "iDlmWwPtpRca",
        "outputId": "b727c6cd-816b-4529-b601-e32dab3f5716"
      },
      "outputs": [
        {
          "name": "stdout",
          "output_type": "stream",
          "text": [
            "Classified Tweet (Pashto):\n",
            "Classified Tweet: نئی مالویئر حملے کی خبر: ہزاروں آلات پر اثر انداز ہو رہی ہے۔\n",
            "Category: Category: Cybersecurity Threat\n",
            "\n",
            "Classified Tweet: بس ایک حیرت انگیز سائبر سیکیورٹی کانفرنس میں شرکت کی۔ بہت کچھ سیکھا!\n",
            "Category: Category: Event\n",
            "\n",
            "Classified Tweet: سائبر سیکیورٹی جدید ٹیکنالوجی کا ایک اہم پہلو ہے۔\n",
            "Category: Category: General Statement\n",
            "\n"
          ]
        }
      ],
      "source": [
        "# Text Classification on Twitter (Pashto)\n",
        "tweets_pashto = [\n",
        "    \"نوی مالویر برید راپور شو چې په نړیواله کچه په زرګونو وسایلو اغیزه کوي.\",\n",
        "    \"یوازې د سایبر امنیتي کنفرانس کې برخه اخیستې وه. ډیر څه زده کړل!\",\n",
        "    \"سایبر امنیت د عصري ټیکنالوژۍ یوه مهمه برخه ده.\"\n",
        "]\n",
        "print(\"Classified Tweet (Pashto):\")\n",
        "for tweet in tweets_ur:\n",
        "    category = classify_tweet(tweet)\n",
        "    print(f\"Classified Tweet: {tweet}\\nCategory: {category}\\n\")\n"
      ]
    },
    {
      "cell_type": "code",
      "execution_count": null,
      "metadata": {
        "id": "9bHLZldepRca"
      },
      "outputs": [],
      "source": [
        "# Text Generation on Twitter (Hindi)\n",
        "tweet_prompt_Hindi = \"ਤਾਜ਼ਾ  ਡਾਟਾ ਦੇ ਆਧਾਰ ਤੇ ਸਾਈਬਰ ਸੁਰੱਖਿਆ ਖਤਰੇ ਵਿੱਚ ਤਾਜ਼ਾ ਰੁਝਾਨਾਂ ਦਾ ਵਿਸ਼ਲੇਸ਼ਣ ਕਰਨ ਵਾਲੀ ਟਵੀਟ ਬਣਾਓ।\"\n",
        "completion_Hindi = client.chat.completions.create(\n",
        "    model=\"gpt-4o-mini\",\n",
        "    messages=[\n",
        "        {\"role\": \"system\", \"content\": \"ਤੁਸੀਂ ਸਾਈਬਰ ਸੁਰੱਖਿਆ ਰੁਝਾਨਾਂ ਤੇ ਧਿਆਨ ਕੇਂਦਰਿਤ ਕਰਨ ਵਾਲੇ OSINT ਵਿਸ਼ੇਸ਼ਜਨ ਹੋ।\"},\n",
        "        {\"role\": \"user\", \"content\": tweet_prompt_Hindi}\n",
        "    ]\n",
        ")"
      ]
    },
    {
      "cell_type": "code",
      "execution_count": null,
      "metadata": {
        "colab": {
          "base_uri": "https://localhost:8080/"
        },
        "id": "ufmj8IjgpRca",
        "outputId": "467c1eb8-04d3-404b-c43f-d7c4091bb98a"
      },
      "outputs": [
        {
          "name": "stdout",
          "output_type": "stream",
          "text": [
            "Generated Tweet (Hindi):\n",
            "ਬਿਨਾਂ ਕੁਝ ਜਾਣਕਾਰੀ ਦੇ, ਸਾਈਬਰ ਸੁਰੱਖਿਆ ਲਈ ਤੁਹਾਨੂੰ ਉਪਭੋਗ ਕਰਨ ਵਾਲੇ ਤਾਜ਼ਾ OSINT ਡਾਟਾ ਦੀ ਮੰਗ ਹੋ ਸਕਦੀ ਹੈ। ਤੇ ਏਥੇ ਡੇਟਾ ਵਿੱਚੋਂ ਬਹੁਤ ਜਾਣਕਾਰੀ ਨਹੀਂ ਦਿੱਤੀ ਗਈ ਹੈ ਕਿਉਂਕਿ ਇਸ ਨੂੰ ਫਲਾਈ ਟਵੀਟ ਵਿੱਚ ਸ਼ਾਮਿਲ ਨਹੀ ਕੀਤਾ ਜਾ ਸਕਦਾ। ਜਿੱਥੇ ਤੁਹਾਨੂੰ ਦੇਖਣ ਨੂੰ ਮਿਲ ਸਕਦਾ ਹੈ ਉਥੇ ਸਹਾਇਕ ਹੋ ਸਕਦਾ ਹੈ ਕਿਹੜੀ ਜਾਣਕਾਰੀ ਨੂੰ ਮੁੱਖ ਬਣਾਏਗਾ ਤੇ ਤੁਹਾਨੂੰ ਕਿੱਥੋਂ ਫੋਕਸ ਕਰਨ ਦੀ ਲੋੜ ਹੋ ਸਕਦੀ ਹੈ। ਉਹ ਵਿਚਾਰ ਕਰਾਂਗਾ ਅਤੇ ਉਨ੍ਹਾਂ ਨਾਲ ਸਹਾਇਕ ਹੋਵਾਂਗਾ ਜੋ ਤੁਹਾਨੂੰ ਉੱਪਭੋਗਤਾ ਰੁਝਾਨ ਨੂੰ ਸੁਰੱਖਿਆ ਦੇ ਨੇੜੇ ਲਿਆਉਂਦੇ ਹਨ।\n"
          ]
        }
      ],
      "source": [
        "print(\"Generated Tweet (Hindi):\")\n",
        "print(completion_Hindi.choices[0].message.content)"
      ]
    },
    {
      "cell_type": "markdown",
      "metadata": {
        "id": "B-nOuSRApRca"
      },
      "source": [
        "## Audio Generation  from Text"
      ]
    },
    {
      "cell_type": "code",
      "execution_count": 8,
      "metadata": {
        "colab": {
          "base_uri": "https://localhost:8080/"
        },
        "id": "CX1X2J4OpRca",
        "outputId": "aebc1b12-a06a-415e-a1d6-965ab5c11911"
      },
      "outputs": [
        {
          "name": "stderr",
          "output_type": "stream",
          "text": [
            "/tmp/ipykernel_31775/2985375731.py:8: DeprecationWarning: Due to a bug, this method doesn't actually stream the response content, `.with_streaming_response.method()` should be used instead\n",
            "  response.stream_to_file(\"output.mp3\")\n"
          ]
        }
      ],
      "source": [
        "\n",
        "response = client.audio.speech.create(\n",
        "    model=\"tts-1\",\n",
        "    voice=\"alloy\",\n",
        "    # input=\"ہم اپنے ملک سے بہت محبت کرتے ہیں اور اس کے لیے اپنی جان قربان کرنے کے لیے تیار ہیں۔\",\n",
        "    input=\"你好。你喜欢讲座吗\",\n",
        ")\n",
        "\n",
        "response.stream_to_file(\"output.mp3\")"
      ]
    },
    {
      "cell_type": "code",
      "execution_count": 9,
      "metadata": {
        "colab": {
          "base_uri": "https://localhost:8080/",
          "height": 75
        },
        "id": "4Lc2hWdGpRca",
        "outputId": "7201e433-c737-4368-f316-b81cae98d4e2"
      },
      "outputs": [
        {
          "data": {
            "text/html": [
              "\n",
              "                <audio  controls=\"controls\" >\n",
              "                    <source src=\"data:audio/mpeg;base64,//PkxABPDDoRn1hgAAAnqTcstvlDKETCzhZAtAj4/pf8zGMxC0CmjiSyHH8chy3Lf+Nw/G42/7lgcBoDQSBIEgSBIEgRxLEsSxLEsSxLJ4kCQJAkGBgYGBgZmZmZmZmZiWTxIEgSBIEgmGBgYE8zMzMzMzMzMxIEgmGCxYsODARxLEszMzMzEsniQJAkCQJAkCQJAkCOJYliWJYhg3BuJYNAaA0BoDQSBIMDx9tevfve68wMDxYYGBgYEwSxLEsSxLEsSxLJ4kCQYGBgYGBgYE8liWJZPMzMzMzAwMCQJAkCQJBgZmZmZiWJZmZn54sMDAwMDAwMDMliWIYNxLEsnmZMMBIMDAwPFixevMzMzMzMzXrFhwYGBgYA0JhmZksSxLEsSxLEsGgNAaA0BoDQGgkCQI4hg3BuDcG4jiWJYiCQDQRBIEgmGBgqMBRBUjBZAWoxI0crMslByzC7Gdk2iP2KMJ8AWzBlwcswr4SMMA+B4DlyCe4woIeXMB3ACQAAPGB+AcZgTICIZDqJPmILCDhgGEJheDoMBs0VCcxSJgxCAA3AeAyvQY/KbIdAIvcgCWKYhB0YKA4JCglEYuBCAiSMXATMOg7LsrhZUw6YHgCGgB4JAkwgxdKYBHAOhyYN//PkxJZu7Dn0AZ/oAIHGC4IpHsPVpsrmWoiW6Teww/rJDBYBjEkKxYCCgL3ZDAEh6GV3yNPhYz/MkUDVO5LX3maW2YwGAclAQGgDdFgLDATgmVuk/TDJlpMB0GUkWjDMfh+KTLBFBi6bz6QrcFXahRf+lTlfxsTP38jj6QI3OJTa/HTh5ZjPW4MgYbJpx00kpQJAAEAAoWLAC3NBMsCyVnVxGyq19glmB4q1ppMCdepknJxn8Qg2GHsZZD7humpYqjDTotcYI48edVDFO5TAuOiIukeBsuglSWubUs6h0TRAQGsgYtOuK6srtM6+PLtsQfJKFn7pw9MNCfGHXV93K77y59IrAbIJa+kup30ibzvPQajsGVGitLUFbktp029SYX9F0J8Jg2GmSQy2jfw2u1e1FTHIiFDAUCxMFAGsxVg3zF/3DMrwdMxOBIzCoBlMhtl40bAtjANCqMMkKoCIpGSwIsYDgBZgSgRkIkJgUgegQAVF4wOwCg4D1l4gAcMCcP0wVQOwQAWAAAEoHueeWyGmbeMQNG2kpaF/0hFujRJFhndOtJuJUCEAscKKAjx4BCEqjImzEgDmCzuqzIIEtTe0zTjjYmAjqNYjkQjT6wq6MojDKRjAI0tNGxATY5Wo//PkxK17fDosH97QAIypiTxxGRAFMMaMGgDMBrV4NJGCZnvemuiGp2gGcb98C6BmTR0pBRQM7JOebMK/O+tAIkykQzBUIFBcKZJoO0TXwht6eQsdemZSYYwqhuFxxsiJ9XZoFwMVCI2YMMKIzMhCYyhKLmpNhwcMGBw8MAFs0BCE9NxucFwY8dBIIhLZdGYdtWb85TXaGfuWJ7G3Mz0stxvVu9lDmMQu1Zihmqsbo7ENw23CUx6Iy6UxaBJlr9PWnIAg6tBLmNYGQaZybpECWqkUliXwEAwzAgvoZQgh1b9BGYUGJBFZgwgYsaQAhUqDhwKIUIqFMiLZEFx4JCGaERA21AzA02g4xig1xwzCgwh8rRmAHmxJpEGQBGRUmTHmlIuICjZonhjhIIWGzDoAwAaAg8FLwSPCF6NKAY1J8x4sz7c1pNOJHwLJDbIF6ggKIwiAlzDVC6Mt7vs5FFvjBAHxMNkDQw1yxjJgPdMTQBgHDZGFyTYYkRxZjLhYmAmACYHwY5iEByGCABUaWRiAdNIWzXxcAmBiAyZD6GgEwGHE52DsLwgxW5nLL6elrxqRxJm7TF6Oy9sBK2IJAIFiwmpmBRcWfjbWE2VjM/xTmx415+NynjknY8xKCxeYwVDA//PkxJJ1fDooAPb0uHGEBpMLCAaNIcMEsMUpOCZDULemSAnNdmPGFaBBQRkDGCTJFgCfMSDBSgSOm2DFxisIY8gZYULDDKlT3wzjlzWHzcljfNDEgDAhEiQEETuaq4DnrCrBUjB3seJHZXaOAcKMcHEAFmLiM2VxG34VjkTmvRAkghicdt/3/dSJ3ZTMTEoqROBJc2CQxF96eV0DE7dau/krYfKn8YPEGZxeAVjv3ZbZx1A1H1Y1U0c2FMJgxsrLmcphyOq+7XV10yQCSBb9LRky8UAjSVC1KYcAwgxwoeELQS7JQC9FQIFiMUIQAqUCxZqYiCDI5Igx4UQAAuVTgDFC8wwYBA5jiDBUZWJGJDqcqXFQODBZETBo8Gj02m7iMUWkThGR5gQ7Sy8YMER8wIURgAcDFjQQzpnHVyCA8hLWBYMnLDBfZChYcuasKOA1WTAMgB0wAIAWEYFOYNAD2mrgEUJhpIGYYAkA5mAcgjxgzovcYd8D8JymAlgIBgmIMQYgyBimBNgMYgAJDACwFYwIMDsMFJAbTAKwABtyIAYM0lIygAhEEjEYoAw3FgmzpmzlSmvPOU15268jm38mpazNhCV7tsvYwFAO3QvyYRHaAAw8lTRaLMXD03Wvzfs+//PkxI9+rDosAP8y3BuehC3MFHMAKkwqVzApyBRjbmDieaQMxgIXmNBmYaGJCMzFQSM6jsxgHWJgEGGEQGhsOg4wsBTCIjC4LBgpCBAYLCaEowKJDFYpMHjBB8DAEzKRjDxOEIGBgoMslZ4jPNM8ojawg5BMWceCF1uGydwpKw58UJ6+jXNBT6+kkUtx59JdvVPJlUaFLox56Y5L5A0Ns1K/7ou1NPS7cMuM/zu33ydNw7cdg1nykXKZ+6z52k0kjWkwNFlb1Fm6sxL8M1McFYYWJViR7SBS8GhVCRCKKAl6hAQhAuRjxWMZLL2iMwVKLOI0DRIClKDi9o8+CQXGEuBECYSS0wicqoGQuKoCBUEiGE0WqErTIINs4u8ZcZkkArQwXQKSHPGSOI1QU+XDGs0N4eEuyweYgJqAFnDrXBq5inGhIQEgKcS0MAgGBGRUazBCZDg6gcEgYEYIoYAYZJC0YAYhUAQbNy1wGpEEQCcBppjEIlIqp0oZAOBoCBQAwYY4/56PxjGBiBYYG4ARgXAxGF0WwZfAppgQAymBWCkYiApBlvC9mGmA6iiYAIAZUCCMyXlsiEGMMCjSl01wTLRv2IAltFzl/0A6I8IbC05MTa12jmBhaUaZKCxlhcLA//PkxGd3DDo8APbyvCDgky1BNLRTIRAFIgVWwQ1GwL50osZCnHixQAOTTmkBqJ3bgfnJBcnHRo1dVNgdzOgMQAxhIMaQjnfJxshALIAIGAoMLmLYo4tISTmFSu+X7YANGhjJjgGOGDSTBNN6kxHTBIFRgCCT2CEIRII4F9FN1DEZngUBTeaguNczkJ6lljSSEaJmptHGjw9k20TAyBAq30szPpPeMzQQEYsULimem1OklbSoch+mfx0Zm4+sRkczGJp5mtP/SYRjctkUalU8vySOe/zDWAT63FAi7KdhfVc4QTBoXGYYPIoLDSKfcYbUvQGCR9braK7HnF4GEACkCwEuKMGIaY5a3hgcu0Mnia68g5ktcCDnsTjLgCIMLCAwYLEDUacpatuaiZfx1QUsXsBCaDrCFg02ALIBgxYViqHyCohHB14CIAxLMDNaM1My0CyIyEhYZL4tgLJiSCNZtBiJQuAFw0vCIsADBBq4wuYNFriMcgAAtoFFVNyj9A0aKaBVMDEAkkAvMDEFIw9hKTtcADMcwG81SSiUKHUYYYQHoKOZjofmgagY1OBQzh4HMMQRQ7KgOZYwmtlhtzmUbhVDRgfMtFyzxhIuEARjQ0CAgwgCa40gx4sJAAx8RMbQ//PkxF17ZDpEAPc2KM3WROLqTw3kylBDrs1cuN+QTeHMzYAMaCQMOGOixg4IYqWG1ghQ+IbCRIYKRGNDxmYEZeTlQBMqYjVlc0RIMmRDGg85FvOoSDPQ4wRLLA4KkIKUDCx8WFHGVyXUGgxI94WxJkNMUihSjkYgRGVBANAxwJBFAbY5GKnpl4mZqwiMAMwJBwBCoayMv6VBAaFEUi0iZYOADGEYwYvT7FgkDTR1wWY2jA0LNCPjQIk0SAN1ETVjU3sXN9ezZzswweM6bjMDQOeAENGWFhMVtbYbFVbi2aRiGi4EhHKZa0px4abHSQ9TyyXxeW1aWNRXKH7sxg5ctgBlUctOvS4yha7RpqGIccSlh1PqKLjSBY6gDWgmM0lCNWy4DQxlSuzDBUKALLGksrUeXMEAQiB0AoKCQSCMUS9S/BoMwsvAnCBAFFJaQ8BNJboIgdwGoiQSECSuoykuYECDIGxpL9n0EqmXO01QFIVTVvmCLnUBa4BAVPFeTFhQEKA5coYDRZYN5V4JJAICbHGYnLmSsVZA0VS5ii7lBgwAsLFjSVzAVKmGEhzBhCOMYKwcNmrEZ2LGOCg8ADqCZGrmOka1QaJGfkJKSmWIxjY2ZqmgaUSaMcB1LjbEYwsK//PkxEJtVDpMQNe2ADDkVhZkVUd4dGRMxlUufOqG1Thn9ie/znydxs5MLWxiY0UMRjAsCAgmMH6MWDRIOQStbRJAAmGAjCTBhceAVBBCFiQamqYSOAoeMgCxQSMTDjNQES4W5AJRMPXTLgAtyYKFmFlAWHwERAUNMBABYEMLBy3IsAGNjaBw8EEAoYmTgEYM3EjBhFgRmZcZmdGShQKFgQFlAInqwZzIfdxR9hq/S4D0F5kywwNBImYuGA4FHootYaShBxqj2ZGBGArRvaIZZImYFZgyKZ8RmEEpsiKFAICFL/EwQEBRhAeW5YGpZKFglYnXlj1LQaBfrR2BoBeS5bsw7SVq1NViOHKHVFWpadyYdj8qkWnSXdMONPtdu/KpU6MMs5hEaZlHZMzpscsfCLwavBfNmfjVRkVA8r7NsmS0hY0ugJyochbiv7F4/AkunYLwjUqkchp8Z6iiNiBojWicO2Z19o29sskd59p+7dnZFR1Yao4BicOyqLV/fWK11QYACrjTU+lImF5SG3vjCSwt1doQHRkNQGIKunZMOgT8YUycQBIaYikHBch2i4ZoMGDgZkREZm7mlqZl4uQBxmS0UOZlzAIyUz42OBdTsV8AjJhQSIB4GE4iFS7SWw25//PkxF9bDDZctu7wPG4TAcugJhRBNtaqjjWGhJcsJmUJDOIy2rSVM0r2qKBLxEOUwywAVCqZ2RSTNS6oBKCpuM+SxhAJL9jCSK65gvMoMDhKaNzVe11yXckDdcPqSSRTVm5DEkTSoINgxLYZCBCiIzF01UjTUtO8JKqqXiUoLJR9oiGKxGJspfJOl2LzSm6wxg3eMtsvqA47BkZlkLpc7NNrueGWWG8csMsoacqBrdqze1Nynkur5uNfn43AEMRhtH8j8CSKs7kZq0kO08eh6YmblLbke5JWk8dis5ZiNNAcpm43POFUbJGY438RhyUXYxDEAwl3Ihel9aJRt7Y3ZlM+1p+ZW28OS2TvO9Eoe+NtglUUknZTFItTKkxBTUUzLjEwMKqqqqqqqqqqqqqqqqqqqqqqqqqqqqpN4FAKIEDAAC1MY1AcyGgZwcA8CAEjAzBzMQQbUwUAAgCAEYBQGphWi8lQXIwXwGwcAsYdIcpksGeGJqKaYMwEYNBOMOYZQxchgzCJCaMF8BQwzhaDJlN1My07AxJAdyqF2YJoRZhvhUm51g0/iQmaIgExIamIBwUjcYQAmFm5lQaPASjRhAQYYTgQERsMEAFwmMgidKg7LwQJDQkiqo0W4MADTCAA//PkxKZeZDJQAPbTHYAVK9JIyoVMRDhZHJhcwouM6iRo2NMBhEJGEn5kwkYaMAAIBQyiMYKGDwssgFDhKOhA6YGECAoGkAwYJBoIWnAoOg8YABuWrGseNylyHYo6zpQzHGoPA/Snn3L3okllpQHAJblqCWalyLCcqCoVBGZp0OQ3JmbT5FKXka5A2+CLIJbspZ43HzyP//z/+//G/L5auVUPbz2qyVm67RqIrZMtVGppKO2B9qTk73tEqy4VSOiq80hSRISIhhxoLLsESRVCRGppp0ROYQpRQLG3U9KKqHjaTEFNRTMuMTAwqqqqqqqqqqqqqqqqqqqqqqqqqqqqqqqqqqqqqqqqqqqqqqqqqqqqqqqqNIIAJMAAAsCAqAgOM0SBNBgIlPYwFwIh0wUxSQrDB7BHMF8JUxPR/zG8EfMTgCkwJRITEvDcNCwQkxFARzITHFMuc38w3T6jIPGKMIUBgxiQjDNULwM6sHgyRwtDIQIlMIws8xWRZzBADEMV8EkM7Dh2s5ATMLFQKjGeoJjCIZ6mGFphgBIYcbmAEg04Bx4YMFGbhgWDTCQsx8LCwcYSHGLiJEGlqgKFkx4AgUwgYEJgBBsmKQqAByyakHmcm5kQyZXLmSY5ozQbuYG4//PkxMxn1DpABPbZHCMbzwH244Yhmyw5uYCcbXGrBJpAYZ6nksiZ4KmqvptJG3U5o7HgIwEFU4M9SDWQoBBQGESwUAESMABkRmkUwYAO2+7U1H4eXHDyXsXRWQTIByIIUDLgjwYRCyQBAFl8X7Xe1liTjtMUwS+RSTRZFuJvlXhlYBUkl1YrNncUrGaKEfbBhut6F1M+5bp3p+a/fpcin2oa5W59E48hHPJrorZzcC5PT5qqtbWoN57nFrnM0OnmPw6P+lKtXPIyqyuW8ZHa11MZLMQz1Q5V1RHAu9r7Rw2qTEFNRTMuMTAwqqqqqqqqqqqqqqqqqqqqqqqqqqqqqqqqqqpCkwEANDArFBM11PUzzBmzAsBKMN8j8xsTXjIREgMD0KUw+SGTAkGCMWkA8wKxbTLLEJM/RHczzCkzGFOXMoJFcydgmjI/JTMhwqgxdjATJkNjM9IvM1WlWjSNSjNY9aI2sy3jUROEMa4akx3gMTCEEDMZgc2s0TNSPDmyZzPBhATmpBOYlAJmAAmCjUaDAJiAHDxiAouFCKDhcFxERAwDJYwAETIgLCocC4DAA/MOAMxILzAIIMiiwAi4y2HgAEDEITMJE4HIoKHEwYXhCEQwxGYQgatLxsGmHBaY//PkxNxr/DowAPcTHGKrmcRHZr8ymHnUZJaJiFPme3IcPIQK0BjwrDhdMopwywUQclTJitMxi8w4HwSIzGQLMPgsIArsFwygA21VouupTZpbIFB2UpjIJgCCgCAwsBVBAsEQMFDDIFXkzAFBR2xUBgQBg4GJb3C05EFqJJVF2GlFnfTjZQ1OxNhkVpMNNvbNpukinWzVx7W7DIU7V+2c3Lzd1Nb34V5RtCvF2vKNB5ttQprTCCSdE5C0doVpmUQZWKlCdQlWHRUsUnBJrEjeYS+M8lbrjVYsqxbD/soNXX/dTEFNRTMuMTAwVVVVVVVVVVVVVVVVVVVVVVVVVVVVVVVVVVVVVVVVVVVVVVVVVVVVVVUO7mCAPiIFjB4qz/JrDKIRzE0VjWrITAArzA4UjIIDjUMBpeFzTMvzGMAQGMAxNNQLsMtS0MjAjN14FO3nLNijTAAwhidCtmOEOiYrAWRnxofmM6RwY64YRgoh9AgAIwSwQjAbAoBQjxgRgaGCKAQCQDUbQMA6YD4CyDxaEhSGRAPMn+UNXJYCFgKi4AAl2YEXkpdA9Au6AYq+yfrAq6XhMDSVrmjNAY8rMFm5vGoIKGtHHeBmqNmf3HaDHMajyswrARjDRkgooGhQBIJj//PkxM1oPDo4Bu+0yAteS4TILQwc2xeeLL1j1HYqWJmmxhuzZpmVQfVoGDPVDrovEoc4y2muS5cqYq6UZgKASYKoIFAnUSGUOSsTBUznFyqIscWOwRb0Ul2WGWsaWXa7Wo8sp+3zVPG5FF31dx/HSdqrKIaqUrjyfKci1SIvs/V9sj+vzEXldmMvK+r6tKUGa8+yumVOq0p+nqeGHXWddS2GnaVLDcNtyfaKTUXgOXR9/Lteq/d6WzDX3SoY6/kBPFdd+C29dGR0rxvpGZfA2MUgyTU8ff/OUUElimVmNRa4TEFNRTMuMTAwqqqqqqqqqqqqqqqqqqqqCYGYCBgOAHmEgX0YQk+ZkBghDIBJiavcGYSC8DglTBLJQM1MUUwKwMjB4IRM4QEEwKgQzBODIMU5Qky7AQjBiCIM1pxc0LARjFUAxMHYaYz4RBTBhBkMHEakwOVRjMWGjMIsMQwUw5DBnBBMAoCIdAYOjnAxVAA+Z20BjW10xyBAySW8MfRiJ/WKkgNA6vEgy9hMToUwEFAl54JXLKJaqWUMGTqQaYEYOMA4SioAFTIANU6ciMBEDGGCpkDKbQRmokBhKUd2vGoBZqS6atqmNAgl/GZSwXIDdHYFDJw4EagfGAFBloQY//PkxOdutDoYAvbfHAiakVDomlGoLA0Mr9ikZi7ztGSuZMlJAzJV/WUanUSSYMYIEoPmEC4NEgaLgI3KEUDGRlrGZ8PmykQjFDDCkyZGMzGzFyQxIHQHs8FhAxECFCxjsbTHPFZhMkyfZGbvHagNPcZQDDUVVs63RUj1oeQQvBhjkJyfCJFuFxLcfQaBQHiHWSR+sD/Vj5pWYLEzQ4EVWYVrbHxuZTssFvcpIj1S4TsTEkFtyqnzY5RlfiBI2t9tn6xKlPHK0q1CVU8Wpozj2CRlanTNm0BTta1EgN8ZQu22MBLAazA2AFEwa0A8Mc9ZBDFGQaEwU4D9ML/FzDEPQL4EgMpgTIIMYGuC/GFjgTJgXgEKYFuD3GCYgZZgRAMSYHoDdmGyB+5hPoKIYJAC0mIAAbpiMwQiYWnEYKpMcbHWfdKeaVIWelt4ZmB+YNFaYwjOYGA6YGiaAgATnMRQsJQfEg6MEQfMBg1MNgFAoVGBgRJdOnA7KHEZKspkzDr0rgG3TNJchrrcXFlMYTScGBVYJG7zqLWe1FxTJdqqwWAkLgYYHAGYihoYMhIYDgEYRFkZfkYYAguYuEIY6nSY7F6aBDkZaFAYqB4ZKBqYfhuBAGBgCIWxtMBn7p34eTld//PkxP94BDoEAP903Ba7D6eimrvvy8jfKAtpEG/QZXIgNBhUxyoyZQCGAQqPGZN/lNdEPNKNSMO/hMcmIB4j+niZGlVh4EEhSZKFxoWOmRBA0KnujWnWW7jbKXjm4Zcu9Uilllr/smT9TCS4buHEWaK8VertyDEhgEyBoNAOaMIBjjW0sCsE0gs+MCH5IQKZjOYDe+gtsRj8N00BXuSZ14nUsw5At+AMIpC4zOvxDsDSiGYIaZLXkjDcarL5U4stcuVS+RXs6O5MwfSPzAdA9MEZ54YPk80rj7rPhHKF/HTwjThvPJoLk1N8HwNyAwmCACuYMQPxjHEEmD6kwaiprhi/h6GEoDKYTAABgkAImAyAgVAODA+A5JhcDAOCyMHkPowowBjBuBnMRMDYwjgKzFGDnMNUoQxvgrjDzHKMVYQowcwTTCyF/Mi4GgwfCzohEMckUw2NjJ4KZINDUDAEQgkxwK34TaEgWAgoECJRUOBLhF9kRFHFuMp65MIaowCSxamnGiurnaZrAauIda680CwDDjDJU+6w0KQxQ1RRLlGAQGChoYbAZhkcGUS2cAApu14nhFaa5LBtQiGWFiIh0YVEo6GRED1N2hOVcYU4MHZO9EHoYI6qjjzr0fhlDW4o//PkxPJyrDoIAvc0+P+9r9KZCzAKjDXkgYQCi85LQ6FcwaIRMzUwjYBjKbyRwcacckYboqYGCZBYZxyVDo0ONA9BQoAhC/CYowOQLUvYFCVhIcsUVyZfV/HuSLddNFbxQaGjxcZIIDMgYWBSUOFhy0wwsHAgMZNUbAzExh5PsVFOKhau1WMoEs8Xg9D+qCuBVYg50PS5ORu0HRpwn7oZrkvdvjjx6VOFD0ji9ajpsYFhFu1KpLNxWXO9DfMHwpZ+HqaVWZZGIfhbwxeOZyt+H3qPbCakOvQ/cjjEsgW9L3ea1O50cAVMQU1FMy4xMDBVVVVVVVVVALkQGEDcPSXg6QZzESuHSWJOE0yNTRBdDBbQGExaYgAA8BTDpoM2hIxqejPyNMOFEyeZjKJ/OMGkyE+zI6sMlpo6itj6XpOQGw2GqTADmODowwAKh4Uv+IwQRhBiY+YGCoTAMDmClJa0wEcMMDQSEFsQEAuOKAbY4Ca6XVlghAmIA4Bd1WFkbIknWdphs7TbVVUOSqao3i/nbqWY87T5Ndh193wV0AAYwMvMyJwCXnJL5iSmckMmQDZpA6BAYOKTEQYDFBhIYRA8ArFYbOs6gbkqak06VNzoZ9hsTeRpKBs9CuxxDJ1yULJi//PkxOpvdDoEVObzHIBSOYINmMDpkg6FwYmAQoJGuzBnaWbEXgIsEZsFQpE4RAprqpjgSNpIIBMIRVIiCLZL2ZUnOmw3F5HdhprMVWiv1fAVIBRIWBVScMdCNUwVCUzUxHjgMKYg5kFosFkkNVGGVsgDAkxpWgFT5biDA12qZMuUuLrMmjrKWcvq9riRxsKlk00xwlbm0dqgoW7zMPxmMRGEuTGYhAVaRT0Bwtw4CeqmiEOOXAsDu0zp/mWw7yEvI3Jxok15sMAP9C5bK6Nucpe7NnUvgxYr0pGrwlCw0gdhTEFNM8Q5NynLOHAnN5T5M/x0MXhOEIlGYgTgYlzDYaDGMQEVTGUOgMQpikH5gsJhh2BZkoNpiWPRjyV5lS5Rq2VBmedhkcBJlqKJoOmhuwyJhVAxnUGplAIAsTpgqAgUAgwRwKscroZcASBUYtGd0pwKhiZmAIfCMkQivgsCXBEIRfku2/ACcLxUrWRGEDjpQWZRQMsFx3JKH4+oGXTVe/wOCVgHjXQREYIk9RkQxc0wZwz5gGgxIQrAMCTRCjguAM1NKcQPjLJTNmh43CGROcg/D6Y9pRVVN9lpLpbxyGskgNpq0hADQQFkQwKZ0wDQ6MJdUyBMhOALMcd4j+ZZ//PkxPxz7DngAO51EFAEwZmMDG5rpZwkplDxkiB1/x59B6YxvSydoGkmfHG/FBYgcUYZMUWWSqUWGhazRUIX0AoptkVphp8PM0c91C4QJEAEATB2CiwVsTJ0UQEGQeUoMKGTPgFEFWEAhi+UOOknYmGnatBnbKl5J6oDVKRoCjivBfYYGLpLWXuiwo0u6JONXbmwReTVIdh1IqAXGYEztOVRx/pMzmNvVG32Xk4znNxlKjaondHAKFr8NJlqVjsu9MQlrD9RNcquJpOyFSy3MMtaS9b9LBSOonSzqAX9clgiTEFNRaqqMndJs3oCXQUnoYFxwhj7DYlQS4xehjQStMICEyOEzFYrAhjMfFsz0WxgXGDCqZaHpj4BmMyCYsLJjQbGYh0Y/LBsNuGqxcYvTR4f6HRo6a0ahk5QGJBSYqAhjQcAy0FkhRJm5QKQImO8QlhZckAfszwCUJ/howBCiI9fQiKEIyfqziQ0RhgZswzDjKC4IhKBw6CYsDILLJMIkHIqXBVYaOImWOpdDxyYal4kcrgKoNFGkwjRYAfGQUNgVFdyEwkdwQCxUMZKBlK18jxJf1JMwjWDJAoCjBYMuwLg1hINlCGhhhI5GCKax5lWgcJUAGsMkgxWAVOOAgrM//PkxPlzPDnQAPcyOAJgOTHCj/SBDSDgBsISTINI2gjRHUImLwmZSPAihYNKWEkQXCCB2RFDyANt0TwaAFD06l9izLrhwqFLI6NnYVLZQj6nIIhQsAp9f4kMlsmGAi1hUQkOS53hSFLwytrscLViUsoU0KhyW8pW6wGANl36VIwKisIQAqBRiLpaui0pZTaoBl7F4VvuwzNosUZ4hesM97IHrelkzEl0iwyZqQ8paqyXFPWDUnmdq7ZrAEaTfhp0Kq80JzE0+ncT0gNTVYr0uy7KFTulALoEpDS1qQSueFQ7TEFNRTMuMTAwVVVVVVVVVVVVVTIErrNPkyoz1iyTKSHZARo5gOECm8Zh8YOMPJrRqCCIwo0M/ZjNR1jwMDzHms0BZM3CCoZmiLoCGBI6MIITAhIeDFzpqGb7R9/Me/kG6oBuSCaUJmFApcctimirOHFoBAQhLUpwGnMjOZRZdRAEInCKIsIDIUHo6mEkKAGSomIIkQainxkNDocRLYiGQ2BAJmFggIKjhV5DUwAC4whiEIQOMNEABTQ0ERIaGiUgDUpV0YIskQSrIQjA3y8khjEIYs+CsCSrQ1TtgRaW40xdyLFkrEUfeEAEoRAEZvXGZKW5BiChseRaMMkgLNIc//PkxOxvzDnIAPbyPBURYnIS3EIqnmFkUQG0SCMUAMJMF2Eu2hPTHTnQJJ9IyJUqqJIoB0sE8C97LiAVbgVBaQv1d6OaVb8hYN/CAZBOwVSpGEvorplixlaFNpWw7BC0uKo0SjOQISAqELAJiR1pqt4KSLiFsUk1RLyb5nctWAbKDg1FC5KXTiODajzep6rAlomdKVNlEJYQEYIaqqfbS0+VmbQba6jOlm09HBMpra+AcIu8vM7KEgxRy8EPZq8Ej06muMIcebV6XMTNXYt93cWuBQhWEKAM9eovvPhig4CqTEFNRTMuMTAwqqqqqqqqCZWB7pooJtmpkN0eZHxvdWG8UMBCUMqgwoJgoOzKwVMVAouwaz4c2A2zdEUiaUpunJ7mIKvg0mDFLNeo3zwaGeSSlwtIYahcMsGJviB8IXDEwgkOxNaw91jIgRkUtP04GMnYaYqy7xZ52Rxc1FAEGJDGBEIUaIxBjPAA7pb8AoNUL8gRAULISQScACDWxMycGDobAE9aY6+RHodBg15x2USGBwZQDFF5rGMEgABq8KwWgUpUOFnkHyoKDkFyP+HJIczCJLCYqCoGTFIWJ9AoULlN+vEMWGmWotDLpLyIAUF0lI/DKiBEOBljQFCrqAJB//PkxPBwzDnEIPcyCBoVghUkPGA2UDphdUFCsBNZlF4sixJQMvOIjBo1WAayFjVBS0jjmKSmICggw9DuvhjgwI9CPiRQORR4mkdU5E5kx0PQoCpNK4u6yhEUvSlECRQaGOhig6k5mOgQ1nLgmUOHBrrSSQictRQu01sGgNck7HhIIILLSLKhYOFRzQdVlUdTOd55mArcTPNUuLoJwsQuQvcKHIipVu5B5bsEHJULVHgkiUpEeFCRkaDnKBQESWgnUKgphJqK+cmH6dGZDiRBl1qNW5QxNAaAXWWyUwAR4YFVTEFNRTMuMTAwVVVVVVVVVVVVVVVVVVVVVVVVVVVVVVVVVVUQlZQZDcsYrTicEH6ac9HJNhuRYUThk4GCok53jPHSYDCWdEXAUlVWGpC3TAlVFEzcTBVYVbOIpmwUbNAs0BzWfAypMYpKAGXsnARRM8+Rzfoym4wBeW5ITQUWcbhngmOqAQhVUYVLMAYMcBgM0zC8ZnlmiKHIFwREGAnh0xk5hmjR5QoHHoNoUBUwOFTVCy8tZEhwQrBoJtKnDuAg19s2C0Rhph0QYCMAkoKkjMJAYwFEJxUk1GWQCAsFCpnBCRFQAAWdgAIu4ICWsjyxFCFSWNIssSS9SKXEhYlq//PkxNxr9DnQUu7yBLXZqz2gJDXZQWEgZeMiAgcogLgsWWKDAYYMUNTFcYCbXGoItpqBghMBTjY2ucOGV9DEiZwXtRsbqSDgYdNV92FpGyVnCXSRSliazE0rBgljbKBACgEh6D29RXZ8s13WukoKWil7OnHpl4PuqvG1srxZ6o2po3qUSHJlzA0i1Ur67lILPFBUCQ0E/6vVY3XVtgRo6NqPrL1HnJXq1JExgSsKcLdXWTHWBZk6bPF/KyOqhmyhkKxVg1ypvIMOk46fCiyOCeiiyZiMrZbBdQvUxZIpBpWZTEFNRTMuMTAwVVVVVVVVVVVVVVVVD/BsOyJp7mZs6UJiwnpmEiZoQeZoqtJqKaYcORhOBIOEtSkCADiv3/BJ1lpnyws7QRGKXGeMAIgZwKZVicECnoHRCwJQqHiYBHhUUYcaBSACUGDFoDTAhRpiadCBAAEMgJuBAagYBMBjoxIwwgIoFBciZ8cTASFSaZCzBGQ7gIbg2K7TI85gX+pcYUFJEyjbhI8JGnSDsIxgwBzAGpEVBMhw0DmDWlTBjC7qE0y8AVgaU6InC2aI5duzKAQYtUFTiM6O8LL+Bz2QBOxoCIoPGF5IAS5BKsaWMCaWDDNMEikCBCc28DSgxgjq//PkxOpvbDnIKu6wfEzBvpEJYYQkTvBpUlV7EwxoYMa3EGmSwBiQTUGtQXQvSpW8xeVBG0lnVXJBB1GBnj0wYZeim4UAraIysTSvFSpnrAq6UERFYayclWom10yDkdZjDUVZXaHAuQ8vFzhcCvFcq3yx9KWLlrHtQtVcaAwh3p9VBQVEtdRQ4rIpsjkDgqGMtVqZc2wQYtmwlI9TNeaOIMKPAYQpmu0FWXg5TwDIEAiKAOCX2W8JILgqGy561rtUCgmtJ+MqVjLfsbe4qiHAICGyMPbO4CQ5c9iQwVGsOnDKTEFNRTMuMTAwqqqqqqqqqqqqqqqqqqoPcAVBE0WGdDM+EsMj8RoxlhPjD8I1MugZwwFRQjAUA4BVgbOzj02dkmGNEBjSMCFYWSAc0oMAYrTPB2yYQDHBSJh7kZaDDRshQhLUGC5afZmJo6BYICiMPBgw8olcahb9kgBUQCoYAMNSlSAEyEvEJQBICJyg0u2stfAZyzZg0PmOMtYmTBRYIUAJRAAFAFjtqLDGMOPEMXIQhgACDqMlsgNUw1ZiT4BFByCJNISovhNsBZcSDq/R8ewkdRYDmwsOiej6gKS8MYQCMkCbdzIFRrUMfRBIXlRfUUSoVVGT0blksgZmwYZA//PkxOhu1DnMKvbyUC/g0CAhVgxQ1LdYBaKrFpiIUFDGIc0Nfpc0CApbGMlCC1yEpASMBFrx0ABPKrpdF8CqGFhkeU1Fgktl7iMZgaeYGBCAFPs9RrbAux81SMAEQbBBI5iS/KjHEx1aV/NEXXGqjaBA6lJb1OlBpZSHjuoIWkp0tATulKxULUX1XK4WBUz2qUMAbMzdCUkM3Zl8AMSWFZe4jaqvpHFFgqduqYi6laEbV+JnonOU9EPM1bYOJL6J/pYssQYZyz1E+LQTAy00OaCivVglOk+kflFW6JcI/L4qTEFNRTMuMTAwqqqqqiAQY7jDZt1DGmEcGGY0gRxhjhTGCmJWYM4yBnfhpGL8DCZQAhkwKnA2ielpZyGumNxaapKRqojGVgqYMOZq1BGDiqYhKwBHICRRmo8GXjcLDAUZX4WCgWaJUjRILEC4xCYnEXFMtowBUpnrM08AhFxhGeYBDohwBQahOA5Rf8LHmCoBax6se7BVoCzCLjYDOkkmLXEcYR6ECKwAoAYBI5a4CEAjSYKpV3J0w8miYIhWM5zuFYRoikJQkCNAqDMvHQRwUSeml1DQiBqlK5RIB/1cCAADCEARcRWxCEFBL6QAyMQoBB6JIOIASYOHQljgjkpG//PkxPJxVDnIEvcyUNEh3joXHh4WWEg12PFDyeSc8dfkGgq3IqF/UZREIjwtoFIIJQSUiE44+I6YXAWqDRm4ruTZLVkSBdNDgh3S1AIxMSnSvQLgQEzQsqyxEBBRfLFnjLmPEs+abxdBa5PVxEsy/yYyxXalj5F5nUU1iSFaznNZosVq662dr7RDLnFlU72rQFCoAelVKHgUMrhfTG3KWUSCJGKkLjMqeoLgJ6Uycya0GpfpD+sFAzBh4BuTHy1ytikRoCCo8knKrpaXcBprStKJo6826tMVlbCpeq5LkZFqBlGTAyNEMbgl007S1jYqVUMuV100RyhjAOCGMnMWYz9AHDRGLOMW0mkwtBbjGjFfMR0OwxhAnjK/UxSqH+0/I2NLSzBXI4xIMsZDPo4/1pM7FjYCAwIUM5PzNwkSEjFQsaDzSz0LGQOTDHB4wUgDBUMDmWGKyAExGnA5hiITRUGCAMe/UUME1/Bk4aPHiB5MiOFRSyaEmNK8HQFQt8oGuJOiMhiotGDAUIG9Hn0gHHHlkJ4MHCFACcI2TWeXwFBlPJZIWlqQKGABEOhbkyAGkGaaFBUTwxBggkObOJsonK+lqVGgIKFhDN3Fo0UQuelIg4BSyYIAFL7gdRNLQ3mE//PkxP907DnYUPbykNiHF4u48FEjOrhYROtbKddSxASQiVEWSHZun2Bj13JGKCPYnJbcBzggdSiA24K9UzcIGgu01OQPeno7kAwAgnly6WHq5plKIJV1DELmmYspay4iRCc6QCuwSCqkgAU804GjmuCh1YYYIKkgAMnQgjX8+ymRnADobCg5As+n05jWlyqXoKOCFwTJDTGS9Diy+5cpcDQIBEi0yDCAZ6mYu9DJCG4XzL9kIIcOnkWoX4jqWbTrAQ7MDIGSDMwAtAskwx00mRmWCwdkJZMiOLsN1U3S3cstBTAuADAwZoReMJuLIzWxTlU0Ko2MMm5OBTNoyo0wl0lyMiqBJzEWAIwwzEcNMl3HdzKWkDLl1TP9xhs5DbECzSAbjTkozFAJAcXRg8TBn0Uhk+q5jmNhgcJBgEE4jNuOKDFg4Q0MKkTFgETUDGiLhiFO1xsaSaGBiQbQ1VjEEgQdOOlBBYdfnjimiDGinHcoGiNnRjiEsRHQUWBTE6kIUHmXQmNEG+xHqwHELAUWjsWTMCBUGMIIUgIgxkiCdJaNWhsDgttEy/hiCBeEDDy0hqKh7MRynBrEAkYd4VJmvWizlAUZ5saoYCijIVfu+XLR5BhACB1MV/okLtUvVCNB//PkxP54zDoAAP90bEwoJyUsV1t4Xmctbl6HYbhtQ+Bn6hqMP7F3Xayxh4dug3jjt3ry7FebzSuPs7WZGVJNFf+Oylg8nXfNQuEpzlt1VHccZOtR9QdkyVi67MOOmX/eaPQGvdLyG2mKoqdp9qVNxikdXom03Uu21VK5oa1YEC4caRpnloywFBy9sYiAjSMuotQAkyY0kYXRBw8wQodACwkAhTRADFgwcTQEBwBOky48rEmkLF+4dCCQ0UMKVGgxgAAXUiy4QBDGDiqPMqfRictpBKAaYLFi2bDwaVcpS5ZoIAJUGFHgYOhyvovl22JFqI6qBKQBgLAEOYMmE+GBSiApi3T82ZaiGkmElhdxgs4IWZ5QUqmEfgBJgiIA+YJyOnmPvgOxgo4BkYC2A0GAiBcZgYQAEYAiAmmAIAPBnoymQw+MAgwSXjFJRMzicSRhkElAofx4KgIRgRLZqrSVbkxXbjdLAzuL8glxrw6AUfGmpAAkNmDwWCBWTKAy6HjIIjDEWLcoI1JjcqmlAgdzHZmelm2QuY8gplRBHhK4ceBhrSzGjnQa2QQgK4FKwoCDFYzEILAQfBwbURSXa2iUwpWRJhrMKBgTXhkVHlrICVERKE4z4FhjTeKowQsGDkpY//PkxO14tDoU0P8yvIRUVXCQDIVNGZM2Kaikci8vf6jiU18doZZTv6/UrqQVL4YeuVxi7N4O/k/spm4bgemlEhrTUMMQuWWdS1LxCQ4kQXIqTVI5rB3taRJIHZyqdpcBQa3aKtfalDL+rrbi+0Hu+zBrqu24QdHm9XOn26CxEeG4rqL4DIYFWRYLyEo4YOYIg8AEGkUgQmFwxhxM0qrnvCQBA0FSo0BBkM0FQqIMuIgGAuqsMGmUGFzGEF+0xDEFM1cSWCGyRYxjDELNdMQFGAkjWRFGSoaYYkKYgg0UcaaaxvBGYcgMVYJHJzDqySAwAQvhdkoNEixGQJYhhFZdQ1oWYhQMC8BowjgLTFpA0N1g5I/ty0QEDKYDIAZsG27GHMDwYA4FBiICOmtUDwYl4E4hAKMCgK8xuASjAPAdDACyAAFkpdaIQjbjaQxS6RN0gSblyPzq2murTZVAj6uKzOYf2QPQ9K5AEDpflogCLGUiooCjpcZjIGLOhmiad1VggRNtRjKC0ygFAQGLZ4ABjgWIxMHNsLAc+GqCmmOoAiqGTwcleqn4CdGKsrWa+DD2kotigQGCC5gXFtYdUMOCxYw68OAAZkPUjHCAUijIWBBUCudYBekQVIkuHCKAZFmb//PkxN149DokIvb0uBqqUCAAoJKCYGEB0hTRrQhmABQYcMShNCHEQI1Ls25FNxo6AsFBy4alxiChqzIkSNdKOUqUQj4WEExkzZcGCCYwZ1eBoaICzXeMMMCCCkkEJlSJMafJPcIJkIgMGL7Qvc1MIxAYOCKqFvGzDgAwQBACHA36awyx15tk0BsjTcbVX7LUB77MyLkGKDAoIsAsQcHBghcCxkBJZMueUDhUVDBgRJQWXAWemVcg4QWsXS8hEAQ4gZGMAH7AQcdCmFCFsBABT2LYhwcvEyJL2bcFEtQImGKct3S3hlFxPFKtCICDzEgRwOIQiAmbXgNJx4GzweLqUV38RNJQUfUqcgv6pY4LWoFMAEduEwMAP8oqYBhmZz6gbhjUYOgqYXh2Z+FyUEKg0YMhsYPgQYFgE6q039fbOmuRyaoIljhSd38lv4djj1vwsJDkVkc4zBqLvz7ar3sEwGogpUIAJs5ZNM2XJXO+rAgEGQEs+iIYyHxBHct8BAVz1hF93YRWZwuRgjaM/V2yFYYtg3jB+ylY4ICjEQMxsTMMHCYFAgkoqXOMGFTMRUuQxQMA0+zJSMy0zMxEVFjAAAKEBM8mcnJgg8gUYkWm6n5jQgZuonDQBlzWb6smikJg//PkxMxx1DpYTO71HNZH/cRyScGMBrKWBoxLoWSjDgUmJjRhoaHjMjILA5hoyZGDqHAYoNQ2MgRNOpNjFAQIEgjQIjRElgBgUYAEiiat2a0uABY0KDDi3zJqTGgSAYaZUKC0gY4YQwPKTYsQcPh6UCAAIRwUAoVjoUEgiYQqkWdQiVEY4IjuChZiT5kwq9jBDAcELfyJg4wAFgoYLRAVXSvigVBusoAW4IQJZtYJHxn6SYVFpnJWKHKgSXTGMmTBQcSBsgT9a0z8uOhLIQqiKEguAx1g7OHjkYUBIiOg3FiaE9V0Zxkpf9nzePYwOAmZ9cRuwOCS9pJeN32duHEVh5+UOpOw28TZqnQhAsDMhnPMbMaeAIkBJWVS164rJpqmcJydWLETtS1wsYtGonSSyW241QZ1L0slj0NAj72tOtS+RsFRKZeHCggoOkjCgjAglGi67h+lU3VwV/GgCApGKgwhKAkJkhDRy6bT0yGfvC+zGmhKbMzdBaqq4kCa64EEg4HGAgAZY0IBoySMeBIjoXImkPmmYkpFDQMIhEshMmBlECULnhrOAF5o05+mphFJnUJz8RjB5tpYFaG9vlVed5qaR8BZRpT5xSRo2pltojLgh2YhqNZT0YAMbMKKNAfN//PkxNdzbDpgQNazXEwxhsLUXhNkGHo4YICzE6MUDRTQHDnAjFplsg7SZtaHSzn8SotJnBm1gJQnJFg0cHAjNQTKTgCuMQgCWhzgQYhMTYFIKCMw48xiA0rY6w42pEzqUxzQwBYDEEwygoLTSVAFXhmhgSUS2IrAaGFQ5jQymQcXGpKmhlwwMEgpQYkGAT4IUAApmLMLDphJ0RAAh6OdHHy1g8GcZZjBg6o3mgKqaY0Nlmx4cwwQNEVQK6ciQJKeDgwFAbixd0tOsOAY0dyUQKDo0oOl0BqQDLNyeRLlMRfpfIwihoNhwjHRbYIiioMEIPyuhXUTWFHlK0TQCNAf9psPKc0kFDSY7/uBGr9Lyda/7/WLsB7kkCy61ZqUkhs0sGQqfaDBtW5Wu0WMZisN33gikHS6C3MpFMUfVmF92tJBNDTWZdC48nupWmCCNGI4TcQEDWJqwwg+1VUqGioUh1Y05l3R0SI0lWdKcuSJMfsvlIDzVYI0xOKzhgaInQrIBAAUIBwiOhQCGTO0ExhWMmPzF0UIKTLDYzBcDFA5kXMiPDaioyhEM/OzRUw0kXMWKzCac04JNuIzPVUx4AMFFSKcMAWANSGPiJi5GbSmmwIo8xGHIA05GCuBsSMAmw0Y//PkxNx5jDpgQMb1zNDJyAGDgECysVGgUwVBAg0amDlkzLXcOoDEm00czDkQ7pmM9BjFywyUZMQJDKDcxYsMqMTJz+CgEkAoqNhSQxTMOPjQAYwkrNNLjhl4mFhZ5Fr02orCCI2sXMZMjO0Mwp1MgPljDoeOoZgaUAUMSLjMhQzUIMBNjXQECEYCezGR8UCwuZhAkVAwOiBIAzpEQEWvmUAjicBHg4YTZTGGASbDGZNZNCWFCZjiAIFDSUqATNhjOIzNlwSEMqjLBMVDF0wMEKCACN3WaAAQYIuXnAokCEDDCREMQyVKLIQ5EqYwoAUFIwqrtMAgRG0eOMLHhaQyuGgK3oJnOh5vkzEkFYRCBLvqGsgj67WrqgDTQBALiqYNLanII0sSDXBp60og6nvzVuLSmpWh9iLhs4cvv43sZFYwx1hHIFqQBGoo9FprDsK2AoUuywUWIa8kuNDwM4UjVNACNyq5CeDWQhcyA1YmUoJlAGv0sfmI9FoBayulkS1YJBBL3wwCAjdBMAk4SzwYEUwEQBLbG0pHRHApgCwGUIJVBUKQspCpIijFgKbROGL1MDG9wUIPZaEJ0HSjGzi7oJBiYEUamSGGhPEz8LqVVHaMSsNC1NEYMkhFAYUQGnBG//PkxMhpRDptoM6zyOGYWPmXDBiIwxkwxEeNiA0YsgEQlbiodNgKHmd0z6IcNmeCmJgGtGgZGLNU1VphYSbxKTEREWNzIIJxuxJgjqhpyAB3R6Fm6QKrm3AAQTcWKHyFshmAy45ApcMlFmk5QqEYoA0IcaIY6Yx4CNL3NyhRkLhc5W8xzi85URNocBCqqlyTIVICCJcaQY8MiK/clglxGYOGUxTBWexF5xGILHs4Wc/6cqXzSy/yNrzAwFL269QoGrdKZKpq6E81mhjDnR5+WVNxf5k8ugdSqVwh/m4wxNwW/Ealy7WIzkNdMEAoMVhOMYhFNzbzN01iNhiFNEyQNyKWOXB6NdhgM3SJMTjgMxBGMFQhQImEYLpzOC3FrTiY1XDgaCYCSLbkrtjC7GGs0sPM0pOVTduCAcEgEtR+ARQOiQYKllgUMmFrZt5qYOJARTMoVAcLGMghiImATgzAIHixtDCi0WVzFT4y9CBUcZSFIMtHQCSRMKQMAb6TUrfoGr6BoAiAWaDhKHwUFGSoQVCAIDmKHZp6UEIZjQTA5lQiYcB1zCBlMiZC4ADBEDBQCFTDBVKQviYIGmBiBmJ8YCfm4KIJcjn3IwslBSyauBxJgVoMmQ+NVo12gFsYz5nB//PkxPZynDpMAO7y/JoyGSGLSmaQmWhCFSjZUFQ1L2aFwl7mEiTKgEJK8zCRgNFAHDCAUzB0AKOIXAQzQWBpBnlJBOgYJQGSBohooFzDXOGRzULRcMU43WgU0DSDABMw0QAGmIMEgJVIVUJgpF+V4pitqIyjdYLfhAsPA0QFFMmgdBKXxgr3tUFa6+DXldOm3VUqvAAGrC9EBLuU2ZctZkEMNzuy9gidT+Q037ElpT8/F2IustFgsigNCSvWHV20MXf2zC4bgVymRNegNSldT0pixmHZTLX4mIdqS7LVaM16lTAPEAMCADAwuxlTD68/FSjTFMEwMN8tU4L5zjHZIqMSAOIxRxxDKJW3Mi4CYLgXmHGG+CqKnqSBIzmMTGQTTMMODYBHUDA4GgcxaUzGIEQ3MJhMxuWTIIwMJBIZD5goWGKAWZEIxpUrmXEEYlCZgw0mUFoYWLpl1iGf2wZzXJpNYG7WwYvHxipBmKjKbIbpkoxmES8YYCxnpGmdFWZHSw6EjUqOM0h04MCwACACKTCoXGhACi0YGAoCFgYOZeuAWBg0AFQyZYQSRPMgBRGTwIBBhDpVIDQQwwE4bIM4iIsZSyTXTDECqRMo7KJggACEAgmCEberlFEgcaGEMVGA//PkxP51hDosAPc0nCCiKqTD0TWcu9LFjPi/s9DLjSDOblstl1NBGqeVQ1JYclsMUEUoohEI7GL7033QrR6IT8E2ZXTw7eoYrQS/UhfmLbfyvIHCgelltZ/s52WV8rfymISmo3B/nWlsArol8B0clbK5UnlC7WLoI42spH9uTxNLbCHB2XSxG8QA0b0t0TG5IWigVhY0HCBcUTWCoeToGQOsCwNKNqZf0IFhwx34ZkJEbQLiwBDw6uByQaBBIVc6GTUhUGs5yDEgAIDcdLsFDYKa8w0wAMuuCQRMQLPEAAwwNIYBDExBTTBvDgMEwIMxByXD02z8M58QwwjAEjAYPDPsYPMy5AXTCCCDMk4/A9LyegUISYJoLJmfAxmficTFkyBKjFwKHB/PGtwAY0BIcLwseTBICMHhEskcWuBshbGXCoYVIx35MHDhOZ1extczhcilBcAARNRIs0A8wp4wcIyYwFRgMiAWcVLAJfKTUoCA+YQWY8yDVhqSxppp5hZpm4ltMqdOMEM8ZBxYMelywMBHQQXAKbOGjSyJkEN1mSMsQnrVWo4xgBJbsDCwMgFixoQwcvJVRhh4OPu/TFox4mWkZe1czAVQERgFBEJqKKaCgSNbDmBSGdqQZlUp8oaj//PkxPhy1DokAPc0kFFrM3VlVBLLs5X+1chqHqWUyGrATlQ02ztQC+s9KbEhfWkg6zQRfsrgWFS+JW4RGKT4Mtzkcs1Hpk1S7QQ1NSmWt0lz9N9KYU8VK3JfDXnlYeWdd0tzcLUMYYYnyXIVAhAx4IHrPDCaTQkDBBlHhIEmNA1YakEY8ZGgYKBRsOFNSBAYCBhIIJGAECLAwGFiy4QHBQQWAKGAkozkaAAIg+AVIm0AhgNKZrokrTJMEARFVnDjoFHzxhQyWYYmGRamJEgMaYa2WaXeYEiQhkUgaHHCoyOVTEFBgHgIGA0CyYKQ6hvl1fG6oQEYZoYJhACWGE06iZMoCpgngSmL+HYa/YJBg6hQmBeDoYmpWRhDiegEE4wGAnDD4IDMckREwdwKTBECvOFCA0WXQ4KmRFOZ0ehxU3maUkabJJ6DvGrBiGcQ2IqzhrjNMp8x0MgaBTIRkMCAwyCHhUpmgyyCkkYXABjUEjAXBoVNckM3PN6xEBELojQDjRjzLhg6ibs+EMjEnzKOjwMBKgITRqlRkixkAgCBiAcNCFRMxBQAtwVgk60xGGrgHQpa8KBi/rOkqgcXJAhnxICb0BWKBIta4YDfxtVDoQxdecqXUtWNNoOAXLfFqzft//PkxP10HDowAvc0zH5YzikWEdFdcONYfJ/8reeqmF3lm7Zy/Vmty1WrUla/ZluqsrmJLSyS7TT+qk9UpZj6LK5TV7NTv0Haklv2PhxrkOWm6wPNRt3XHf18E913uC5S9GSsQXQxdsiRqRzXFgV0IjpZKXKLhcUmQPAkiA4uIwTH0y1hxJQWwUgYE3Dhd8ZBlB9nIgFAKIYESMBTLpSQYXSEIsIbEwxCNLYQhxwgAjDShYuKBExFCpSW6MAcSBWgDBhggit6ea1wSIMUIMGDHQZYDGEFkxImSAoWYYsIxrhKTEFNRTMuMTAwqqqqqqqqqoGA4AOt4wKAqzBBYvNo4BQwpwMwEBcYVBxRlQgzmDSF+IgqzFsPTMusVswVwPguDEYjphxjdBdGDYAWYgLZmCvCQAMhCQweTDdbGNPFgwsExksGDm4ZYFwGPoBPxy9oCJqGFRsY8TpxQTHzn4Am6YwJJs4mnG4ebVHJmgBGPSkaKNxmccmCBqYqNBkQeGOg0YeCRmce1y1QQmQUfjEwqMUCoxeODDw5Mpm00GOTEQ7FCOZLFplsHkgdBgYM4YjUBWhttmYEokJGpjsoBzrEhk0x2S+AQQKukLpECAywI4YSRWOZILOFNED2QF5HgVgZ//PkxO9wtDpAAvcyuKFsHEsrpUmkXFQsFBKhxektgEJqohhZfIMcUAMEktMZwAcA4DKUN2LxilhuNTUU1aitultXeWuYX6S33csvfuvnYr3+9pMOfypz+1+4csVKmFuS288qfsricdffB6HiZW68Dy6POw+kvn35geBkv2HPZARahrMMMmR4ir7xV1qqGj3LkVIDiHqVGXvXGX5Igy96wShKJgWAQRpbqrp4g0ckPiDVFMAoMiepetuUmiGPNq3IhAMADMN2KpQGoSEd4lFAx76umhkiXK0605kEbuqyRdHCTEFNRTMuMTAwqqqqqqqqqqqqqqqqcACpgwAQwLwFTFEKZN14iAwpAFjBSBsMH8LgzsQxzADA7MCIG4wJRXzE5KWMMYAoeB+MHmoyLfQwLlrjEpmN2r40IFEYB4EmBDCZQDRcoRgwyGWDCQfAoLAgXMTEkzMDAoEjEYwJQgZOIZj8PGaRgGI40/xDPyDJQ8YBAxolyAZkrPBqo3q8+ygRCTBFzlNzjG1KzMBTCNTfSDUnFhDDPj0oTDLghcJTQHCIF5o2hpQAHAozl3C+ybqNqdJdlBVczT6VudEwFHFDiFQyJwjADIcYIGVBiIkpeaVmZIYkewQORjQxPZEwuSpy//PkxOpvbDpMBvc0lMpRqEQKOlzUJCwSfTSEh0NTVGUcTRmFGgATMOEMQBYkIBiHFK1p4kARzf1qC3lPQKw2XUr+uFI7kefet2hlWF+STcM29v3MwdbjtNFo089mHs7Ot8q1flPPwwpqWlisxFoKf6fd2IRZ3nyoaR+3glDasegSKMSRte6Al2qGpuKZLnYQrGs1HxMdTJsyvUomYtILZMNgBZjIIBayxpQpkl1O9AMnTGZWWRUqQlWxCARMVWamHCmbskaYmKquux3nZV7EUhYVDbCEQX1TkctDZTlxn8jNTEFNRTMuMTAwVVVVVTAAYBwLJgKhMGCQK+YHzFR9cWGmoqUwZMhepjIB/mQQy0aZ4GwIAdMXQ000Yk1zFwHbMDoHIyWdjMpjMwGM0GHTPRbMuF0wUWTBwdMYAUx4cTPidFAi2oqFjGo+MXhJiaeJg0RGORcYjBwWEhmk+GWwQZuQZhQTGZYAdzsBuETGNBOCAGYjLBmErGzBGQhnAMpwAIYDAptagt+RYMCbNAdMYNIiJmRgGfm5lHbzHjnDoEwjc4Ec4icQCjHhnAMCGDATRUVW0i0MsNZdBrqt2QeVivLSjgAClgQZlEbegenEEazZQTeMzZOTMjgUCTWQnAYc//PkxPJxTDowBvc0lNVL+mEDlvXWWizVpT9PtG1BYg3JmK8ErojQPi+TDo4/TAm2sz+M5Gpiano06UDxuD3ottNhlxajxSpyo8/UqfmIuE1qSOVBUHw/g4n5byilNMclec1GZDNUsXporEYtafmVQ5ald18n4YvBL2PixFhCKUbdKmVKu2OvaXeY8iaiimqkMhkiaz5BZN0HAUfZ6PJVJ0v4sNI1SrleJMarH10NabO3MuKny7S1oMLbA4E85bkxA0sij6lSX+YMX9SFWq7KQqmL+FzTCCUmYejcFxBLYssqTEFNRTMuMTAwqqqqqqqqqqqqqqqqqqqqqqqqqqqqqqqqqqqqqqqqqqqqqqqqqqqqqqqqqqqqqjAxAVcwX8BnMA9DPTEGR4Y/CV36MK9CrjDMAiYxDIUWMT7OEzIXwtgwKoELMBlBYjBuA+UwEkF0MBOAnTAlQKkwPcCtMLyCaTAfwBgwAgAnMAJAATAkgOUwKoBhMAMAFQAAbGAlARJgOgACWjBwRSpgaczhMVSyAwUZEF9hDYOmCNlfAEMzKoxC8eGmNENeNQPTlLnjAcwYQyRYyQ4w5VQM6Pw3qJOkKJzLQjdrDJDSssaNubImYU0BoToPI+rsWIAi9aL0D/OU//PkxMhm/DoQAV/QAO89eMee6GqGGKWghqaxj96VyGmsyOlo7UBP1Xqy2xbsRKb1fszNilwmJ67O8qzEvvTGWFWOQ1DNPalN7c1SS6Ixanhq/Irs3JKWKutEItSwxD0MxmHpyYl7k1ZDLok1ph0Td2MU1C12zKcICeabmXIaFQp1LGyhpMZlTwxFn+buLBNtCHyedxnad6GW4xCAoadEvjDb6uq9Uuht+ePNDz9s5fl/pGsVyZyXOEsM/bXYQ7TvS6pTRqNxlyXZjLkz2pQ71eUvzBKmLDl3S50mXOEyaNOVQEAIBAoDAgAAEe/O7TgxNEziknDlCYsCpztKGS0ECkgDgmEHgxYNzFolMOAYdBKLABDhhIRmDQaRABgZhIJEIJBQPMICsxoIwQCFKkHyyaFZjASGHAQWgVjMDCUxEJzAgfMDgB0pYzWaYmkWWzMXCIwwBi1hAAyyIGDggF4FF7rsVxdiM10AjWnFMDgFc88YEDIsfjCYiEkgYSD6J0ZdeNRKpE6MtWYBAIcAwME1N4PMDgEGgRO8ZJgcb3ZBwuMJkPn0MXryKGJBXAQDZOCgouxiEYC4DBwPMVg8wqYjThGMLk8xSRTL5BNcBA0C9wVjgapI3Rz9ai5T343Xw07C//PkxP94jDpIfZzgAOstes5XjriMJgIbmRwiWUQfEgcMC0wKHCIPGGRMChybKDhp0enDJwEVY4e/zGReNgkHn/hzPfc8e73vPpQCDBIBMxjkIB5fNKB72cGDwCAQOLAcFA9y2TsvgI2auTIjyCeWZSFwcCjHAZMGmQygPDQYpRdMJjgQFAywECUGGMSmZFE////3+///vv/z///YIvFMYFBAWAClbJ17twZI4DTIwkOrHGFMFqZt+/mJh8VmOjyaJFxgYYmXAyYZI40ZjAQGMCgkxWHSItBgpHhWYmC5hsQBhQMWDQSFBiwPA4blpisWKiUAdWaJYhUOoQLhl3xSANdORgxwQjAxQRG4ZwTLMGNwS3F9mmSx+4zG4XI3RnLkmgqHO0UBuvHNM0YWzNMMxw5AWo0jYztxnro3Qge2z5Yjyq8QkoJgASQJCgEvmFACWMvl7n10w1tplO8NA6FL1gCgUTLOrfbAiqChxgAgYrFnpkxBigwhAmFGKaqBlrC/w8REQttjBkh0SmaSAzMDTDGSAQBgZjxQwBASkQrjdjjEjjFszXMD2rBEnMgHFh5oC5hRRm0Bg0QJahYwBWgwdKgAFMjbTTHPjtsDKkTlaTUizMAjasDHNzjLzTli2pkS//PkxO91nDpkIdnQAIYoebG4Z9yfieZ46Y94bEglKJIDh6jZOzkFSoVMMONWoMWaMSpHrBjIpnRRlSxrXgojMEtNYhMgAHAZgQxkWxvyQEDgJkYoqYAMbM8ShwMVMGkNKcFlYULAomKiBQmNETCGzDhB0eUJAKQNmUMorMoPMa4DIzWS4wFKGTBCwIv6YACpkBA6t6RhgxRQOSJCpQBMhQCYgO5aAlFGiMCOBQpcZaVDkuwvUIwgCHA0Eme4BaZKdFJ8XdaVH00mnBQKrliSpoDRVFQgODNHVpa03AvEremABgzRUCA0Gg6laold1hKqjHoFaVUgpgwKDSYEYOBhYAumQAxgZlhjpgLDXCQcximEpGCAOGYdIh5ijBWmXuWaZlSURjDimmacbsY+wNJg1hKGHwI4cepmUBxnpeamomjipESmkv5mIiRE4MDDTFIwYYBzIZGHmOLxEOgU/MfIDdUE05gNObjjj43NrBCeFTg7CqNNUxRXMdHTOzE0BQHTMzMjMbCBpUMlF0iQYIlEWaUHGCCgjOTjSkzogER+Z+vHJRhkAGPARhYEBqFTF4QgIOKWqn4FxX2aTES378SyJosqyDgbcFYQViAx0qCS0CQE2gd4DaS1SvFHEJyZiX0A//PkxOtv7DpRYvbyuL6L6UGkK7pqUPApc2BSZe0AAgAUt075cWGTSbNAVdLiGACwIAgA0mcYog8NJA0Jkb7osOSKgA5ot6iCZR6ijCH7Q5JRF/VNV0u1ZQxWAX8/swgmXOqFMZ4lO1mFtllgIVjj9pCy+OPMtFerOoLeBrzs2UBKrGztNZ1DLWmROWyBWJyWRPNLX+mpe7jEm6xySsRdmVS+cf6AYdp3Vqtig+flL2RaBs2uu8/rs1ZrJ4akqtTV2rSwzJJO1mhlsSnpTWpZp+uQ9EZyns1vtUv0NLGZ2erQ0jA8FbMMwL0wZiODOxXVMXQSwxTyaTRfVvNAYbMBBRGXgAgat6OxjMkKmDoeyZ1LrBsXnwGFOgqYU6dhmcEgmkrgnOuEmJqiGuJ+mtpfmvwvmfIJmg4uGvw1mRwjmXyHmsIcGCbSmWrKmIyvGEs4mkrxm/0jGV8SGXMQG5sNnE/NHS70m1FhnBArGOaZmXAlgKAjGgrjKMojJ8sjIYODD0tDPUDDEAaTQ8kjO48TFUuDGJIzDxOTCQtjHFzTUBETboqjMc8zKtqTEVlzRAGDTUzTQILTgI05ceF7QzQbHC8zVOKiQYKLg44L/IxApXFiMxYTCimiGYmXmVJ5lxSZ//PkxP52DDowAPd2uFlRkwQcIXjpaa+gGKEhljCaTDGVARlgyaoZCA9LrgJaMQJHvTNTNLpLBwQ/suW2ulo4cAKwI2l+QEEBUGR0MaBTAxgGDAjOXVIAIw4WDAsIGTEgAwsBTLgVIpwBAFmCAKaLM1eqlVhY6pSv+Gog16khmGtymX0u5PVpZVyzK6t+3SYa1r8cN463vV7vc/7vD8/ndfS1M5mbluNHuS4UlNTz8RtyqUxmOS7k/KYjldiMslEZn4Gs5xzCmkOodlG5ucjc/RRSZl3JLlnN2K1jlixqpbz+pn+FN9SVVUxBTUUzLjEwMFVVVVVVVVVVVVVVVVVVVVUpTAJA+MB4E8wgQczfJDkMEcC4wlVKzFhrgqOZh81ZzibxkGDAjZMw8HABGiYQHUfhTecRMWaESkaj1Qb1oMKBkcfB0OjiYeGSYopeZgBSYkIcbFowZUlMYTiCcLDsCCXNeQjPim3MxASMSQeMj1QM5zMMoQsMtirNjhjNR0xp5NcUzXhEKuJqhOBgUy4OMrODLxAwwJMZQA5jMbIDJUw0kMMGLTRC1OAwoxMyTzfJ0zk/NaVw5cGqI8CvN0azcGgy87MbBzNyg0YHMcCTCBIBFTT0v0RS/I8BCxQoMFgg//PkxN9stDo0BPd2PERmZQNmVFYFGDIg0UKjF08zwVDDUEgRlgqDAUAAxjoNLYGQmuLXXNI4dj8anGewzE30hhWRFYiBIPKACCEOxEJCxeupAE+7Tk6hQELvF7Ja/CmK7IhHIDelgsI7IodmbPOW9YR/W6WrNx+HZQ/Ejp4ckNSM268P5077xuRzUsdiEZzT+avRO5epJdLLFFflUd/Gil8ujepbhFI7hLJ2V0stsbrz+5mtS7nbM5TYyyljc5bl1zt2pPT2VSc5NSy5QRfPcW5+MvvU9SpKsLFu5eyzr0tdTEFNRTMuMTAwVVVVVVVVVVVVVVVVVVVVVVVVVVVVVVVVVQmAYBkYSIABggoPnjCMYYUAc5mB8XmgwS6YV4HJiwn5mM6IEYHQIZhDpcmUMFQYeAUBknmRmWIHqYBQHxluoAG5xKmCQwGnKCm8xhmH5UG2iXGlZ3GSyUG28sm0ZpGCKXninQnKxjmEZLmeCemsg7mIpGGApeGTRHmDAIGFRWGUojGAYLmCJGmJgSmBwYmFoqIOsHMIwHN8rFFAImBEoiAEKULCWuAwOvx0gwMsVUKTIgBp4LnMEDYw8oJSG9dCiZZ5bADHDklnJMcNAwABEm3BJIwoMBIVFDFim+Ma//PkxN1sDDogAvd0sDjGH3nATozB0FLTTwAcjL+gwEZscxlY0uZ1PwLGaSXRqtD09H7Fu6/KRxalPEwJAyIRk0EsKYGBAKSQMAhgFFFOVKwxIQu8pNp0NqYwA/TPoHiW4jIrG5Dq196kwmpPXjNnCvaxhmkyd6nm3djU9Wry2Gb0poLNm1jawpso/J6KOyyehqV3pbLZdei7q08MReDJQ8Mowa1yCXlvwDGJc/0RtzsaoKS/Ul3zM5K4KgKP2ms9ij5xCVxN8Jt/pU412IyHcPX7dmU4UsSqxWZklPLrNNgqTEFNRTMuMTAwqqqqqqqqqqqqqqqqqqowJQExMGnAhjE0gm05GUJGMH2FQTFVNOE2w0AfMBECEDG2Bkk0KCLTFVQUMYaiowbgUzGxKcMyA4YtCYYYMxhHBnmByDGYHwFJi/DImKUHGYFgwRqgmaAEFAyCRsTS9B8N+m41Z/D1a2MkjMxq2Tyz1Eo6YCqBpsqFszEBcHmqSAQa4ht9ZFCOMZpMz0TzGIeMDH0y0OxAQxEGgMPSIUmGiMZ5QBh4LmWiUYzMhgwMGJAyWZbcwOFggdlAKFQqAgmMBAKEUdEhggHjANLoCQCMfFExoCzDATAQpRRWBVIitBCw7il+oiwt//PkxOhu3Dn8AP+4UCBCAEVAKVAGtAvklSypsCKTAXQaY7iwrTajDZe/0Zp5G7r99g9/IEjjYXpbExx1GsvoiExOYUCbxoDDGTKuelhKZq4GPO9SuOyWquaHWbvm0l3XMWk8D0sudlgMQm2tPzHnUeSQuw7FaTS2KtnjEilkpq22TXnpoqsX7EXHhnsOQJdh6Dq8UlUur3JZSTD6XG9jOqsJaZJMI/ampXlBUrqwzHX2lzuzEdhEMyPKrKX2mIzK8Xrficirh35iGZXbnsNxyKyeAoDlvZijzw7amLdaxdu1TEFNRTMuMTAwVVVVVVVVVVVVVQgUtxgqwJsYdoNzGWnL+hufIcmYMmL6GunGlBu+o3WYeKIHmNOj0RgZQHKYC+EeGEViWIGDATASgb4wPkH7MBmAUjARgL4wMcAjSTCoBALAN5gBIA0VQDEwE4BjGgLkwOIGrMFIAmSFtPp4DMSwRh5pjaZ8QhgUaUNsAGAEy4fCwCYObGEiAsbF3jAg8wAFMLFlThYPMKDzCgVpUXTsMDEjHDEMKWXGDAqxEUo6+pe2urLAD6BUJHiBPoeJ1bJWhS9LlN+/j+OPAReZVxQAOKpJxU+IdaS26qj/tcXyylWyo5KJae4qB00rSVQG//PkxOxvzDoANV/YACRSJ6KyaLT0v2kxN/mm1Gvt6o6v92WnsecN1nZRshgsmyhNJryYzO4tBqomIv07TxsbXa1GUK6XorajY9cNQxGE5X2VBDbsNYU+1hyGAwGwRw0yqRW14meOQzd5JU/UPM7dth7XHOabOMba08MBxF4ndgBpLcH0hprzl0Lh12wPy0qWu8tlEZmqx2sw1IF5M5dxyn7a46SXL/LczaY7NMjMxxazKGsQNRu25MggqNPw1iJVI23jnR+HIi7cOwS9T9wy1tx7LO4If2IRqAmvtml0HuAqgDVABh2OpGsC4wYLLYBmUjGGIycQYPASZmbgqmB0FEYUYdQKAJMAQCVB4wVwSAgHYwAgA0NFblWJVMGi8zAUQicFQ1K4RS0kM41pN1nb93d553Lk3L9Wb03A1Pcw1nSz1Jk78S1i4bzQ26cPZM3fmWuxUsVJ6Ru23J+E52zsgUoLpt9OxswUCgLA2YGhXDkY5Nu3FWjI+M3UoTMVEYAAIYIAgY8haQBYiyaMFUYlhKYXhKIAbMXx3MfSSMukaN8kkMLjhOc4nzqPA/DzIxJEXJZG6y9wALZjiEpiaHIyKBjsIxioMgOB0DAmGA4YEBAAg0MGAOM2B6NISLMvhmNI//PkxP98NDosMZ7oANTzXNKzHEMzDYODRMgQqIZWSIKRwEjvKncXo/9aWTkjzl9/s1GKS0FgERxMBw1MKQDgdZxgUDRg8Bg0JYYCAGA8BCYYIhKYOgCYBgKxcwuANP0yGB4wvB0xRA8wPAUwDEEeM8yRBAKBuCifMFBbMZgoMTwoMTh2MKB5s3qacjFqxhnlnhu3hhv/7v2UDoCGDAOFYEAYKE1GtmDQCQy8BhmEoKCvIFAwDQPAwRg4AEAisCYa65UYkg4YtBIFSPMiSXMWxxBhkGSQJGM4jigkhg9GEolGKwfGJ4wmAoTmEIHGAQUCMKTFsOzDcEzEYQjCwCKOTEFNRTMuMTAwqqqqqqqqqqqqqqqqqqqqqqqqqqqqqqqqqqqqqqqqqgATJLbqwD+Vxdy4rLgyR1wTc5FAaCMZDLS6FnOSAlB4IQ3l3IMboYQudPILFHdoUKCFk7y1vQCIgC/IGTciTO6rYjY118wqanEHPywHTGYWzo3w23AKAlAje28dYkt1Tc0404oGLOMUd9WNabHkErZ2ghBy8E71AEbL9Eu9555+HVlzJS3BfilmXwg2HoZcdkag7XhoRIJdIIOQAGZMabQKMVqNsiTKQErTI4Mdw2izJHVGYIRnmhYI//PkxLljNDpyWc/IAjgjLfKwAFSaIAwkYCIcaZBy+YoUQglIIFFAREIXuKA2zJglAZMmnwrDD6Hie7KFY3qU3SmZqx9JQgBcNjrnOu366liqkjtaROCoOioiunwtJfLuoSlyrgKD1bW4M9T6IkWGNSUNZSITAMCt6JFvS1yvWWK/YCXOe5Yrc3nHRFglalYVM1csrQRF+xoliyEKFS6AgZK12bjA1roJEb0XINTyaavpTNizTy1COasMLb1rS/xIqBH/epnCw7iuw4zdnUeGCnIp1MlyvFehiHrL8ylYZstyTEFNRTMuMTAwqqqqqqqqqqqqqqqqqqqqqqqqqqqqqqqqqqqqqgOoACwGYyKmFmphsgexEGSQh71YOWp7ZaYClkYss6cJsOZSjiZonOYkg4YJmcNaaVCI15sToOXlsBCHBQdtzBHDRCExzGLjeIlPMBa8LBGnrvSsf2NrrjlK78TlrrxGrDMbwpqKQ6hl/asosxORu4/bW1VFVEwJxUTUoegfCKRGMxJmTxFkk+UtRwiggMqCDDLghYeWxAglzLaqi1XAYsXSnyqBMIHDCIVAFQWaBWaw+RCACSMgBMe0N2gCAw4TNY3NcjM0RMMXNbSOm0MuKMqaJiarDGligUo0//PkxNprhDpNgN90RBQOah+bQmiaY4uTEC+SnRkVhoDIYBMAPMsRBwECAVWILICRwORDTBiEBxboHAnGYyAgKHUMEqVM/XYWuTdLilwV7F9TCBwEJYqyp+oNRVZ69jY1LV5IPOOwVnRfZEaWIZI5OCksBgy9q4WBjQEEgldrde8uC5ieyzlyqCw4159y1KvYZhxQJtrUpdlyY413alKRKRMCNaa87KaLKGXqwsqWSrC+q7W7gACpw60AtZgWXLtTJV7NvaXOQHWlKi7ygsMQ2sK8DrWGVQ8wFpvLjvS+K00pTEFNRTMuMTAwqqqqqqqqqqqqqqqqqqqqqqqkAKCqYbAiJkUDKH/MeuZJwRJhqiZHDrDkYbImxh3jtmPxI8b5pghjEihGPMG+bhh3BgNAhmHwbmOD7GO4CmDIKmfylgInhoMjBwMDSkBDAkADGRxjSEowIOZnGP53uDZjMCxh+H5AfIdMjBSI0E1YPFA4BCIGfEazBgoxYiFidNAYH0Bz0l8wKKLdUBLTEQi2zPUqy2qHoCH1DjBw4wlJMgIDRmYxF9NgljMDQlOQuBGfBBgg8EEJjZaX6MAADGSVSsEABg4iTHRUDzGyY04xMHGwKTiEaMKEWZGCAZdMDAJiA+PD//PkxOVuJDogBPd2jKDQ4xcaBymYOEokgoKBgIY4EA4maqvhnLetfXs/LgzbSpXKpE8S2ldRmxBT9OS1qXxiMSedhMdkMcs4Q7Ko26tJM2XxiUirPs88Zlktxp793UMU0GQVRv1DEXhT6PxMxB9JPDDpyJsEJWPGnE5RRmXP5Wrv9Ty92LEQqRKZuztvkhx1ItQFLJtu7zyV23D1Fo/DsnwlFPL3Cl8vfvK/Ep2quxqz8MrbKvlqrhzzHl7NaiT6OVB8WU0YKwd0FM4VAjI3HdCkX236x48zRosneBkilbL6TEFNRTMuMTAwqqqqqqqkDAdAgMEYRcwhXcjWDVpMOcMgwwCVDoGUBMaoAIw0whDWhcsMJkW4wFwazKnDFOgAQ8wuAmjJs9zyAlzD8HjF89zvUvDBMSjClJzj0YjIETDFxMTqdzjKkHwqYhwE1xjyKSpjIgiA41zGw8ACpk44Bh1mAVB06SoDGIGQUCg4KARQTFhMGA0QCHgDCoyUFZQBBEcFhASDAE25oAk2QWEzMB8xIFMRLjO6QIajZnE2N1IpU1APNBFzE0Uy4nNWC0+xqzMSBzHyciijFyMZHTFRAxwOMHJjB2MwsYBx0EDIIJgEfDQSWbStUrT+XS6gYGBA//PkxPFxDDogBPd2jImIBQJES8IgBS14OCVNVOSYEpVaH+2+UQp4pzOGopPadJrLizTS3imXWg17X3fvkOwxdsS2IyqJymHJA/s3fkEvldyZqRl6JdFH2lDexWmwgJpUafaVOy40NRpvWtUUOypsL8Mpbs+bgtIktPHms1W1cr35fKWOTUjlNL78OSN3olB8w+rUItGn/ddez9O5BboQXBLkUlM2BuTZW7smru0upzIKkz/RGbXc/LXnSeOEKHqHPrTLiaS2BKdmyNrIGTM3l6Zaw0qa0z1xX+ZmofUWBZ3VTEFNRTMuMTAwVVVVVVVVVVVVVVVVVVVVVVVVVVVVVVVVVVVVVVXBgSgMGDgEGY0o/B83hKGKCGCYpo4x3VmhmIiHIYQYBZsvIymOIBCYx4nphxyRmswTmYKAnplyrgmPIAYYJgVZl8ESGNGCMYVYR5g0lhmBOBYYBYmplzoimZULOYNgTZieFpGD0I2YHAEBgaA4GF6AgWyMvYzfShIEGEAFPzDgchLzQwcGAQGBwQCGGmBhRSYiGJagwPMMDjEQ4IBhoQMJFjBAtMBIYGgAKAgoCGQjhjJYX9MOIzAj0yQ4MLXzYnc6xiBMSABEwwzMQMzUSE004NZFRAMoJAuJ//PkxNlrFDogAvbfGAQkGNFIJPRoaMlOhpna6hkGA0Pl/YUvmURmUOSmgpUFgckBWAqWCRGwJYqOSvFV0EcLcSLzsAUXVAoGVdLmc6IqrTzlBZzeUrxDk8eMKK2TqiGoo98zUfys0+K0boj+V4uNzqVYWmZlUTc/hSq+GnVVGY1VjMs0VXMbiczOtNsRPZYWJmiqdMqzKtqnkMaI8VmRx6G5MZESquc36gULmww6wtQdNJ/J1eV5wljYGE5pVIWxsYHx2nCOY8tkCL6ulYX1YL2uANUmKmPweQ3iTHm9JNBVTEFNRTMuMTAwVVVVVVVVVVVVVVVVVVVVVVVVVVVVVVVVVeGCGAAYLgRJiotdn+KUwYY4d5hQt5n8CbwYaYspiIoumCkAwYQQ5RmeEQmpGTgYKwrhlOGrmZGNEYZQURhLn/mMSDkYnYURkCAFmZKKUYEYihg6JFmVQN2YUAdpgVD0mRO4InDREA9uMAzWY24jKUYKZmNk5r6kGKwhUzDRgy0lM5AzSCsxgLMUMlKgqAg4SMeEUcTAhxbaEhFgtSIQVORnbTWKNunSxpHkwINIAgxJbN0iTShAxMxMmGzICIzIGM5BjDx4UPzPD8zoSMVLzDA02ABKguggCAMDAoCE//PkxN1sFDoYAvbe+FmqpXdlr7vrHH6g9iM4XZdlMSMNxLnMSE8juLvHME0XyhLipEchTEeqdgpZVMaRXCNdE6PJDz9VRtn+sJE5UUqmVoPxVRlM0sk6kVrA8du1OvOz+NXBoRX7CzUlJ6hLGQkwj+fv1ar4Vl5D8K+EZCnViMMlHHc6OiMoDtRTgsKJUnygDKL2oVUcpKVhxkQldrzCSVudHUbS5H0u01OXxII0tj85ytIEJicSMLMvCNNY4VWOksJzMpGykMoSyQLckwvS7C3F3ExMUfJCBvO35rk5PNsVTEFNRTMuMTAwVVVVVVVVVVVVVVVVVVVVVVVVVVVVAKUTApAIMwT0ItMHoL+TY/wIUwMECQM/ia9jMNxjUw84CTMHoH/jDLQQYwtMPmMYDCcDMBRzJp3Dv/iDOMNxGXBk0YhhWTxkuOJ6bFBq2aRmWzJ2H8BryFZrm4Z0uiBjyIBmcqACIYMIYw+FEydBgygrNGeTEEtUBilwZCcCSYd01A6dMUFhsdEi0LnIsllvQEAmZBwiACAMNaOguNCA5AJ2TIAWKSJCCgIVQ14kuEdQCOhwNSjI2QhyUZhAeFQ4YCkglBMTEAswIQLyGJCIkWCQ2TSwBCQuAjw22B61J1Jq//PkxOFtFDoEFP92cC9E/UNUEbeSiRZFANR5hD9J7ROD2irBOStl3ofiLSH+lq5U+Xth/TYcZGu1e0isONAzc3JdWC2DOeu6ktxagZJQTFlw3YdSrW3df6IQ2/MkicBNkk78TzgN89zOmTOtGF0xV/m8lLbRiHWtU+12sxTFVK7r81n8h25Yl7/ZxevbvRByqOLwBEaWIwqfh2DZqDKaT4xS9VjL7Q0/zDpbS15dLmHLGXcxJmtSDZx+YzDzgu47Msi8RfllMOMSbC1prTXmTS64/8YfaGW9lzWq72ulG35VTEFNRTMuMTAwVVVVVVVVVVUJgSgP+YPOFSGZIJLRtUodAYfMIZGkV5hhpdJSGp6h6ciK/pjzkhGEYF8atwZBjOA4GBcCYYtw0Jg5AyGEADwYLITphChimJebaYcoNBgphFmO+xiaEQ+5i4E7GiIMQDAtTYxuOWq0xmHTI6XN5rAxiGDCArObrAwaRjHokMuJsxeTTSY8MrGcwGPzVIQDjcNB4yoQRUFGFhgYoFKGIiLwiKphUymWRAFx4YOJRkIIlvjEgYMOAkUBJggIAwEhcaAIEmMQGBSIYKFw6CRkRPykmsDCGdLVaKYLBadZg0DApAiw5IQMUGZYEIGSFT8O//PkxO5wfDn8Av+4NPu1IpY9LlWHrbHYcuRSt6ICZ1SqthuBFzvIyFuUTdlxmaRlWB93mgR9VaoAfyFxmRv5IX7gODpFLG/UcbI2W+3Zw2duW5UAI+Pc6ratzUtgVTB9m4ssjcUdCDGUylfbzL0bNC32gxfkzArzR1lrjNOaA+1A/cfeC3LZuBXjn3clSwcpjDp8e10HUfe00i5KnKkUXjMOZy6M8gWBJ/VnB/K0OxjUqgOamJitYfetMP0+XYLk2UKfSTO83Gtk+9W3IaKakda42SSUcNUMw3CXwTAUZf+oTEFNRTMuMTAwqqqqqjAVQWMwHYQkArekYbiHsGBPB35hD7QyZ5EB0GIdhhJhPQPIYR0EjmDeCNxgc4lOYQULCGAujZphrYSUc0YAfRLIZjkSZj+Oe1hcZu4CeXjeY1IQdCfgekVoZR3yfF2mYtnKa9qeamgeYLl4ZCHgZBDCY8jeaSiWYRgYY+mmVABMERKMtgjNwfgNTnQjplwKZmTGbBAGKzCTcxorMaPDKDc0QbMXIQoIsNMbCzIBMlJhwlMaAUAQsCqABUQtGSASa5i5KYQRDIMBmkx8rOWXCUlNDOzIx0wg4NESgFSk0+bS7mbGJgheZCimdghELhQCSG40//PkxPJxZDoIAP92kIYSvBAA9jSWprHWi62TrsPhiHHziNBIm5Nu+t8w0TRzQaLiIDVLDCAJggGB1FVUnub1MRXDTGHvvDT+OnTtapY3H4++8ZgqQTLuafW3LHpbC98tf+NsqonUZvOP012clkjvSN2oZd19n5l0xHIlDsvirYIenXYuyZr8ZyeyBfbrQRSVUcgjbdl+P43Nx3Xchlj2zjoSaLuvUZQ8iw6KjxqXtDeBmmbE51w7jsRyliXYdn7MvkcthiWV78Wh7Ug13eUbqxm/avUmc/KaavJL8zhnZmM6TEFNRTMuMTAwqqqqqqqqqqqqqqqqqqqqqkmEKIAYIgjJ7L4SmyILSZK66J1kvsGMGLmYVKSphZCMgUDUw0DHzC+DXMOgGI1YSSDE/CLMrsQUwbQXzEmIkMARUYx8QGzCoFiMcIVowPRbDCRMWMZwH8wmwQTOEY0MmYkIxkiLDLpBPMN4MwwgxkTBeBkOIgzfcQ0chM0vzDz4xZkOTQgVoiOVOODiQENGjjJigwE5NZQjERkWRzFh0ID1CwaAPUw1x7ak1+Krq3ItF1FcAwIGiUxIaNGWjBzA0icM8dTDV839zGvAzkxMjbBlXAI6KFprZOZSmGUMRpZUY0aDyACB//PkxOZuTDoMAvbfHADihA5OBZqCl6aZs8dK15zpHXjtiG4k+7O2TtMTKL4FtzHggwMPUuUSMCBTCQAwQXWMAhBSsCBy+F2BwCAQEDAaT7fTzW516ph/IhZjCEnm6PuO7VpmqdaOd2PxSlvkb0c5rDjBW8LpzR7Ok5o6Xb11K4KiG8RsBSow2DcjQE+xn6sobM0ldKkW5DlCl4vdqpOl9NBGIS1KlbPY045AVBHH6yvC9OZdycq44UbEWmfK1BclqQoUhZXMcZCkYc6UOu0HNYseRyZlOxn/DxF7pPSN0V5VTEFNRTMuMTAwVVVVVVVVVVVVVVVVVVVVVVVVVVVVVVVVVVUwcgKzDbJVPWrfE27RQzKIQ1Proz4x/AFjCcMjMZ8BQwHQZDC9LyMIgLIwJg6zMpD2HQvzGuC5MwcP0w7x/jPkTbGkHjDPAXM7QCMwCgljEnAaMlQDcwbg1zK2VZMjoNYxE3zDUtNRMi8JgxISMDECCyMD4BUwth3Q4K8sAShweRhABDmF8EeYQ4EZgMAgmGIBotYwEAWwKAav8wCwSh0ybYyPPjEER4SDQavlroWLuTTWMqkpWk+p4xYUwQk2SQYDGZmmTeCWdFA4xUxiE180s6cMcFIRiyhnQJsV//PkxNxr9DoMAPaZVAZjWadSTfDoKjJrTEB3iMoBRKKAMQZy19t4rTv1DE5DrrudBj9OQrA8wwEnkdBCAAxN+TCDmbqpjwIKAoqChYQZL9BUqWkUwIRDG4DVrZK8MDxp6K9d/nfKYne6OQ5IywZF0Y6VVhYacJr2uHuHC8qCETx3hRJlaDpcegXPmRFLa8RDIf1xCK45ogjK5/GJ6siCO8fCGymPSqWy2QA8Lw/khaB83P3jYB5aJRWNCoS6NHZ2JhAUwafuIjQ/9kVnis/47H9+tmErpl/QNL24FjEK5uCNTEFNRTMuMTAwVVVVVVVVVVVVVVVVVVVVVVVVVVVVVVVVVVVVVVVVVVVVVVVVVVVVVVVVVYBtwwfgeTDLGGMPbyQ0JbQzqP47X+k0oFQwlM0ygJgwxDkwuD8zuEgwBBc0yPExPCYEisaRqoYxF6ZCrscklCZKCIY7kwLGyFyRMlBrFQCMxzcNAlZOtY2Nw+uMvSpMBRBMDwZN0aMSlNwANE/NTBNEdM+wAhYyiwyIkzokhIlvyzSPyXLMg4CwWLteet6Xyi9rU5WjD/NLQkpwyRBONAUwRCCV4k0Dk4IHtfNMCKAhmj5nxJE3CJICogkEaUKCQSj4gDKqsVRkVghL//PkxMtnlDocDvd0HL+c/rK7ZxjlyneaBIindHFSJJseAolf4BDGWGCQYEBDHDEAqg5fN1Fg2JtcXnHYdkkqZ5LIm4ktvP3HUyFhU62lsbhtlDWIrFndae0dld923EgJ7JRLofjUOS/J/4rAD9WZM1rJ5odhL8u/Kou4zoOlQUcQffOUwBAdA5TpRx9W41oPh9+5BHWmZwhmsZfO+3FovKsEV2kxKhgaNONOymXPM2J3nqgqHoW8sqd5rDIJY7bpvM7Ere53aN/pPP3Zczl38HLcyV8mXdygR45h24cq0EXVTEFNRTMuMTAwVVVVVVVVVVVVVVVVVVVVVVVVVVVVVVVVVVVVVVVVVVVVVVVVVVVVVVVVVVVVVVVVVVVVVVVVVVVVVYwA7twMBkLBwmUqu0ZmAfZg4gQGCoEOCxwywsBBOAl5ihboECgCRzHCIxM7NiVTARczALMzTx0DMYJRpoBogYeJGZyINeDjJQ0RPNq/QPum3ioYegAYHHkKjDgouKEEjwSLXmKES6iJrUlgpAFBZjxpgEwgKgAIjSkirXG4xBlM3Brsyr1nTT2jFpWxtWiS+k8Z8VBCAAZwWk4pEOPCFWbiIakW4YGQmkHEwMGhC/rci511Y6yWHPJLqeZo//PkxLxj9DosHvb0OHKkv9r0+3iygpfTJpWBgKzVN4qLNjSgDoJS2SERWbTrDGq3FRlqHCQOYWhgoa5bQXQtyxnJe62wdwU+VhXoZzDaaSrG1ZtCG8XvJHBiUgfiIw031eLZRGR1dP3EbcMQW/sy6kByW9Q1aWXSZT8ca7BjDFgXdf2QteXs/TX18diK25U7FaSNae2Qr7WurHGoo2Z+HyfiG1zNBizxvfBsJemVPBTXmYtYhp0VlPdOU09Wd1lk7DMPUTJKKMNffdrSsUMrgWHnGXr6V4+zhMmXjDrBWVShTEFNRTMuMTAwVVVVVUFuZXmaZXzaaEMSeqEqZ6hQY1sQfbuB0lyGGw6YTT48UTD48MenQxKYjGKNNfGM2mCjUxbATiMelI1gQTYq4N+GAzWigK8yb4n8VeeXqhhrHjKkNLFc2SdjEglMTOjYw03RvMTKjLUo2kjM/tja0Y6UJMPjDMDsx4CUDMFCE9hpDBIUYWSA5eMGBS9LMER1YWvQOvRHlM4GA6UUia6o4FQCA3rLsgwFAIAYmECxocW2GFmRrbCaccGhCJjL4cNZjwQBpYzw/MmDwEAgIFXwztW8GhwcLAgPKBViKFcEPPMv5E3RYA98sXclcBAtSRf4eDiQ//PkxPJxfDoEDO82ODDDx4ONmOKCmQjCGYXBjDQIxEMGB0w4XHApJpXQhBEDmlNWSnZFbaC0hYJw4q2ijSp2EtYAABDr/qyJor+QiUfbZWSC7i7ZG8brvy+zV2IxFqj/w8v1+XkizEldsrTDWJKHhadAqIrwLISquO8qowJ/VjOOutJV5ksmKrxbk+0ueeB4NXbHKetDStilUHui8Mdo55+ZE+sVizu6h2rchyCIk1uLt82jd32Wo2BYJnFM3yklV33WzAbRJyVtCp3KaY19szJn3gWSs+eSLLwrSmOvlOtqTEFNRTMuMTAwIBmzMvrTrrZT6gUzOQnTPFJTsJWzTQwzOwhTCYnzHQmDPEFzJBAzPQajQEcDBgjB4uAAMZiUDxicJZhwPpi8PhkmPZloAhmUaJiIaZhNBQ0cRhOEhoOKhgcDxgCPBiWCgVD0zgHBqIYCBmKDI6WGDkQWCzzzoxw/JToAMZtjuaOdGChqR4KEQcCkoiYsFiAJTKbCxZmrFxYdYUwktilCIQBWNorBiqFsGRCVqWwwEuoYqKAoGMbCBUtM4EzMYQ4V+N2bzRCkvguNsCDrpKVQWwZsqHUtipiyJZztrliTitFkzzt6vpt1VwKIq1NBzQU5REDAM9QQ//PkxPZyhDnwFO7xFChzehN0YMhNdAQLHDxVWF91kgZpmC3jzK2q5hplrxpiiAaXDvKbYkAlZAUJ+l9JbLWXSie/KRbElRtMacsFK2morlrknFxwVL0VnAhiGY1J5bASuoFmpdF20Ze3Zg1ZTiuzFLxpKIKum6tMbEvRpLDFBo2KJXAxaB2vqUJ9LGStZckOzh13BbBPNchKgCXS7EbS5zkuql2nCrVOsLlLJ3/Q7JXLxWGVyJCn4mslwVkqiUMQeRQVAkklUhujGne6z5vaLLftZDDUgWmJ2tceqGkUGtrGNaxI81kGKTXjXJMFJSUxqCKjLyCAOTomE2/TtzPIFbALKMrG08odjUM1NEKUoxJqoKmKUkYrChMLQuEjIsWOCtU31cj0vmPJpA2OATrtUN1Ck4y1DBxdNQBsEjcy0KjI5NIAQIwYAhIKg8x6nDX6kNGjxTcEhwx2ChIRDoBMKBFRUOkiwoCIRqCDAYYZVhAxQQlisSTEjAhDJLyEADBrOZckK0wRkgMEARVwjAAC8CtYoDh+QiI2Z4yGLRECRkBgEtAcMgbJeSkgCQMKGQFhAJvmtLCBwJvFhrTSXGT1U2FgKt6N6GbBSQaEFlMmtCoIvGFQygpdYWBlugcOQqCC//PkxP94fDnQAPc0XCDAJgRjpOohJLBUYGCT8HAAUORwKyACJlkBo4XbKowHLkrBYUpclEnamaFgiFZfRp7EF0K3IUkgFdCElFZM9EKjQdSqWwgBjgXFqVJGhwpSpy2bK0jIBTp/EfmlPYEBkYkFVLRADTgHRLO24pQJtDoUtUielC9LeBUCQAQuARGWsyoujNIhBgBLJnaZV1YBFdPGXlpUlFcPAsRez6I9Noo5TKBFylno3PxACAJJFpzWUaS7q+baSLwAAKEFWPrFfp01hl/rlS2lqxEflLlDYJdkqiBoFK0elzvYYIHDTMY+gaoXNb9hc5AQeDodaINDtSgzJUKzKnEYNIZJcxFSLjK7HQMHsXcxOhNzC7DcMRbjWHo6i7NCAhwiMyKDMEczAQMeWjPSUITDrYgHMpjDcdCHHRgRjwmaQGGNDxgo0IyQCggwEAhBYI10ARSGQgERHMuqDxAAGVCSIoMuA1RRciRLyzJoggKI30RZUDAIJ0yQKMZor8IUgo0RDDTRcMyHwpeBRxISkT7QTNLRnL/KUF0gQmhLMiEDEhYQiKKpBEUCQwKTiD1wKGn+/ECwQMBBgI0IoeFAExRAKkjJEE4XGRhLLofrBQMkYPXgYUwA0Oo4CieD//PkxPB3hDnIAPbycJ0uqVAlhiyohBBSBqpGg6ZSCO5YACrYk6WwR1IhlEa5doAjMFYeDgBUYuCnskkPBB0JkigY0UHTJBpwYeDFhQtORAcgQSfC5hYXXOYRAMOMJIv8MhGOMCiVA2/CoyIyZQ6MBR2DGAO01syXrap2DxxYKn5GLGlA6AoMHAxIECVDTJWkIKplZEHWviFMwjRIgoFkIQMnCBABUNOUDCMgJDk44q6qsSYrNB03xAKGDIhKNKRdFizqMwRwJQK5jFqHI/GQCqErFEYiNztoInNWEVIimjK6SBN4lbIqDh1akIH6gkQjIoMBAQS30fVLChNMQU1FMy4xMDBVVVVVVVVVVVVVVVVVVVVVVVVVVVVVVVVVVVVVVVVVVVVVVVVVVVVVVVVVVVVVVVVVVVVVVVVVVZWunxgYLEmTWaYZJAiJjcsmdqWeu0J99AHQjAZjPBqw5g4+goOAQQBg6L+gAKD8XGljDhmJsGnABDoaRlksAoaJNgrIYSHAFanWDHXL5geULETQFQAJay3XWCQQPy4SXiJiICbRYShsvIWKNKWyJtFjBSyfyqqVhhe7w6F0kAqi0oWEVrTJQFiAc21ktGWsQkJEKzOIwOIJ9N1dxk7WJQz93o6m//PkxKRd1DnkUvcwDCxKkdhOyckS/0HY8vp+n3cZzn5bZvVRrSftK9GpW5r7/OIz1lzzI/w20GYghf7VJt0cHsYM+L2rpZuuV5HDZsxNab7TymL6vnPy1e8GsgUaf96pUrY88seFiLuO7GnyTHXgztryjrrx6RR14Wstko3CexmbLWmQC5UtkClLEX6TrhyRuqy9wpJAjkw07mCnnGcN9FbZY98mjFKwl5n/dJm0qV24kueR5Xvk8ESickmFHPblUorWZFnUeV2IXLY9G2uzENTzv5U8sfujicalj+Rh4nmVTEFNRTMuMTAyvDozQ6LmMWUM48Zf41NZUwClA/ZW896g0x8TcCiOYym8CB3MPwFGgcMWgXBq5tAhVN5AKMBAgqMUbpiEsRwhA/ADHmUEMCiVh1tn4cdboWJWeAly9tOIzx4YyDl0hLa1DcTMkpMQK2GAqQBEU7DAy1OUMWAoQXDC5poOJqEpgSSj0Akw5cSFDlUoEXQIiLZsDY0gFLQDyCV4EMHURkAOHBhSEkzDASGEDJcQ8OhARgyhQE+GOuOmSvUGBI9AgIIDU7RHC4yFSxiJswyWrFzC8QWJA0BnEucZhIOjGjxwwRGsOJnXgCAIaAIxbQOkRdTEXSxJFEiT//PkxPdyjDnEAPdyDEcRU42BA55MVcJQOhoVnskfIDDpvhDbXkFC1YdMu0LKDwwqIWYFlkUmSw4joygRmpyhedHoiFLzooLQQxSBgZdCCzEwcUMCK/LgioxhiAYIt6hasKjqwwLkBcAeDCwEFr2joCTApSFjPmo+puXEFRCocvVGJykC4qj29iK6DyRUIkAhEKhL6mASXNUrTZDDWWIBB4QwR3HaI1tfhKKIgVIprpgQYzkSMW+YpKcLJke2aTqqTAU1FdoZqdlvkgUewIVFAYCOnJjCoCfQKJUPVcAjBEcqMYasIycyljOcMOM3NjM3zINIyXOyluO6GPMryPMRhKMDSlMmyUNtFHxE9L8HNHEgeWBmBmXQd8yTQ0mTPmieIFTRfIrh4JNw1iwASpmFpQLaazgOHEkVhDMCBjJgpiM1QIoxDDFxmGcBHh4M3SBKkZOP+MLkGaCCoTAOEIJpCqyFzDFPLuFxhkwgNKgLEQhxg1CITsk7jPOPEAIQGDgEszIHWERhAwOJvoCVg0kCDqrLAiTxogpnsQa4NFAJIeLf1JUSSHnjHDRwLUjIAhDFpSglLeKgKEADJDF6A4lVj/hBoJGDBwSGBgyUowAhEGmSYoi7QgUIWBzyFaAwkPKB//PkxP92LDnAAPdyCJgKHUCpFDigZdtK0RFl3QsYl8IRxwQWXBWIQOYggOAAxRhBg6AvyaBYUOBiAsmZB5CkHAF/UbBqZPdG4wi2IixY4Gv8oKNwZBEWRDB0uybEovAoZgHAaNYMvCoeDhS5sCLSBwb9KYF2QcdPFxUfGEBYlMxaYJABpqki75fBPwDNIA2XIMpRgRBv3tVM2IxRh4hbxmhFp0TwuGhNgptzHMUVAJaTCbbWEgREWZQwQ5DaykjUOxEopgq5AYUVoJE4lKU7A6BR4twHAo7kpANBipVJEuwhEAgh0ycNTEFNRTMuMTAwVVVVM1dfowT21TUtDvMkgUMwMCqTCbGmMHUHcxLgjjEHBmMBIBMwKQNjBHAbBIEhgDgRgAAIfVECI1qEIGKSYJghOMMgMNJBREcpoZgYOoGREdwaQrY1gGsGsmVAkqzQIL1FrRIRwBUwVWCgQJCBTJCUEAFzAGaVGgumgEBwJEGIPTEKbCFmTNDU2HCAwxeQoGESiql3AuAUGCBgZQk4iyLAFOlQSvTFFHxc6aYBUZIJLjWCKxcwTU8Rd0HCQRwIXXQmisC3KYAOUoEPTKBgYoSNjos2GS7wAaXTkqgAFGNKQiHDllC/cXL2JWqNG0CP//PkxO1wJDnEAPZwnC/wVEMjGRpnN1CqnFSRBKCMSk0mEhmPLXZOW8iiRb1IClyBhl3iWk9VBx4yETPwYNRanLBHWkkGtsyktBDRflRcKwUOA5EVF/KHpBlVbrp2q5L3sPJiVRUC125sEYdBb9GAwN2ISgxaPRaVEVAgWletuDXnkWGUOUWS4UMYRBYOYjooMZErkLyPGrpI5XKGBaJkBVA8CfIMCW4Q9EiihBwEHt6GNSBZLHWuiMwRgkQxxGVNVhSEatxbdWihHoKBsnUDFgpfthLnKkeCVtUEMVLF8l7FTEFNRTOeFANVwlwzwxBDV1I7ZhMYoTUhA0hoL6GCeaChzjmtebjJujidZnMBuxwxny0YZJmAmgAJaC3RiQiTxw2ADEg4ASYO+BwQSqSxDUZnlgAYAjIQiJJhJAcXINUdTMCoC0Sq5iAmsoY5hqhga81pDHIFZleCqSDBYMTNCwJmFAUUwnQq8ZwBAgDTAcA87XzGFRlZyPOp8GQUmaY6I8cu4wVCAtiY9IYwxkBs6eN0l1DbAkc00rCMgQBFG2CZY8NGACFBiyLJRJ0EDM9Hvk0ERxIwCCI+GWmYgI6GPGPEPKCB9JwUCJTE4E10JbwmCiLWLRCgYRoAQQdylwju//PkxPtzrDnAAPbyBJVsJLjAQ9lCCUygZMhxGAwqaSKgLMZHTdQBmQIgmMREyhmUM/FSAwgGilDRZpB0oPWgOlEyqNhcdynYBCgkenGOiiNJFNKhDuhwFoSqAECCwggIFCggtS1QYGCq6UySSXQpEWqGBAyBWlMqKF0wuM1yCBQDiaQoUoipUk6ioXIEigsAxZAGXlDgWABB1pnYUHBQYGOSPMYkCmW3paoqqnIPClsCgdQ5U5ckcFBh94EDExLLFBBwBKsuKgPJgSE1Bl0zBIFUg6B20Vy+MrMYMApEgCRiMUQe4y8mcjGpIIMBcI4wBgTDApDcIAlzAKAjMGcB8gA9EYA5gDARhAH5gAAHGA8A6YAgAxQBeDQI0kCIAMwBgDRYBQLgCo1FgAsuBDAdwYo5mVGbyRSiQJM+VR1vmCKSFGOCLPCkCEgLhF6xAGF1TQDApZmGmw4kK1oAqFUY4D0U1D0lBSUqIiIhQ0iRDg34CzbEC7ICXeIGEKAlnQLGYICVY4sAqQc0PMGIAGHmGQCiGGD1CGg1IDGhgdL4FRGEEgHCH0diwMEBl8QuOEAKFomBeECsGYC0pUxgvm2GHKMBL9J8CpAoOgLHXGftwRIWeLCgJYrGBVSCwMHEYStp//PkxP91TDnIAV7IAGiLSGICaAgwEZZoGKgULJAkZaicSlAsCxpXYs4+LMUwVzo3GGWnuzJgS94ZLYBDhfRVV40BKBNyiy6zC6g4Y2gwEGGypCelyhujuHHJCAUdN8WVaeEFBAivQcqAgRoiNImlq0tUuxo+HAUiicyBDNwUbwwdaZEwnS110XASjJAGUmKGhoksYYQKAQha4XwR4ZeSgK1mISLFpHLjXqWwdZQIaFQaXwhxEYr/txL+uopgoUwiNL4Z205pyTz7ufAL8EQKnkxJQneOCCoK1EP1JvigFSEZAmTVHhmqjlmNIAgY26+pi+gtGfYjgChYjBjBLCBBTBHBEFAGQMACBgQjATAbMAkAMwFAA0ERc4wDgHiQuODQYmBo0QkxYAKHjKE0iAERMmXDlCZxigBcoYKgkQRmgxqi2GYxUyKhQqvIR5gxLWzBoygcY0WmgFlZpyJWbbunUXFAgoKAgSODFwWPDwsOMWjAAH6GAAQLTOFhxqABixw0BMauJtySRa4clI6EqwwApK4AhFUzAHQQPMaiEZszosxIoUCg4SPIybkjkm+TDjHmgNGNO8M0OM67AJoKjBGCDCpEBCwoZeGjVKxKBqP0ieiaBkBBjhA0bGkJEEMoaChw//PkxPx8FDnUCZ7QAN6SVVDiABOF0hQEY5kZEeBkEPISUv1NR4CFAq1zDBwQPBogOCGDFwUYMiiCRX2ImPJqvLghA8xpR7wASMMcSna4m0OIjCEYfEAkBDW5peGCBK7DgoJBAIEhiDAxlTAkFky/BIwYYQKDUu4FLAlERhpYDjwBUY0FGBJiwI0JWuNPjKAjFhwaRTIfRHFNNnSljJSwGCoRSD9kJVQFgq7JETAGPN6X7R8Egijw8KVlGgT5x1VVeqaRahCJPtZiFQkKFgKVysTzuciQ2Jxn9DgrGWgKAL3KCzJ2Az5dlHtpyagiAOQUIERkgBoimY0VR1LUlDyJ0nRVEjAIh307kUBFCOYMFZhUCEAEJguYYDwNAhgcMmAQWhmYpHYCIC5iYCioKZ4zJCeY4GAwMLvmBBiEqcYyYEOGdjZpCkDEJTeUGQhgqDLeLjJiOGYusmJGRl64Zski00VBIaE0BoJDiAHexTRlCKyUZxoscQGG/s4jUTGVQx4JAgKOkhi4QY0XkSgY2ZNZbKX/ViTTUoNCEw5jM+MDGjIxFTChIaqbDQOgNFAhJwMEhIVTLQ4ptEIgLApCBoSgUBmfDJqouayQmkKBlKSaMomcrAGvDlgkMJjBiMyYdAIg//PkxN59HDnoMZzYABA1ARfkyssMdKigFQApitFQArqa6+to5VHNuZjDU4hXTByA0k8M0KzSQ0IzzcFIzVRNISwwLWggGAQEDAVK2LBYfMADwEAAoSadHVrpBqwNggyngKFtcZVKjOSw0YGM2BRqvNUMDBDwAFoCHjJxQWfDRS8RGIQHAIEBQMYcAIdRUKSOXyIQhGYOBhkDahDQjCYimLHBYFlFK6sPOE1xUsPQ49bes4ijIWeKVPu9YsEGCh4YDkISChcwwUMrCDMAoxsdMIAQuDAURMaEQchGTBAGDDCRMABBgIkAAcFFaDy0IuXNkyVqYKGKqCgzhNUnHoUBJACeuvw/y40VXIhylbm/0VZ9BzXpmEuM3R7GYtzjsThqhZ066giSCFzozPbE5FRoFhyBZoQnROPHGQ+dmp8cnpacCKLINGM9YyjzMLMokxgUAKgIMBMpE0kUugYSa0JzVnZWcjpoBscQyLugQExizMNMgNLkvsZahrrBAqixgjGOMYoCVzYQQCYhJgiGKIY5BkiF6kPTQhO7k+vzhaCEmMgQUyDzQTNJM0kTONLjOOXNMIcxAVWg0o25jroDEQSgbLRsnCQwgHNac8uz61A0wITOCU4nTQDYgYJhx1HXQZwr//PkxLxyRDmUDdnIADhIp+y5piEmQSYwZa2Hy9pZEuy8sNTzSVhWdOUzpnUbCwJnOnVmemIGiCh5tPm8yaAqoUJxhjGSQXFbWtLr8RXKhJRRbGBBTIHARKsLMi4RZIAgF3S8KAVB1TV+ZprSmSCUAAmIOZA6AF5EBRjmGecWtikWdFE0uSg6y2UOCl6WdLIlxXNSOMMgyyi+L0JDKDMui26WW1q0qa0l8WeMUoz0jRQLeqPGGQZ6BonGSAt5ASYQa1lopEvKyIEgGKUZ6BomIarKLLFmkHkVizwFAMMBmqtyKzBq9IkcYZRmlKRCohmoGmgZoyIyMpkImoyZJAOCXVL1bQQCYhJmGmYeAgkrpO4KJoADMg81FzWTTEFNRTMuMTAwqqqqqqqqqqqqqqqqqqqqqqqqqqqqqqqqqqqqqqqqqqqqqqqqqqqqqqqqqqqqqqqqqqqqqqqqqqqqqqqqqqqqqqqqqqqqqqqqqqqqqqqqqqqqqqqqqqqqqqqqqqqqqqqqqqqqqqqqqqqqqqqqqqqqqqqqqqqqqqqqqqqqqqqqqqqqqqqqqqqqqqqqqqqqqqqqqqqqqqqqqqqqqqqqqqqqqqqqqqqqqqqqqqqqqqqqqqqqqqqqqqqqqqqqqqqq\" type=\"audio/mpeg\" />\n",
              "                    Your browser does not support the audio element.\n",
              "                </audio>\n",
              "              "
            ],
            "text/plain": [
              "<IPython.lib.display.Audio object>"
            ]
          },
          "execution_count": 9,
          "metadata": {},
          "output_type": "execute_result"
        }
      ],
      "source": [
        "IPython.display.Audio(\"output.mp3\")"
      ]
    },
    {
      "cell_type": "markdown",
      "metadata": {
        "id": "3-wUHbs_pRcb"
      },
      "source": [
        "## Image Generation"
      ]
    },
    {
      "cell_type": "code",
      "execution_count": null,
      "metadata": {
        "id": "nxVyFBrxpRcb"
      },
      "outputs": [],
      "source": [
        "if (0):\n",
        "  response = client.images.generate(\n",
        "    model=\"dall-e-3\",\n",
        "    prompt=\"A Pakistani flag with faisal mosque in the background\",\n",
        "    size=\"1024x1024\",\n",
        "    quality=\"standard\",\n",
        "    n=1,\n",
        "  )\n"
      ]
    },
    {
      "cell_type": "code",
      "execution_count": null,
      "metadata": {
        "colab": {
          "base_uri": "https://localhost:8080/"
        },
        "id": "JBo6vfOypRcb",
        "outputId": "e5c61725-ab40-40b5-ddb4-132c89996da3"
      },
      "outputs": [
        {
          "name": "stdout",
          "output_type": "stream",
          "text": [
            "https://oaidalleapiprodscus.blob.core.windows.net/private/org-iRaAYOUszdHz1WdOBUxcAPW9/user-mpADDqxg5yBG3i5Mxn8Mwkvf/img-6YqJiDhVx9OmW2U72dvenz8N.png?st=2024-08-31T09%3A18%3A43Z&se=2024-08-31T11%3A18%3A43Z&sp=r&sv=2024-08-04&sr=b&rscd=inline&rsct=image/png&skoid=d505667d-d6c1-4a0a-bac7-5c84a87759f8&sktid=a48cca56-e6da-484e-a814-9c849652bcb3&skt=2024-08-31T02%3A49%3A54Z&ske=2024-09-01T02%3A49%3A54Z&sks=b&skv=2024-08-04&sig=0uHRTZIoCmj%2Bl0PCqB4z/4YDJXh6dWvVtPjy7E4YU24%3D\n"
          ]
        }
      ],
      "source": [
        "image_url = response.data[0].url\n",
        "print(image_url)"
      ]
    },
    {
      "cell_type": "code",
      "execution_count": null,
      "metadata": {
        "colab": {
          "base_uri": "https://localhost:8080/",
          "height": 1000
        },
        "id": "vtG1AdSGpRcb",
        "outputId": "76e3ac94-6404-4aa9-855f-98fde9efa749"
      },
      "outputs": [
        {
          "data": {
            "text/html": [
              "<img src=\"https://oaidalleapiprodscus.blob.core.windows.net/private/org-iRaAYOUszdHz1WdOBUxcAPW9/user-mpADDqxg5yBG3i5Mxn8Mwkvf/img-6YqJiDhVx9OmW2U72dvenz8N.png?st=2024-08-31T09%3A18%3A43Z&se=2024-08-31T11%3A18%3A43Z&sp=r&sv=2024-08-04&sr=b&rscd=inline&rsct=image/png&skoid=d505667d-d6c1-4a0a-bac7-5c84a87759f8&sktid=a48cca56-e6da-484e-a814-9c849652bcb3&skt=2024-08-31T02%3A49%3A54Z&ske=2024-09-01T02%3A49%3A54Z&sks=b&skv=2024-08-04&sig=0uHRTZIoCmj%2Bl0PCqB4z/4YDJXh6dWvVtPjy7E4YU24%3D\"/>"
            ],
            "text/plain": [
              "<IPython.core.display.Image object>"
            ]
          },
          "execution_count": 17,
          "metadata": {},
          "output_type": "execute_result"
        }
      ],
      "source": [
        "from IPython.display import Image\n",
        "Image(url= image_url)"
      ]
    }
  ],
  "metadata": {
    "colab": {
      "provenance": []
    },
    "kernelspec": {
      "display_name": "Python 3",
      "name": "python3"
    },
    "language_info": {
      "codemirror_mode": {
        "name": "ipython",
        "version": 3
      },
      "file_extension": ".py",
      "mimetype": "text/x-python",
      "name": "python",
      "nbconvert_exporter": "python",
      "pygments_lexer": "ipython3",
      "version": "3.11.7"
    }
  },
  "nbformat": 4,
  "nbformat_minor": 0
}
