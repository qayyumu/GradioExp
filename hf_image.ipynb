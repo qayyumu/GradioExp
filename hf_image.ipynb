{
 "cells": [
  {
   "cell_type": "code",
   "execution_count": null,
   "metadata": {},
   "outputs": [],
   "source": [
    "!pip install PIL\n",
    "!pip install requests\n",
    "!pip install transformer\n",
    "from PIL import Image, ImageDraw\n"
   ]
  },
  {
   "cell_type": "code",
   "execution_count": null,
   "metadata": {},
   "outputs": [],
   "source": [
    "url = \"https://raw.githubusercontent.com/timothybrooks/instruct-pix2pix/main/imgs/example.jpg\"\n",
    "image = Image.open(requests.get(url, stream=True).raw)\n"
   ]
  },
  {
   "cell_type": "code",
   "execution_count": null,
   "metadata": {},
   "outputs": [],
   "source": [
    "from transformers import pipeline\n",
    "model = pipeline(\"object-detection\")\n",
    "result = model(image)\n"
   ]
  },
  {
   "cell_type": "code",
   "execution_count": null,
   "metadata": {},
   "outputs": [],
   "source": [
    "box = result[0][\"box\"]\n",
    "\n",
    "draw = ImageDraw.Draw(image)\n",
    "\n",
    "bounding_box = (box['xmin'], box['ymin'], box['xmax'], box['ymax'])\n",
    "\n",
    "draw.rectangle(bounding_box, outline=\"red\", width=10)\n",
    "\n",
    "image.show()"
   ]
  }
 ],
 "metadata": {
  "language_info": {
   "name": "python"
  }
 },
 "nbformat": 4,
 "nbformat_minor": 2
}
