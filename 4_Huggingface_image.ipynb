{
 "cells": [
  {
   "cell_type": "markdown",
   "metadata": {},
   "source": [
    "<a href=\"https://colab.research.google.com/github/qayyumu/GradioExp/blob/main/Huggingface_image.ipynb\" target=\"_parent\"><img src=\"https://colab.research.google.com/assets/colab-badge.svg\" alt=\"Open In Colab\"/></a>"
   ]
  },
  {
   "cell_type": "code",
   "execution_count": 1,
   "metadata": {},
   "outputs": [
    {
     "name": "stdout",
     "output_type": "stream",
     "text": [
      "Requirement already satisfied: timm in /Users/anaconda3/envs/torchEnv/lib/python3.10/site-packages (1.0.7)\n",
      "Requirement already satisfied: pyyaml in /Users/anaconda3/envs/torchEnv/lib/python3.10/site-packages (from timm) (6.0.1)\n",
      "Requirement already satisfied: safetensors in /Users/anaconda3/envs/torchEnv/lib/python3.10/site-packages (from timm) (0.4.3)\n",
      "Requirement already satisfied: torchvision in /Users/anaconda3/envs/torchEnv/lib/python3.10/site-packages (from timm) (0.15.2)\n",
      "Requirement already satisfied: huggingface_hub in /Users/anaconda3/envs/torchEnv/lib/python3.10/site-packages (from timm) (0.23.4)\n",
      "Requirement already satisfied: torch in /Users/anaconda3/envs/torchEnv/lib/python3.10/site-packages (from timm) (2.0.1)\n",
      "Requirement already satisfied: filelock in /Users/anaconda3/envs/torchEnv/lib/python3.10/site-packages (from huggingface_hub->timm) (3.9.0)\n",
      "Requirement already satisfied: tqdm>=4.42.1 in /Users/anaconda3/envs/torchEnv/lib/python3.10/site-packages (from huggingface_hub->timm) (4.66.4)\n",
      "Requirement already satisfied: packaging>=20.9 in /Users/anaconda3/envs/torchEnv/lib/python3.10/site-packages (from huggingface_hub->timm) (23.2)\n",
      "Requirement already satisfied: typing-extensions>=3.7.4.3 in /Users/anaconda3/envs/torchEnv/lib/python3.10/site-packages (from huggingface_hub->timm) (4.12.2)\n",
      "Requirement already satisfied: requests in /Users/anaconda3/envs/torchEnv/lib/python3.10/site-packages (from huggingface_hub->timm) (2.31.0)\n",
      "Requirement already satisfied: fsspec>=2023.5.0 in /Users/anaconda3/envs/torchEnv/lib/python3.10/site-packages (from huggingface_hub->timm) (2024.6.0)\n",
      "Requirement already satisfied: urllib3<3,>=1.21.1 in /Users/anaconda3/envs/torchEnv/lib/python3.10/site-packages (from requests->huggingface_hub->timm) (2.2.2)\n",
      "Requirement already satisfied: idna<4,>=2.5 in /Users/anaconda3/envs/torchEnv/lib/python3.10/site-packages (from requests->huggingface_hub->timm) (3.4)\n",
      "Requirement already satisfied: charset-normalizer<4,>=2 in /Users/anaconda3/envs/torchEnv/lib/python3.10/site-packages (from requests->huggingface_hub->timm) (3.3.2)\n",
      "Requirement already satisfied: certifi>=2017.4.17 in /Users/anaconda3/envs/torchEnv/lib/python3.10/site-packages (from requests->huggingface_hub->timm) (2024.2.2)\n",
      "Requirement already satisfied: sympy in /Users/anaconda3/envs/torchEnv/lib/python3.10/site-packages (from torch->timm) (1.11.1)\n",
      "Requirement already satisfied: networkx in /Users/anaconda3/envs/torchEnv/lib/python3.10/site-packages (from torch->timm) (3.1)\n",
      "Requirement already satisfied: jinja2 in /Users/anaconda3/envs/torchEnv/lib/python3.10/site-packages (from torch->timm) (3.1.2)\n",
      "Requirement already satisfied: MarkupSafe>=2.0 in /Users/anaconda3/envs/torchEnv/lib/python3.10/site-packages (from jinja2->torch->timm) (2.1.1)\n",
      "Requirement already satisfied: mpmath>=0.19 in /Users/anaconda3/envs/torchEnv/lib/python3.10/site-packages (from sympy->torch->timm) (1.3.0)\n",
      "Requirement already satisfied: numpy in /Users/anaconda3/envs/torchEnv/lib/python3.10/site-packages (from torchvision->timm) (1.25.2)\n",
      "Requirement already satisfied: pillow!=8.3.*,>=5.3.0 in /Users/anaconda3/envs/torchEnv/lib/python3.10/site-packages (from torchvision->timm) (9.4.0)\n",
      "Requirement already satisfied: requests in /Users/anaconda3/envs/torchEnv/lib/python3.10/site-packages (2.31.0)\n",
      "Requirement already satisfied: charset-normalizer<4,>=2 in /Users/anaconda3/envs/torchEnv/lib/python3.10/site-packages (from requests) (3.3.2)\n",
      "Requirement already satisfied: idna<4,>=2.5 in /Users/anaconda3/envs/torchEnv/lib/python3.10/site-packages (from requests) (3.4)\n",
      "Requirement already satisfied: urllib3<3,>=1.21.1 in /Users/anaconda3/envs/torchEnv/lib/python3.10/site-packages (from requests) (2.2.2)\n",
      "Requirement already satisfied: certifi>=2017.4.17 in /Users/anaconda3/envs/torchEnv/lib/python3.10/site-packages (from requests) (2024.2.2)\n",
      "Requirement already satisfied: transformers in /Users/anaconda3/envs/torchEnv/lib/python3.10/site-packages (4.41.2)\n",
      "Requirement already satisfied: tokenizers<0.20,>=0.19 in /Users/anaconda3/envs/torchEnv/lib/python3.10/site-packages (from transformers) (0.19.1)\n",
      "Requirement already satisfied: huggingface-hub<1.0,>=0.23.0 in /Users/anaconda3/envs/torchEnv/lib/python3.10/site-packages (from transformers) (0.23.4)\n",
      "Requirement already satisfied: requests in /Users/anaconda3/envs/torchEnv/lib/python3.10/site-packages (from transformers) (2.31.0)\n",
      "Requirement already satisfied: filelock in /Users/anaconda3/envs/torchEnv/lib/python3.10/site-packages (from transformers) (3.9.0)\n",
      "Requirement already satisfied: tqdm>=4.27 in /Users/anaconda3/envs/torchEnv/lib/python3.10/site-packages (from transformers) (4.66.4)\n",
      "Requirement already satisfied: regex!=2019.12.17 in /Users/anaconda3/envs/torchEnv/lib/python3.10/site-packages (from transformers) (2024.5.15)\n",
      "Requirement already satisfied: safetensors>=0.4.1 in /Users/anaconda3/envs/torchEnv/lib/python3.10/site-packages (from transformers) (0.4.3)\n",
      "Requirement already satisfied: packaging>=20.0 in /Users/anaconda3/envs/torchEnv/lib/python3.10/site-packages (from transformers) (23.2)\n",
      "Requirement already satisfied: pyyaml>=5.1 in /Users/anaconda3/envs/torchEnv/lib/python3.10/site-packages (from transformers) (6.0.1)\n",
      "Requirement already satisfied: numpy>=1.17 in /Users/anaconda3/envs/torchEnv/lib/python3.10/site-packages (from transformers) (1.25.2)\n",
      "Requirement already satisfied: typing-extensions>=3.7.4.3 in /Users/anaconda3/envs/torchEnv/lib/python3.10/site-packages (from huggingface-hub<1.0,>=0.23.0->transformers) (4.12.2)\n",
      "Requirement already satisfied: fsspec>=2023.5.0 in /Users/anaconda3/envs/torchEnv/lib/python3.10/site-packages (from huggingface-hub<1.0,>=0.23.0->transformers) (2024.6.0)\n",
      "Requirement already satisfied: certifi>=2017.4.17 in /Users/anaconda3/envs/torchEnv/lib/python3.10/site-packages (from requests->transformers) (2024.2.2)\n",
      "Requirement already satisfied: charset-normalizer<4,>=2 in /Users/anaconda3/envs/torchEnv/lib/python3.10/site-packages (from requests->transformers) (3.3.2)\n",
      "Requirement already satisfied: idna<4,>=2.5 in /Users/anaconda3/envs/torchEnv/lib/python3.10/site-packages (from requests->transformers) (3.4)\n",
      "Requirement already satisfied: urllib3<3,>=1.21.1 in /Users/anaconda3/envs/torchEnv/lib/python3.10/site-packages (from requests->transformers) (2.2.2)\n"
     ]
    }
   ],
   "source": [
    "#!pip install timm\n",
    "!pip install requests\n",
    "!pip install transformers\n",
    "# !git clone https://github.com/huggingface/transformers.git \n",
    "# !cd transformers\n",
    "# !pip install -e .\n",
    "from PIL import Image, ImageDraw\n",
    "import requests\n"
   ]
  },
  {
   "cell_type": "code",
   "execution_count": 19,
   "metadata": {},
   "outputs": [],
   "source": [
    "url = \"https://c.express.pk/2024/07/2666238-image-1720713313-557-640x480.jpg\" #\"https://raw.githubusercontent.com/timothybrooks/instruct-pix2pix/main/imgs/example.jpg\"\n",
    "image = Image.open(requests.get(url, stream=True).raw)\n"
   ]
  },
  {
   "cell_type": "code",
   "execution_count": 20,
   "metadata": {},
   "outputs": [
    {
     "name": "stderr",
     "output_type": "stream",
     "text": [
      "No model was supplied, defaulted to facebook/detr-resnet-50 and revision 2729413 (https://huggingface.co/facebook/detr-resnet-50).\n",
      "Using a pipeline without specifying a model name and revision in production is not recommended.\n",
      "/Users/anaconda3/envs/torchEnv/lib/python3.10/site-packages/huggingface_hub/file_download.py:1132: FutureWarning: `resume_download` is deprecated and will be removed in version 1.0.0. Downloads always resume when possible. If you want to force a new download, use `force_download=True`.\n",
      "  warnings.warn(\n",
      "Some weights of the model checkpoint at facebook/detr-resnet-50 were not used when initializing DetrForObjectDetection: ['model.backbone.conv_encoder.model.layer1.0.downsample.1.num_batches_tracked', 'model.backbone.conv_encoder.model.layer2.0.downsample.1.num_batches_tracked', 'model.backbone.conv_encoder.model.layer3.0.downsample.1.num_batches_tracked', 'model.backbone.conv_encoder.model.layer4.0.downsample.1.num_batches_tracked']\n",
      "- This IS expected if you are initializing DetrForObjectDetection from the checkpoint of a model trained on another task or with another architecture (e.g. initializing a BertForSequenceClassification model from a BertForPreTraining model).\n",
      "- This IS NOT expected if you are initializing DetrForObjectDetection from the checkpoint of a model that you expect to be exactly identical (initializing a BertForSequenceClassification model from a BertForSequenceClassification model).\n"
     ]
    }
   ],
   "source": [
    "from transformers import pipeline\n",
    "model = pipeline(\"object-detection\")\n",
    "result = model(image)\n"
   ]
  },
  {
   "cell_type": "code",
   "execution_count": 21,
   "metadata": {},
   "outputs": [
    {
     "name": "stdout",
     "output_type": "stream",
     "text": [
      "Label, Score:tie,0.9954857230186462\n",
      "Label, Score:tie,0.9973989725112915\n",
      "Label, Score:person,0.9520674347877502\n",
      "Label, Score:person,0.9981374740600586\n",
      "Label, Score:person,0.9986631870269775\n"
     ]
    }
   ],
   "source": [
    "for i in range(len(result)):\n",
    "    \n",
    "    print(\"Label, Score:\" + result[i][\"label\"] + \",\" + str(result[i][\"score\"]))\n",
    "    box = result[i][\"box\"]\n",
    "\n",
    "    draw = ImageDraw.Draw(image)\n",
    "\n",
    "    bounding_box = (box['xmin'], box['ymin'], box['xmax'], box['ymax'])\n",
    "\n",
    "    draw.rectangle(bounding_box, outline=\"red\", width=5)\n",
    "\n",
    "image.show()"
   ]
  },
  {
   "cell_type": "code",
   "execution_count": 11,
   "metadata": {},
   "outputs": [
    {
     "name": "stdout",
     "output_type": "stream",
     "text": [
      "[{'score': 0.6225835084915161, 'label': 'cell phone', 'box': {'xmin': 294, 'ymin': 179, 'xmax': 366, 'ymax': 235}}, {'score': 0.776757001876831, 'label': 'person', 'box': {'xmin': 0, 'ymin': 2, 'xmax': 489, 'ymax': 513}}, {'score': 0.9635155200958252, 'label': 'person', 'box': {'xmin': 49, 'ymin': 5, 'xmax': 488, 'ymax': 513}}]\n"
     ]
    }
   ],
   "source": [
    "print(result)"
   ]
  },
  {
   "cell_type": "code",
   "execution_count": null,
   "metadata": {},
   "outputs": [],
   "source": []
  }
 ],
 "metadata": {
  "kernelspec": {
   "display_name": "torchEnv",
   "language": "python",
   "name": "torchenv"
  },
  "language_info": {
   "codemirror_mode": {
    "name": "ipython",
    "version": 3
   },
   "file_extension": ".py",
   "mimetype": "text/x-python",
   "name": "python",
   "nbconvert_exporter": "python",
   "pygments_lexer": "ipython3",
   "version": "3.10.8"
  }
 },
 "nbformat": 4,
 "nbformat_minor": 2
}
