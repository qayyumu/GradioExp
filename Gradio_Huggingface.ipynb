{
  "cells": [
    {
      "cell_type": "markdown",
      "metadata": {
        "colab_type": "text",
        "id": "view-in-github"
      },
      "source": [
        "<a href=\"https://colab.research.google.com/github/qayyumu/GradioExp/blob/main/Gradio_Huggingface.ipynb\" target=\"_parent\"><img src=\"https://colab.research.google.com/assets/colab-badge.svg\" alt=\"Open In Colab\"/></a>"
      ]
    },
    {
      "cell_type": "code",
      "execution_count": 1,
      "metadata": {},
      "outputs": [
        {
          "name": "stdout",
          "output_type": "stream",
          "text": [
            "Requirement already satisfied: gradio in /Users/anaconda3/envs/torchEnv/lib/python3.10/site-packages (4.36.1)\n",
            "Requirement already satisfied: pillow<11.0,>=8.0 in /Users/anaconda3/envs/torchEnv/lib/python3.10/site-packages (from gradio) (9.4.0)\n",
            "Requirement already satisfied: pydantic>=2.0 in /Users/anaconda3/envs/torchEnv/lib/python3.10/site-packages (from gradio) (2.4.2)\n",
            "Requirement already satisfied: httpx>=0.24.1 in /Users/anaconda3/envs/torchEnv/lib/python3.10/site-packages (from gradio) (0.26.0)\n",
            "Requirement already satisfied: semantic-version~=2.0 in /Users/anaconda3/envs/torchEnv/lib/python3.10/site-packages (from gradio) (2.10.0)\n",
            "Requirement already satisfied: ffmpy in /Users/anaconda3/envs/torchEnv/lib/python3.10/site-packages (from gradio) (0.3.2)\n",
            "Requirement already satisfied: altair<6.0,>=4.2.0 in /Users/anaconda3/envs/torchEnv/lib/python3.10/site-packages (from gradio) (5.3.0)\n",
            "Requirement already satisfied: python-multipart>=0.0.9 in /Users/anaconda3/envs/torchEnv/lib/python3.10/site-packages (from gradio) (0.0.9)\n",
            "Requirement already satisfied: orjson~=3.0 in /Users/anaconda3/envs/torchEnv/lib/python3.10/site-packages (from gradio) (3.10.5)\n",
            "Requirement already satisfied: gradio-client==1.0.1 in /Users/anaconda3/envs/torchEnv/lib/python3.10/site-packages (from gradio) (1.0.1)\n",
            "Requirement already satisfied: typer<1.0,>=0.12 in /Users/anaconda3/envs/torchEnv/lib/python3.10/site-packages (from gradio) (0.12.3)\n",
            "Requirement already satisfied: urllib3~=2.0 in /Users/anaconda3/envs/torchEnv/lib/python3.10/site-packages (from gradio) (2.2.2)\n",
            "Requirement already satisfied: markupsafe~=2.0 in /Users/anaconda3/envs/torchEnv/lib/python3.10/site-packages (from gradio) (2.1.1)\n",
            "Requirement already satisfied: typing-extensions~=4.0 in /Users/anaconda3/envs/torchEnv/lib/python3.10/site-packages (from gradio) (4.12.2)\n",
            "Requirement already satisfied: jinja2<4.0 in /Users/anaconda3/envs/torchEnv/lib/python3.10/site-packages (from gradio) (3.1.2)\n",
            "Requirement already satisfied: uvicorn>=0.14.0 in /Users/anaconda3/envs/torchEnv/lib/python3.10/site-packages (from gradio) (0.23.2)\n",
            "Requirement already satisfied: importlib-resources<7.0,>=1.3 in /Users/anaconda3/envs/torchEnv/lib/python3.10/site-packages (from gradio) (6.4.0)\n",
            "Requirement already satisfied: huggingface-hub>=0.19.3 in /Users/anaconda3/envs/torchEnv/lib/python3.10/site-packages (from gradio) (0.23.4)\n",
            "Requirement already satisfied: aiofiles<24.0,>=22.0 in /Users/anaconda3/envs/torchEnv/lib/python3.10/site-packages (from gradio) (23.2.1)\n",
            "Requirement already satisfied: pydub in /Users/anaconda3/envs/torchEnv/lib/python3.10/site-packages (from gradio) (0.25.1)\n",
            "Requirement already satisfied: pyyaml<7.0,>=5.0 in /Users/anaconda3/envs/torchEnv/lib/python3.10/site-packages (from gradio) (6.0.1)\n",
            "Requirement already satisfied: ruff>=0.2.2 in /Users/anaconda3/envs/torchEnv/lib/python3.10/site-packages (from gradio) (0.4.10)\n",
            "Requirement already satisfied: packaging in /Users/anaconda3/envs/torchEnv/lib/python3.10/site-packages (from gradio) (23.2)\n",
            "Requirement already satisfied: fastapi in /Users/anaconda3/envs/torchEnv/lib/python3.10/site-packages (from gradio) (0.104.1)\n",
            "Requirement already satisfied: matplotlib~=3.0 in /Users/anaconda3/envs/torchEnv/lib/python3.10/site-packages (from gradio) (3.7.2)\n",
            "Requirement already satisfied: tomlkit==0.12.0 in /Users/anaconda3/envs/torchEnv/lib/python3.10/site-packages (from gradio) (0.12.0)\n",
            "Requirement already satisfied: numpy<3.0,>=1.0 in /Users/anaconda3/envs/torchEnv/lib/python3.10/site-packages (from gradio) (1.25.2)\n",
            "Requirement already satisfied: pandas<3.0,>=1.0 in /Users/anaconda3/envs/torchEnv/lib/python3.10/site-packages (from gradio) (2.2.2)\n",
            "Requirement already satisfied: websockets<12.0,>=10.0 in /Users/anaconda3/envs/torchEnv/lib/python3.10/site-packages (from gradio-client==1.0.1->gradio) (11.0.3)\n",
            "Requirement already satisfied: fsspec in /Users/anaconda3/envs/torchEnv/lib/python3.10/site-packages (from gradio-client==1.0.1->gradio) (2024.5.0)\n",
            "Requirement already satisfied: toolz in /Users/anaconda3/envs/torchEnv/lib/python3.10/site-packages (from altair<6.0,>=4.2.0->gradio) (0.12.1)\n",
            "Requirement already satisfied: jsonschema>=3.0 in /Users/anaconda3/envs/torchEnv/lib/python3.10/site-packages (from altair<6.0,>=4.2.0->gradio) (4.17.3)\n",
            "Requirement already satisfied: certifi in /Users/anaconda3/envs/torchEnv/lib/python3.10/site-packages (from httpx>=0.24.1->gradio) (2024.2.2)\n",
            "Requirement already satisfied: idna in /Users/anaconda3/envs/torchEnv/lib/python3.10/site-packages (from httpx>=0.24.1->gradio) (3.4)\n",
            "Requirement already satisfied: anyio in /Users/anaconda3/envs/torchEnv/lib/python3.10/site-packages (from httpx>=0.24.1->gradio) (3.7.1)\n",
            "Requirement already satisfied: sniffio in /Users/anaconda3/envs/torchEnv/lib/python3.10/site-packages (from httpx>=0.24.1->gradio) (1.2.0)\n",
            "Requirement already satisfied: httpcore==1.* in /Users/anaconda3/envs/torchEnv/lib/python3.10/site-packages (from httpx>=0.24.1->gradio) (1.0.2)\n",
            "Requirement already satisfied: h11<0.15,>=0.13 in /Users/anaconda3/envs/torchEnv/lib/python3.10/site-packages (from httpcore==1.*->httpx>=0.24.1->gradio) (0.14.0)\n",
            "Requirement already satisfied: requests in /Users/anaconda3/envs/torchEnv/lib/python3.10/site-packages (from huggingface-hub>=0.19.3->gradio) (2.32.3)\n",
            "Requirement already satisfied: filelock in /Users/anaconda3/envs/torchEnv/lib/python3.10/site-packages (from huggingface-hub>=0.19.3->gradio) (3.9.0)\n",
            "Requirement already satisfied: tqdm>=4.42.1 in /Users/anaconda3/envs/torchEnv/lib/python3.10/site-packages (from huggingface-hub>=0.19.3->gradio) (4.66.4)\n",
            "Requirement already satisfied: pyrsistent!=0.17.0,!=0.17.1,!=0.17.2,>=0.14.0 in /Users/anaconda3/envs/torchEnv/lib/python3.10/site-packages (from jsonschema>=3.0->altair<6.0,>=4.2.0->gradio) (0.18.0)\n",
            "Requirement already satisfied: attrs>=17.4.0 in /Users/anaconda3/envs/torchEnv/lib/python3.10/site-packages (from jsonschema>=3.0->altair<6.0,>=4.2.0->gradio) (22.1.0)\n",
            "Requirement already satisfied: contourpy>=1.0.1 in /Users/anaconda3/envs/torchEnv/lib/python3.10/site-packages (from matplotlib~=3.0->gradio) (1.0.5)\n",
            "Requirement already satisfied: kiwisolver>=1.0.1 in /Users/anaconda3/envs/torchEnv/lib/python3.10/site-packages (from matplotlib~=3.0->gradio) (1.4.4)\n",
            "Requirement already satisfied: pyparsing<3.1,>=2.3.1 in /Users/anaconda3/envs/torchEnv/lib/python3.10/site-packages (from matplotlib~=3.0->gradio) (3.0.9)\n",
            "Requirement already satisfied: cycler>=0.10 in /Users/anaconda3/envs/torchEnv/lib/python3.10/site-packages (from matplotlib~=3.0->gradio) (0.11.0)\n",
            "Requirement already satisfied: fonttools>=4.22.0 in /Users/anaconda3/envs/torchEnv/lib/python3.10/site-packages (from matplotlib~=3.0->gradio) (4.25.0)\n",
            "Requirement already satisfied: python-dateutil>=2.7 in /Users/anaconda3/envs/torchEnv/lib/python3.10/site-packages (from matplotlib~=3.0->gradio) (2.8.2)\n",
            "Requirement already satisfied: tzdata>=2022.7 in /Users/anaconda3/envs/torchEnv/lib/python3.10/site-packages (from pandas<3.0,>=1.0->gradio) (2023.3)\n",
            "Requirement already satisfied: pytz>=2020.1 in /Users/anaconda3/envs/torchEnv/lib/python3.10/site-packages (from pandas<3.0,>=1.0->gradio) (2022.7)\n",
            "Requirement already satisfied: annotated-types>=0.4.0 in /Users/anaconda3/envs/torchEnv/lib/python3.10/site-packages (from pydantic>=2.0->gradio) (0.6.0)\n",
            "Requirement already satisfied: pydantic-core==2.10.1 in /Users/anaconda3/envs/torchEnv/lib/python3.10/site-packages (from pydantic>=2.0->gradio) (2.10.1)\n",
            "Requirement already satisfied: six>=1.5 in /Users/anaconda3/envs/torchEnv/lib/python3.10/site-packages (from python-dateutil>=2.7->matplotlib~=3.0->gradio) (1.16.0)\n",
            "Requirement already satisfied: click>=8.0.0 in /Users/anaconda3/envs/torchEnv/lib/python3.10/site-packages (from typer<1.0,>=0.12->gradio) (8.1.7)\n",
            "Requirement already satisfied: rich>=10.11.0 in /Users/anaconda3/envs/torchEnv/lib/python3.10/site-packages (from typer<1.0,>=0.12->gradio) (13.7.1)\n",
            "Requirement already satisfied: shellingham>=1.3.0 in /Users/anaconda3/envs/torchEnv/lib/python3.10/site-packages (from typer<1.0,>=0.12->gradio) (1.5.4)\n",
            "Requirement already satisfied: markdown-it-py>=2.2.0 in /Users/anaconda3/envs/torchEnv/lib/python3.10/site-packages (from rich>=10.11.0->typer<1.0,>=0.12->gradio) (3.0.0)\n",
            "Requirement already satisfied: pygments<3.0.0,>=2.13.0 in /Users/anaconda3/envs/torchEnv/lib/python3.10/site-packages (from rich>=10.11.0->typer<1.0,>=0.12->gradio) (2.18.0)\n",
            "Requirement already satisfied: mdurl~=0.1 in /Users/anaconda3/envs/torchEnv/lib/python3.10/site-packages (from markdown-it-py>=2.2.0->rich>=10.11.0->typer<1.0,>=0.12->gradio) (0.1.2)\n",
            "Requirement already satisfied: exceptiongroup in /Users/anaconda3/envs/torchEnv/lib/python3.10/site-packages (from anyio->httpx>=0.24.1->gradio) (1.0.4)\n",
            "Requirement already satisfied: starlette<0.28.0,>=0.27.0 in /Users/anaconda3/envs/torchEnv/lib/python3.10/site-packages (from fastapi->gradio) (0.27.0)\n",
            "Requirement already satisfied: charset-normalizer<4,>=2 in /Users/anaconda3/envs/torchEnv/lib/python3.10/site-packages (from requests->huggingface-hub>=0.19.3->gradio) (3.3.2)\n",
            "Requirement already satisfied: transformers in /Users/anaconda3/envs/torchEnv/lib/python3.10/site-packages (4.41.2)\n",
            "Requirement already satisfied: huggingface-hub<1.0,>=0.23.0 in /Users/anaconda3/envs/torchEnv/lib/python3.10/site-packages (from transformers) (0.23.4)\n",
            "Requirement already satisfied: requests in /Users/anaconda3/envs/torchEnv/lib/python3.10/site-packages (from transformers) (2.32.3)\n",
            "Requirement already satisfied: tokenizers<0.20,>=0.19 in /Users/anaconda3/envs/torchEnv/lib/python3.10/site-packages (from transformers) (0.19.1)\n",
            "Requirement already satisfied: numpy>=1.17 in /Users/anaconda3/envs/torchEnv/lib/python3.10/site-packages (from transformers) (1.25.2)\n",
            "Requirement already satisfied: regex!=2019.12.17 in /Users/anaconda3/envs/torchEnv/lib/python3.10/site-packages (from transformers) (2024.5.15)\n",
            "Requirement already satisfied: filelock in /Users/anaconda3/envs/torchEnv/lib/python3.10/site-packages (from transformers) (3.9.0)\n",
            "Requirement already satisfied: safetensors>=0.4.1 in /Users/anaconda3/envs/torchEnv/lib/python3.10/site-packages (from transformers) (0.4.3)\n",
            "Requirement already satisfied: packaging>=20.0 in /Users/anaconda3/envs/torchEnv/lib/python3.10/site-packages (from transformers) (23.2)\n",
            "Requirement already satisfied: tqdm>=4.27 in /Users/anaconda3/envs/torchEnv/lib/python3.10/site-packages (from transformers) (4.66.4)\n",
            "Requirement already satisfied: pyyaml>=5.1 in /Users/anaconda3/envs/torchEnv/lib/python3.10/site-packages (from transformers) (6.0.1)\n",
            "Requirement already satisfied: fsspec>=2023.5.0 in /Users/anaconda3/envs/torchEnv/lib/python3.10/site-packages (from huggingface-hub<1.0,>=0.23.0->transformers) (2024.5.0)\n",
            "Requirement already satisfied: typing-extensions>=3.7.4.3 in /Users/anaconda3/envs/torchEnv/lib/python3.10/site-packages (from huggingface-hub<1.0,>=0.23.0->transformers) (4.12.2)\n",
            "Requirement already satisfied: urllib3<3,>=1.21.1 in /Users/anaconda3/envs/torchEnv/lib/python3.10/site-packages (from requests->transformers) (2.2.2)\n",
            "Requirement already satisfied: idna<4,>=2.5 in /Users/anaconda3/envs/torchEnv/lib/python3.10/site-packages (from requests->transformers) (3.4)\n",
            "Requirement already satisfied: certifi>=2017.4.17 in /Users/anaconda3/envs/torchEnv/lib/python3.10/site-packages (from requests->transformers) (2024.2.2)\n",
            "Requirement already satisfied: charset-normalizer<4,>=2 in /Users/anaconda3/envs/torchEnv/lib/python3.10/site-packages (from requests->transformers) (3.3.2)\n"
          ]
        }
      ],
      "source": [
        "!pip install gradio\n",
        "!pip install transformers\n"
      ]
    },
    {
      "cell_type": "code",
      "execution_count": 2,
      "metadata": {
        "colab": {
          "base_uri": "https://localhost:8080/",
          "height": 1000
        },
        "id": "OYG-gYTLoFfN",
        "outputId": "e9bb8daf-40a2-4795-cd21-44d4b2360719"
      },
      "outputs": [
        {
          "name": "stderr",
          "output_type": "stream",
          "text": [
            "/Users/anaconda3/envs/torchEnv/lib/python3.10/site-packages/pandas/core/arrays/masked.py:60: UserWarning: Pandas requires version '1.3.6' or newer of 'bottleneck' (version '1.3.5' currently installed).\n",
            "  from pandas.core import (\n",
            "No model was supplied, defaulted to openai-community/gpt2 and revision 6c0e608 (https://huggingface.co/openai-community/gpt2).\n",
            "Using a pipeline without specifying a model name and revision in production is not recommended.\n",
            "/Users/anaconda3/envs/torchEnv/lib/python3.10/site-packages/huggingface_hub/file_download.py:1132: FutureWarning: `resume_download` is deprecated and will be removed in version 1.0.0. Downloads always resume when possible. If you want to force a new download, use `force_download=True`.\n",
            "  warnings.warn(\n"
          ]
        },
        {
          "data": {
            "application/vnd.jupyter.widget-view+json": {
              "model_id": "c8ea9539e3ce420c8a8e4b3cae954e29",
              "version_major": 2,
              "version_minor": 0
            },
            "text/plain": [
              "config.json:   0%|          | 0.00/665 [00:00<?, ?B/s]"
            ]
          },
          "metadata": {},
          "output_type": "display_data"
        },
        {
          "data": {
            "application/vnd.jupyter.widget-view+json": {
              "model_id": "7e6b542ca7004f03827434814437ee80",
              "version_major": 2,
              "version_minor": 0
            },
            "text/plain": [
              "model.safetensors:   0%|          | 0.00/548M [00:00<?, ?B/s]"
            ]
          },
          "metadata": {},
          "output_type": "display_data"
        },
        {
          "data": {
            "application/vnd.jupyter.widget-view+json": {
              "model_id": "bce43cb28458438ea86e3f9762afb039",
              "version_major": 2,
              "version_minor": 0
            },
            "text/plain": [
              "generation_config.json:   0%|          | 0.00/124 [00:00<?, ?B/s]"
            ]
          },
          "metadata": {},
          "output_type": "display_data"
        },
        {
          "data": {
            "application/vnd.jupyter.widget-view+json": {
              "model_id": "e637ecab2e6d4f14b133d8ffe84214c4",
              "version_major": 2,
              "version_minor": 0
            },
            "text/plain": [
              "tokenizer_config.json:   0%|          | 0.00/26.0 [00:00<?, ?B/s]"
            ]
          },
          "metadata": {},
          "output_type": "display_data"
        },
        {
          "data": {
            "application/vnd.jupyter.widget-view+json": {
              "model_id": "e0fbcdcff9f5475e9ffda12042ffd318",
              "version_major": 2,
              "version_minor": 0
            },
            "text/plain": [
              "vocab.json:   0%|          | 0.00/1.04M [00:00<?, ?B/s]"
            ]
          },
          "metadata": {},
          "output_type": "display_data"
        },
        {
          "data": {
            "application/vnd.jupyter.widget-view+json": {
              "model_id": "5852a2e44c644339bd9b6d164d452f09",
              "version_major": 2,
              "version_minor": 0
            },
            "text/plain": [
              "merges.txt:   0%|          | 0.00/456k [00:00<?, ?B/s]"
            ]
          },
          "metadata": {},
          "output_type": "display_data"
        },
        {
          "data": {
            "application/vnd.jupyter.widget-view+json": {
              "model_id": "23233b0b56a742a9893fafbd91a21533",
              "version_major": 2,
              "version_minor": 0
            },
            "text/plain": [
              "tokenizer.json:   0%|          | 0.00/1.36M [00:00<?, ?B/s]"
            ]
          },
          "metadata": {},
          "output_type": "display_data"
        }
      ],
      "source": [
        "from transformers import pipeline\n",
        "\n",
        "model = pipeline(\"text-generation\")\n",
        "\n",
        "\n",
        "def predict(prompt):\n",
        "    completion = model(prompt)[0][\"generated_text\"]\n",
        "    return completion"
      ]
    },
    {
      "cell_type": "code",
      "execution_count": 3,
      "metadata": {},
      "outputs": [
        {
          "name": "stdout",
          "output_type": "stream",
          "text": [
            "Running on local URL:  http://127.0.0.1:7860\n",
            "\n",
            "Thanks for being a Gradio user! If you have questions or feedback, please join our Discord server and chat with us: https://discord.gg/feTf9x3ZSB\n",
            "\n",
            "To create a public link, set `share=True` in `launch()`.\n"
          ]
        },
        {
          "data": {
            "text/html": [
              "<div><iframe src=\"http://127.0.0.1:7860/\" width=\"100%\" height=\"500\" allow=\"autoplay; camera; microphone; clipboard-read; clipboard-write;\" frameborder=\"0\" allowfullscreen></iframe></div>"
            ],
            "text/plain": [
              "<IPython.core.display.HTML object>"
            ]
          },
          "metadata": {},
          "output_type": "display_data"
        },
        {
          "data": {
            "text/plain": []
          },
          "execution_count": 3,
          "metadata": {},
          "output_type": "execute_result"
        },
        {
          "name": "stderr",
          "output_type": "stream",
          "text": [
            "Setting `pad_token_id` to `eos_token_id`:50256 for open-end generation.\n",
            "Setting `pad_token_id` to `eos_token_id`:50256 for open-end generation.\n"
          ]
        }
      ],
      "source": [
        "import gradio as gr\n",
        "\n",
        "gr.Interface(fn=predict, inputs=\"text\", outputs=\"text\").launch()"
      ]
    }
  ],
  "metadata": {
    "colab": {
      "authorship_tag": "ABX9TyM6WotKKo9LMngYJIwVublI",
      "include_colab_link": true,
      "provenance": []
    },
    "kernelspec": {
      "display_name": "torchEnv",
      "language": "python",
      "name": "torchenv"
    },
    "language_info": {
      "codemirror_mode": {
        "name": "ipython",
        "version": 3
      },
      "file_extension": ".py",
      "mimetype": "text/x-python",
      "name": "python",
      "nbconvert_exporter": "python",
      "pygments_lexer": "ipython3",
      "version": "3.10.8"
    }
  },
  "nbformat": 4,
  "nbformat_minor": 0
}
